{
 "cells": [
  {
   "cell_type": "markdown",
   "id": "abd9b504",
   "metadata": {
    "ExecuteTime": {
     "end_time": "2022-07-30T08:06:36.541139Z",
     "start_time": "2022-07-30T08:06:36.410518Z"
    }
   },
   "source": [
    "https://www.dyalogaplcompetition.com/?goto=P1Intro"
   ]
  },
  {
   "cell_type": "code",
   "execution_count": 1,
   "id": "4bec2298",
   "metadata": {
    "ExecuteTime": {
     "end_time": "2022-07-30T07:30:41.388437Z",
     "start_time": "2022-07-30T07:30:38.773530Z"
    }
   },
   "outputs": [
    {
     "data": {
      "text/html": [
       "<span style=\"white-space:pre; font-family: monospace\">\n",
       "Rebuilding user command cache... done\n",
       "</span>"
      ]
     },
     "execution_count": 1,
     "metadata": {},
     "output_type": "execute_result"
    },
    {
     "data": {
      "text/html": [
       "<span style=\"white-space:pre; font-family: monospace\">┌→────────────────┐\n",
       "│Was ON -style=max│\n",
       "└─────────────────┘\n",
       "</span>"
      ]
     },
     "execution_count": 1,
     "metadata": {},
     "output_type": "execute_result"
    }
   ],
   "source": [
    "]Boxing on -style=max\n",
    "'cmpx'⎕cy'dfns'"
   ]
  },
  {
   "cell_type": "raw",
   "id": "63cea8ed",
   "metadata": {
    "ExecuteTime": {
     "end_time": "2022-07-30T07:57:44.713653Z",
     "start_time": "2022-07-30T07:57:44.026042Z"
    }
   },
   "source": [
    "Participants (@fast.ai forum user name):\n",
    "E: @Eitanless - per submission\n",
    "F: @Eitanless - Dfn form, if any\n",
    "R: @rak1507 - Tacit\n",
    "D: @rak1507 - Dfn form using https://tacit.help/\n",
    "M: @Moody"
   ]
  },
  {
   "cell_type": "markdown",
   "id": "9956b70f",
   "metadata": {},
   "source": [
    "# DNA"
   ]
  },
  {
   "cell_type": "code",
   "execution_count": 2,
   "id": "9e083981",
   "metadata": {
    "ExecuteTime": {
     "end_time": "2022-07-30T07:30:47.010581Z",
     "start_time": "2022-07-30T07:30:41.388437Z"
    }
   },
   "outputs": [
    {
     "data": {
      "text/html": [
       "<span style=\"white-space:pre; font-family: monospace\">┌→─────────────────────────────────────────────────────────────────┐\n",
       "↓  M inp   → 6.8E¯7 |   0% ⎕⎕⎕⎕⎕⎕⎕⎕⎕⎕⎕⎕⎕⎕⎕⎕⎕⎕⎕⎕                    │\n",
       "│  Mv2 inp → 1.3E¯6 | +95% ⎕⎕⎕⎕⎕⎕⎕⎕⎕⎕⎕⎕⎕⎕⎕⎕⎕⎕⎕⎕⎕⎕⎕⎕⎕⎕⎕⎕⎕⎕⎕⎕⎕⎕⎕⎕⎕⎕⎕⎕│\n",
       "└──────────────────────────────────────────────────────────────────┘\n",
       "</span>"
      ]
     },
     "execution_count": 2,
     "metadata": {},
     "output_type": "execute_result"
    }
   ],
   "source": [
    "inp ← 'AGCTTTTCATTCTGACTGCAACGGGCAATATGTCTCTGTGTGGATTAAAAAAAGAGTGTCTGATAGCAGC'\n",
    "\n",
    "M←{+/'ACGT'∘.=,⍵}\n",
    "Mv2←{(+/⍵='A') (+/⍵='C') (+/⍵='G') (+/⍵='T')} ⍝ also a gold trophy answer\n",
    "\n",
    "cmpx'M inp' 'Mv2 inp'"
   ]
  },
  {
   "cell_type": "markdown",
   "id": "f033198f",
   "metadata": {},
   "source": [
    "# Mutations - return an integer representing the Hamming distance"
   ]
  },
  {
   "cell_type": "code",
   "execution_count": 3,
   "id": "049ce329",
   "metadata": {
    "ExecuteTime": {
     "end_time": "2022-07-30T07:30:54.578184Z",
     "start_time": "2022-07-30T07:30:47.015544Z"
    }
   },
   "outputs": [
    {
     "data": {
      "text/html": [
       "<span style=\"white-space:pre; font-family: monospace\">┌→────────────────────────────────────────────────────────────────────┐\n",
       "↓  lhs E rhs → 2.2E¯7 |    0% ⎕⎕⎕⎕⎕⎕⎕⎕⎕⎕⎕⎕⎕⎕⎕⎕⎕⎕⎕                     │\n",
       "│  lhs R rhs → 3.6E¯7 |  +62% ⎕⎕⎕⎕⎕⎕⎕⎕⎕⎕⎕⎕⎕⎕⎕⎕⎕⎕⎕⎕⎕⎕⎕⎕⎕⎕⎕⎕⎕⎕⎕         │\n",
       "│  lhs M rhs → 4.7E¯7 | +113% ⎕⎕⎕⎕⎕⎕⎕⎕⎕⎕⎕⎕⎕⎕⎕⎕⎕⎕⎕⎕⎕⎕⎕⎕⎕⎕⎕⎕⎕⎕⎕⎕⎕⎕⎕⎕⎕⎕⎕⎕│\n",
       "└─────────────────────────────────────────────────────────────────────┘\n",
       "</span>"
      ]
     },
     "execution_count": 3,
     "metadata": {},
     "output_type": "execute_result"
    }
   ],
   "source": [
    "lhs ← 'GAGCCTACTAACGGGAT'\n",
    "rhs ← 'CATCGTAATGACGGCCT'  ⍝ ans:7\n",
    "\n",
    "E ← +/≠\n",
    "R ← +.≠\n",
    "M ← {+/⍺≠⍵}\n",
    "\n",
    "cmpx'lhs E rhs' 'lhs R rhs' 'lhs M rhs'"
   ]
  },
  {
   "cell_type": "markdown",
   "id": "e4425e3e",
   "metadata": {},
   "source": [
    "# Uniquely Qualified"
   ]
  },
  {
   "cell_type": "code",
   "execution_count": 16,
   "id": "d3610839",
   "metadata": {
    "ExecuteTime": {
     "end_time": "2022-07-30T07:41:27.764529Z",
     "start_time": "2022-07-30T07:41:12.258253Z"
    }
   },
   "outputs": [
    {
     "data": {
      "text/html": [
       "<span style=\"white-space:pre; font-family: monospace\">┌→───────────────────────────────────────────────────────────────────┐\n",
       "↓  lhs E rhs → 9.3E¯7 |   0% ⎕⎕⎕⎕⎕⎕⎕⎕⎕⎕⎕⎕⎕⎕⎕⎕⎕⎕⎕⎕⎕⎕⎕⎕⎕               │\n",
       "│  lhs F rhs → 1.5E¯6 | +61% ⎕⎕⎕⎕⎕⎕⎕⎕⎕⎕⎕⎕⎕⎕⎕⎕⎕⎕⎕⎕⎕⎕⎕⎕⎕⎕⎕⎕⎕⎕⎕⎕⎕⎕⎕⎕⎕⎕⎕⎕│\n",
       "│  lhs R rhs → 8.6E¯7 |  -8% ⎕⎕⎕⎕⎕⎕⎕⎕⎕⎕⎕⎕⎕⎕⎕⎕⎕⎕⎕⎕⎕⎕⎕                 │\n",
       "│  lhs D rhs → 1.5E¯6 | +60% ⎕⎕⎕⎕⎕⎕⎕⎕⎕⎕⎕⎕⎕⎕⎕⎕⎕⎕⎕⎕⎕⎕⎕⎕⎕⎕⎕⎕⎕⎕⎕⎕⎕⎕⎕⎕⎕⎕⎕⎕│\n",
       "│  lhs M rhs → 1.4E¯6 | +54% ⎕⎕⎕⎕⎕⎕⎕⎕⎕⎕⎕⎕⎕⎕⎕⎕⎕⎕⎕⎕⎕⎕⎕⎕⎕⎕⎕⎕⎕⎕⎕⎕⎕⎕⎕⎕⎕⎕  │\n",
       "└────────────────────────────────────────────────────────────────────┘\n",
       "</span>"
      ]
     },
     "execution_count": 16,
     "metadata": {},
     "output_type": "execute_result"
    }
   ],
   "source": [
    "lhs ← (2 2⍴'Hello'(⊂'World')(2 2⍴⍳4)42)\n",
    "rhs ← 42 'Have a nice day'\n",
    "\n",
    "E ← (~,~⍨)⍥,\n",
    "F ← {((,⍺)~(,⍵)),((,⍵)~(,⍺))}\n",
    "R ← (,~∩)⍥,\n",
    "D ← {((,⍺),(,⍵))~((,⍺)∩(,⍵))}\n",
    "M ← {((,⍺)∪,⍵)~((,⍺)∩,⍵)}        ⍝ can't run without curly brackets\n",
    "\n",
    "cmpx 'lhs E rhs' 'lhs F rhs' 'lhs R rhs' 'lhs D rhs' 'lhs M rhs'"
   ]
  },
  {
   "cell_type": "markdown",
   "id": "d1973c6a",
   "metadata": {},
   "source": [
    "# In the Long One"
   ]
  },
  {
   "cell_type": "code",
   "execution_count": 17,
   "id": "b7bee933",
   "metadata": {
    "ExecuteTime": {
     "end_time": "2022-07-30T07:44:12.918819Z",
     "start_time": "2022-07-30T07:43:58.882163Z"
    }
   },
   "outputs": [
    {
     "data": {
      "text/html": [
       "<span style=\"white-space:pre; font-family: monospace\">┌→───────────────────────────────────────────────────────────────┐\n",
       "↓  E inp → 9.1E¯7 |   0% ⎕⎕⎕⎕⎕⎕⎕⎕⎕⎕⎕⎕⎕⎕⎕⎕⎕⎕⎕⎕⎕⎕⎕⎕⎕⎕⎕⎕            │\n",
       "│  F inp → 1.3E¯6 | +45% ⎕⎕⎕⎕⎕⎕⎕⎕⎕⎕⎕⎕⎕⎕⎕⎕⎕⎕⎕⎕⎕⎕⎕⎕⎕⎕⎕⎕⎕⎕⎕⎕⎕⎕⎕⎕⎕⎕⎕⎕│\n",
       "│  R inp → 8.4E¯7 |  -8% ⎕⎕⎕⎕⎕⎕⎕⎕⎕⎕⎕⎕⎕⎕⎕⎕⎕⎕⎕⎕⎕⎕⎕⎕⎕⎕              │\n",
       "│  D inp → 1.0E¯6 | +15% ⎕⎕⎕⎕⎕⎕⎕⎕⎕⎕⎕⎕⎕⎕⎕⎕⎕⎕⎕⎕⎕⎕⎕⎕⎕⎕⎕⎕⎕⎕⎕⎕        │\n",
       "│  M inp → 1.2E¯6 | +36% ⎕⎕⎕⎕⎕⎕⎕⎕⎕⎕⎕⎕⎕⎕⎕⎕⎕⎕⎕⎕⎕⎕⎕⎕⎕⎕⎕⎕⎕⎕⎕⎕⎕⎕⎕⎕⎕⎕  │\n",
       "└────────────────────────────────────────────────────────────────┘\n",
       "</span>"
      ]
     },
     "execution_count": 17,
     "metadata": {},
     "output_type": "execute_result"
    }
   ],
   "source": [
    "inp ← 12/0 1 0 1\n",
    "\n",
    "E ← ⌈/0,≢¨⍤⊆⍨∘,\n",
    "F ← {(⌈/)(0,((≢¨)((,⍵)⊆(,⍵))))}\n",
    "R ← ≢∘⍉∘↑,⊆,\n",
    "D ← {≢(⍉(↑((,⍵)⊆(,⍵))))}\n",
    "M ← {⍵≡1:1⋄0=+/⍵:0⋄⌈/+/¨(⍵⊆⍵)}\n",
    "\n",
    "cmpx 'E inp' 'F inp' 'R inp' 'D inp' 'M inp'"
   ]
  },
  {
   "cell_type": "raw",
   "id": "297f48da",
   "metadata": {
    "ExecuteTime": {
     "end_time": "2022-07-28T12:12:06.604379Z",
     "start_time": "2022-07-28T12:12:06.024281Z"
    }
   },
   "source": [
    "M ←{⍵≡1:1 ⋄    ⍝ if input exactly equal to one, return one\n",
    "    0=+/⍵:0 ⋄  ⍝ if the sum of input equal zero, return zero\n",
    "    ⌈/         ⍝ max reduce from the list\n",
    "    +/¨        ⍝ cummulated sum for each subset\n",
    "    (⍵⊆⍵)}     ⍝ partition subset of 1s together"
   ]
  },
  {
   "cell_type": "markdown",
   "id": "a535d9be",
   "metadata": {},
   "source": [
    "# Stairway"
   ]
  },
  {
   "cell_type": "code",
   "execution_count": 19,
   "id": "ed069c50",
   "metadata": {
    "ExecuteTime": {
     "end_time": "2022-07-30T07:47:53.400918Z",
     "start_time": "2022-07-30T07:47:42.314171Z"
    }
   },
   "outputs": [
    {
     "data": {
      "text/html": [
       "<span style=\"white-space:pre; font-family: monospace\">┌→───────────────────────────────────────────────────────────────┐\n",
       "↓  E inp → 1.7E¯6 |   0% ⎕⎕⎕⎕⎕⎕⎕⎕⎕⎕⎕⎕⎕⎕⎕⎕⎕⎕⎕⎕⎕                   │\n",
       "│  F inp → 2.5E¯6 | +43% ⎕⎕⎕⎕⎕⎕⎕⎕⎕⎕⎕⎕⎕⎕⎕⎕⎕⎕⎕⎕⎕⎕⎕⎕⎕⎕⎕⎕⎕⎕          │\n",
       "│  R inp → 1.5E¯6 | -12% ⎕⎕⎕⎕⎕⎕⎕⎕⎕⎕⎕⎕⎕⎕⎕⎕⎕⎕⎕                     │\n",
       "│  M inp → 3.3E¯6 | +91% ⎕⎕⎕⎕⎕⎕⎕⎕⎕⎕⎕⎕⎕⎕⎕⎕⎕⎕⎕⎕⎕⎕⎕⎕⎕⎕⎕⎕⎕⎕⎕⎕⎕⎕⎕⎕⎕⎕⎕⎕│\n",
       "└────────────────────────────────────────────────────────────────┘\n",
       "</span>"
      ]
     },
     "execution_count": 19,
     "metadata": {},
     "output_type": "execute_result"
    }
   ],
   "source": [
    "inp ← 10\n",
    "\n",
    "E ← ⌽∘↑⍴∘'⎕'¨∘⍳\n",
    "F ← {⌽(↑(({⍵⍴'⎕'}¨)(⍳⍵)))}\n",
    "R ← ⌽⍤↑⍳⍴¨'⎕'⍨                  ⍝ can't transform to  Dfn form\n",
    "M ← {⍵≡0:(0 0⍴'')⋄⍵ ⍵⍴⍕∊((¯1×⍵)↑¨(⍳⍵)∘.⍴'⎕')}  \n",
    "\n",
    "cmpx 'E inp' 'F inp' 'R inp' 'M inp'"
   ]
  },
  {
   "cell_type": "raw",
   "id": "bf1efcb8",
   "metadata": {
    "ExecuteTime": {
     "end_time": "2022-07-28T12:17:31.510641Z",
     "start_time": "2022-07-28T12:17:31.384611Z"
    }
   },
   "source": [
    "M ← {\n",
    "⍵≡0:(0 0⍴' ') ⋄ ⍝ if input is exactly equal to zero, return 0x0 matric\n",
    "⍵ ⍵⍴            ⍝ create a N by N matric\n",
    "⍕               ⍝ format the result\n",
    "∊               ⍝ enlist the result\n",
    "(¯1×⍵)↑¨        ⍝ right align with the length of N (input)\n",
    "(⍳⍵)∘.⍴'⎕')     ⍝ generate boxes instead of iota numbers\n",
    " }  "
   ]
  },
  {
   "cell_type": "markdown",
   "id": "48df4677",
   "metadata": {},
   "source": [
    "# Pyramid"
   ]
  },
  {
   "cell_type": "code",
   "execution_count": 20,
   "id": "6ebbdf22",
   "metadata": {
    "ExecuteTime": {
     "end_time": "2022-07-30T07:49:36.906957Z",
     "start_time": "2022-07-30T07:49:24.921973Z"
    }
   },
   "outputs": [
    {
     "data": {
      "text/html": [
       "<span style=\"white-space:pre; font-family: monospace\">┌→─────────────────────────────────────────────────────────────────┐\n",
       "↓  E inp → 1.2E¯6 |     0% ⎕⎕⎕⎕                                    │\n",
       "│  F inp → 2.6E¯6 |  +123% ⎕⎕⎕⎕⎕⎕⎕⎕                                │\n",
       "│  R inp → 1.2E¯6 |    +4% ⎕⎕⎕⎕                                    │\n",
       "│  D inp → 2.1E¯6 |   +80% ⎕⎕⎕⎕⎕⎕⎕                                 │\n",
       "│  M inp → 1.3E¯5 | +1009% ⎕⎕⎕⎕⎕⎕⎕⎕⎕⎕⎕⎕⎕⎕⎕⎕⎕⎕⎕⎕⎕⎕⎕⎕⎕⎕⎕⎕⎕⎕⎕⎕⎕⎕⎕⎕⎕⎕⎕⎕│\n",
       "└──────────────────────────────────────────────────────────────────┘\n",
       "</span>"
      ]
     },
     "execution_count": 20,
     "metadata": {},
     "output_type": "execute_result"
    }
   ],
   "source": [
    "inp ← 10\n",
    "\n",
    "E ← ⌊∘⌽∘⊖⍨(∘.⌊⍨∘⍳0⌈¯1+×∘2)\n",
    "F ← {((⍳(0⌈(¯1+(⍵×2))))(∘.⌊)(⍳(0⌈(¯1+(⍵×2)))))⌊(⌽(⊖((⍳(0⌈(¯1+(⍵×2))))(∘.⌊)(⍳(0⌈(¯1+(⍵×2)))))))}\n",
    "R ← ∘.⌊⍨⍳,1↓⌽∘⍳\n",
    "D ← {((⍳⍵),(1↓(⌽(⍳⍵))))(∘.⌊)((⍳⍵),(1↓(⌽(⍳⍵))))}\n",
    "M ← {⍵≡0:0 0⍴⍬⋄m←¯1+⍵×2⋄m m⍴∊+/{((⍵≤⍳m)⌊⌽⍵≤⍳m)∘.×(⍵≤⍳m)⌊⌽⍵≤⍳m}¨⍳⍵}  \n",
    "\n",
    "cmpx 'E inp' 'F inp' 'R inp' 'D inp' 'M inp'"
   ]
  },
  {
   "cell_type": "markdown",
   "id": "68fa6e50",
   "metadata": {},
   "source": [
    "# In Place - just golfing around"
   ]
  },
  {
   "cell_type": "code",
   "execution_count": 8,
   "id": "a64992dd",
   "metadata": {
    "ExecuteTime": {
     "end_time": "2022-07-30T07:31:31.650345Z",
     "start_time": "2022-07-30T07:31:30.872651Z"
    }
   },
   "outputs": [
    {
     "name": "stderr",
     "output_type": "stream",
     "text": [
      "SYNTAX ERROR: The function requires a left argument\n",
      "      {0<⍵:∇ ⍵-1⊣E inp ⋄ ⎕AI}⍺\n",
      "                 ∧\n"
     ]
    }
   ],
   "source": [
    "inp ← 68 71 71 73\n",
    "\n",
    "E ← (⊃,/)((≢⊢⍤/+≠÷≢)¨⍳⍨⍥,⊆⍳∘≢)\n",
    "R ← (2÷⍨⍳+⍸)⍨,\n",
    "M ← {(⍵∘.≡⍵)≡1:1⋄+/¨a÷∊⍴¨a←((↓⍵∘.≡⍵)/¨⊂⍳⍴⍵)} \n",
    "\n",
    "cmpx 'E inp' 'R inp' 'M inp'"
   ]
  },
  {
   "cell_type": "code",
   "execution_count": 22,
   "id": "66d0f6f0",
   "metadata": {
    "ExecuteTime": {
     "end_time": "2022-07-30T07:52:40.924983Z",
     "start_time": "2022-07-30T07:52:32.512395Z"
    }
   },
   "outputs": [
    {
     "data": {
      "text/html": [
       "<span style=\"white-space:pre; font-family: monospace\">┌→────────────────────────────────────────────────────────────────┐\n",
       "↓  R inp → 7.4E¯7 |    0% ⎕⎕⎕⎕⎕⎕                                  │\n",
       "│  D inp → 1.1E¯6 |  +52% ⎕⎕⎕⎕⎕⎕⎕⎕⎕⎕                              │\n",
       "│  M inp → 4.7E¯6 | +534% ⎕⎕⎕⎕⎕⎕⎕⎕⎕⎕⎕⎕⎕⎕⎕⎕⎕⎕⎕⎕⎕⎕⎕⎕⎕⎕⎕⎕⎕⎕⎕⎕⎕⎕⎕⎕⎕⎕⎕⎕│\n",
       "└─────────────────────────────────────────────────────────────────┘\n",
       "</span>"
      ]
     },
     "execution_count": 22,
     "metadata": {},
     "output_type": "execute_result"
    }
   ],
   "source": [
    "inp ← 68 71 71 73\n",
    "\n",
    "⍝ E ← (⊃,/)((≢⊢⍤/+≠÷≢)¨⍳⍨⍤,⊆⍳∘≢)\n",
    "R ← (2÷⍨⍳+⍸)⍨,\n",
    "D ← {(((,⍵)⍳(,⍵))+((,⍵)⍸(,⍵)))÷2}\n",
    "M ← {(⍵∘.≡⍵)≡1:1⋄+/¨a÷∊⍴¨a←((↓⍵∘.≡⍵)/¨⊂⍳⍴⍵)} \n",
    "\n",
    "cmpx 'R inp' 'D inp' 'M inp'"
   ]
  },
  {
   "cell_type": "raw",
   "id": "fa8cccde",
   "metadata": {
    "ExecuteTime": {
     "end_time": "2022-07-28T13:21:58.952587Z",
     "start_time": "2022-07-28T13:21:57.569323Z"
    }
   },
   "source": [
    "M←{(⍵∘.≡⍵)≡1:1⋄       ⍝ if input is a vector, return 1\n",
    "  +/¨a              ⍝ sum each element of a\n",
    "  ÷                 ⍝ divid\n",
    "  ∊⍴¨a              ⍝ enlist each element of a\n",
    "  ←                 ⍝ assign a variable called 'a'\n",
    "  ((↓               ⍝ flatten (not enlist) a matric to a list\n",
    "  ⍵∘.≡⍵             ⍝ rank the result\n",
    "  )\n",
    "  /¨⊂               ⍝ enclose each element\n",
    "  ⍳                 ⍝ generate an iota list based on the length of input\n",
    "  ⍴⍵)               ⍝ return the length of the input\n",
    "  } "
   ]
  },
  {
   "cell_type": "code",
   "execution_count": 10,
   "id": "ced09d34",
   "metadata": {
    "ExecuteTime": {
     "end_time": "2022-07-30T07:31:39.610610Z",
     "start_time": "2022-07-30T07:31:38.815192Z"
    }
   },
   "outputs": [
    {
     "data": {
      "text/html": [
       "<span style=\"white-space:pre; font-family: monospace\">┌→──────────┐\n",
       "│68 71 71 73│\n",
       "└~──────────┘\n",
       "</span>"
      ]
     },
     "execution_count": 10,
     "metadata": {},
     "output_type": "execute_result"
    },
    {
     "data": {
      "text/html": [
       "<span style=\"white-space:pre; font-family: monospace\">┌→──────┐\n",
       "│1 2 3 4│\n",
       "└~──────┘\n",
       "</span>"
      ]
     },
     "execution_count": 10,
     "metadata": {},
     "output_type": "execute_result"
    },
    {
     "data": {
      "text/html": [
       "<span style=\"white-space:pre; font-family: monospace\">┌→────────────────────────────────────────┐\n",
       "│ ┌→──────┐ ┌→──────┐ ┌→──────┐ ┌→──────┐ │\n",
       "│ │1 0 0 0│ │0 1 1 0│ │0 1 1 0│ │0 0 0 1│ │\n",
       "│ └~──────┘ └~──────┘ └~──────┘ └~──────┘ │\n",
       "└∊────────────────────────────────────────┘\n",
       "</span>"
      ]
     },
     "execution_count": 10,
     "metadata": {},
     "output_type": "execute_result"
    },
    {
     "data": {
      "text/html": [
       "<span style=\"white-space:pre; font-family: monospace\">┌→────────────────────┐\n",
       "│ ┌→┐ ┌→──┐ ┌→──┐ ┌→┐ │\n",
       "│ │1│ │2 3│ │2 3│ │4│ │\n",
       "│ └~┘ └~──┘ └~──┘ └~┘ │\n",
       "└∊────────────────────┘\n",
       "</span>"
      ]
     },
     "execution_count": 10,
     "metadata": {},
     "output_type": "execute_result"
    },
    {
     "data": {
      "text/html": [
       "<span style=\"white-space:pre; font-family: monospace\">┌→──────┐\n",
       "│1 5 5 4│\n",
       "└~──────┘\n",
       "</span>"
      ]
     },
     "execution_count": 10,
     "metadata": {},
     "output_type": "execute_result"
    },
    {
     "data": {
      "text/html": [
       "<span style=\"white-space:pre; font-family: monospace\">┌→──────┐\n",
       "│1 2 2 1│\n",
       "└~──────┘\n",
       "</span>"
      ]
     },
     "execution_count": 10,
     "metadata": {},
     "output_type": "execute_result"
    },
    {
     "data": {
      "text/html": [
       "<span style=\"white-space:pre; font-family: monospace\">┌→──────────┐\n",
       "│1 2.5 2.5 4│\n",
       "└~──────────┘\n",
       "</span>"
      ]
     },
     "execution_count": 10,
     "metadata": {},
     "output_type": "execute_result"
    }
   ],
   "source": [
    "⎕←w←68 71 71 73\n",
    "⎕←¨⊂⍳⍴w\n",
    "⎕←(↓w∘.≡w)\n",
    "⎕←a←(↓w∘.≡w)/¨⊂⍳⍴w\n",
    "⎕←+/¨a\n",
    "⎕←∊⍴¨a\n",
    "⎕←+/¨a÷∊⍴¨a"
   ]
  },
  {
   "cell_type": "markdown",
   "id": "06ad17ac",
   "metadata": {},
   "source": [
    "# Split"
   ]
  },
  {
   "cell_type": "code",
   "execution_count": 11,
   "id": "d09a1221",
   "metadata": {
    "ExecuteTime": {
     "end_time": "2022-07-30T07:31:47.419696Z",
     "start_time": "2022-07-30T07:31:39.613618Z"
    }
   },
   "outputs": [
    {
     "data": {
      "text/html": [
       "<span style=\"white-space:pre; font-family: monospace\">┌→───────────────────────────────────────────────────────────────────┐\n",
       "↓  lhs E rhs → 2.2E¯6 |   0% ⎕⎕⎕⎕⎕⎕⎕⎕⎕⎕⎕⎕⎕⎕⎕⎕⎕⎕⎕⎕⎕⎕⎕⎕⎕⎕⎕⎕⎕⎕⎕⎕⎕⎕⎕⎕    │\n",
       "│  lhs R rhs → 1.6E¯6 | -27% ⎕⎕⎕⎕⎕⎕⎕⎕⎕⎕⎕⎕⎕⎕⎕⎕⎕⎕⎕⎕⎕⎕⎕⎕⎕⎕⎕             │\n",
       "│  lhs M rhs → 2.4E¯6 |  +9% ⎕⎕⎕⎕⎕⎕⎕⎕⎕⎕⎕⎕⎕⎕⎕⎕⎕⎕⎕⎕⎕⎕⎕⎕⎕⎕⎕⎕⎕⎕⎕⎕⎕⎕⎕⎕⎕⎕⎕⎕│\n",
       "└────────────────────────────────────────────────────────────────────┘\n",
       "</span>"
      ]
     },
     "execution_count": 11,
     "metadata": {},
     "output_type": "execute_result"
    }
   ],
   "source": [
    "lhs←'do'\n",
    "rhs←'Hello World'\n",
    "\n",
    "E ← {n←⍺(-∘1(⌊/⊣⍳⍨(⍬∘,⊢)))⍵⋄(n↑⍵)(n↓⍵)}\n",
    "R ← {/∘⍵¨0 1=⊂∨\\⍵∊⍺}\n",
    "M ← {⍺≡⍵:(⊆''),(⊆∊⍵)⋄(⍵≡'x')∨(⍺≡'x')∨(⍺≡⎕D):(⊆∊⍵),⊆''⋄(≢⍵)≡1:(⊆''),(⊆∊⍵)⋄ (⊆(¯1+⊃⍸(∊∘⍺)⍵)↑⍵),⊂(¯1+⊃⍸(∊∘⍺)⍵)↓⍵} \n",
    "\n",
    "cmpx 'lhs E rhs' 'lhs R rhs' 'lhs M rhs'"
   ]
  },
  {
   "cell_type": "markdown",
   "id": "fc2f736d",
   "metadata": {},
   "source": [
    "# Average"
   ]
  },
  {
   "cell_type": "code",
   "execution_count": 24,
   "id": "fa2b5b8f",
   "metadata": {
    "ExecuteTime": {
     "end_time": "2022-07-30T07:54:01.255076Z",
     "start_time": "2022-07-30T07:53:45.609428Z"
    }
   },
   "outputs": [
    {
     "data": {
      "text/html": [
       "<span style=\"white-space:pre; font-family: monospace\">┌→───────────────────────────────────────────────────────────────────┐\n",
       "↓  lhs E rhs → 2.6E¯6 |   0% ⎕⎕⎕⎕⎕⎕⎕⎕⎕⎕⎕⎕⎕⎕⎕⎕⎕⎕⎕⎕                    │\n",
       "│  lhs R rhs → 2.4E¯6 | -10% ⎕⎕⎕⎕⎕⎕⎕⎕⎕⎕⎕⎕⎕⎕⎕⎕⎕⎕                      │\n",
       "│  lhs D rhs → 2.7E¯6 |  +2% ⎕⎕⎕⎕⎕⎕⎕⎕⎕⎕⎕⎕⎕⎕⎕⎕⎕⎕⎕⎕⎕                   │\n",
       "│  lhs M rhs → 5.1E¯6 | +97% ⎕⎕⎕⎕⎕⎕⎕⎕⎕⎕⎕⎕⎕⎕⎕⎕⎕⎕⎕⎕⎕⎕⎕⎕⎕⎕⎕⎕⎕⎕⎕⎕⎕⎕⎕⎕⎕⎕⎕⎕│\n",
       "└────────────────────────────────────────────────────────────────────┘\n",
       "</span>"
      ]
     },
     "execution_count": 24,
     "metadata": {},
     "output_type": "execute_result"
    }
   ],
   "source": [
    "lhs←6\n",
    "rhs←1 2 3 4 5 6\n",
    "\n",
    "E ← {n←1+2×⍺⋄n÷⍨n+/(⍺/1↑⍵),⍵,(⍺/¯1↑⍵)}\n",
    "R ← (1+2×⊣)(+/÷⊣)⍴∘⊃,⊢,⍴∘⊃∘⌽\n",
    "D ← {((1+(2×⍺))(+/)((⍺⍴(⊃⍵)),(⍵,(⍺⍴(⊃(⌽⍵))))))÷(1+(2×⍺))}\n",
    "M ← {(+/¨b,/(,(⍺/⊃⍵),⍵,⍺/⊃⌽⍵))÷b←1+2×⍺}  \n",
    "\n",
    "cmpx 'lhs E rhs' 'lhs R rhs' 'lhs D rhs' 'lhs M rhs'"
   ]
  },
  {
   "cell_type": "markdown",
   "id": "8bcfbe65",
   "metadata": {},
   "source": [
    "# Separation"
   ]
  },
  {
   "cell_type": "code",
   "execution_count": 25,
   "id": "610e8f00",
   "metadata": {
    "ExecuteTime": {
     "end_time": "2022-07-30T07:55:08.489617Z",
     "start_time": "2022-07-30T07:54:56.451357Z"
    },
    "scrolled": true
   },
   "outputs": [
    {
     "data": {
      "text/html": [
       "<span style=\"white-space:pre; font-family: monospace\">┌→───────────────────────────────────────────────────────────────────┐\n",
       "↓  lhs E rhs → 4.0E¯6 |   0% ⎕⎕⎕⎕⎕⎕⎕⎕⎕⎕⎕⎕⎕⎕⎕⎕⎕⎕⎕⎕⎕⎕⎕⎕⎕⎕⎕⎕⎕           │\n",
       "│  lhs R rhs → 4.7E¯6 | +17% ⎕⎕⎕⎕⎕⎕⎕⎕⎕⎕⎕⎕⎕⎕⎕⎕⎕⎕⎕⎕⎕⎕⎕⎕⎕⎕⎕⎕⎕⎕⎕⎕⎕⎕      │\n",
       "│  lhs D rhs → 5.5E¯6 | +37% ⎕⎕⎕⎕⎕⎕⎕⎕⎕⎕⎕⎕⎕⎕⎕⎕⎕⎕⎕⎕⎕⎕⎕⎕⎕⎕⎕⎕⎕⎕⎕⎕⎕⎕⎕⎕⎕⎕⎕⎕│\n",
       "│  lhs M rhs → 5.4E¯6 | +35% ⎕⎕⎕⎕⎕⎕⎕⎕⎕⎕⎕⎕⎕⎕⎕⎕⎕⎕⎕⎕⎕⎕⎕⎕⎕⎕⎕⎕⎕⎕⎕⎕⎕⎕⎕⎕⎕⎕⎕ │\n",
       "└────────────────────────────────────────────────────────────────────┘\n",
       "</span>"
      ]
     },
     "execution_count": 25,
     "metadata": {},
     "output_type": "execute_result"
    }
   ],
   "source": [
    "lhs ← '.' \n",
    "rhs ← 60⌽⎕D\n",
    "\n",
    "E ← {↑,/⍺{⍺}@{0=6|⌽⍳≢⍵}1↓(2⊂⍵)} \n",
    "R ← ∊,¨@{0@1⌽0=3|⍳≢⍵}⍥,\n",
    "D ← {∊((,⍺)({⍺(,¨)⍵}@{0@1⌽0=3|⍳≢⍵})(,⍵))}\n",
    "M ← {(999≥(⍎⍵))≡1:,⍵⋄1↓∊(⍺∘.,((¯1×(⍴⍵))↑∊⍉(1 1 1∘.×⍳20))⊆⍵)} \n",
    "\n",
    "cmpx 'lhs E rhs' 'lhs R rhs' 'lhs D rhs' 'lhs M rhs'"
   ]
  },
  {
   "cell_type": "code",
   "execution_count": null,
   "id": "53fb341d",
   "metadata": {},
   "outputs": [],
   "source": []
  }
 ],
 "metadata": {
  "hide_input": false,
  "kernelspec": {
   "display_name": "Dyalog APL",
   "language": "apl",
   "name": "dyalog-kernel"
  },
  "language_info": {
   "file_extension": ".apl",
   "mimetype": "text/apl",
   "name": "APL"
  },
  "toc": {
   "base_numbering": 1,
   "nav_menu": {},
   "number_sections": true,
   "sideBar": true,
   "skip_h1_title": false,
   "title_cell": "Table of Contents",
   "title_sidebar": "Contents",
   "toc_cell": false,
   "toc_position": {},
   "toc_section_display": true,
   "toc_window_display": false
  },
  "varInspector": {
   "cols": {
    "lenName": 16,
    "lenType": 16,
    "lenVar": 40
   },
   "kernels_config": {
    "python": {
     "delete_cmd_postfix": "",
     "delete_cmd_prefix": "del ",
     "library": "var_list.py",
     "varRefreshCmd": "print(var_dic_list())"
    },
    "r": {
     "delete_cmd_postfix": ") ",
     "delete_cmd_prefix": "rm(",
     "library": "var_list.r",
     "varRefreshCmd": "cat(var_dic_list()) "
    }
   },
   "types_to_exclude": [
    "module",
    "function",
    "builtin_function_or_method",
    "instance",
    "_Feature"
   ],
   "window_display": false
  }
 },
 "nbformat": 4,
 "nbformat_minor": 5
}
