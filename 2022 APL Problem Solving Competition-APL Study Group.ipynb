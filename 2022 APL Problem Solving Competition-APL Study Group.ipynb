{
 "cells": [
  {
   "cell_type": "markdown",
   "id": "abd9b504",
   "metadata": {
    "ExecuteTime": {
     "end_time": "2022-07-30T08:06:36.541139Z",
     "start_time": "2022-07-30T08:06:36.410518Z"
    }
   },
   "source": [
    "https://www.dyalogaplcompetition.com/?goto=P1Intro"
   ]
  },
  {
   "cell_type": "code",
   "execution_count": 4,
   "id": "4bec2298",
   "metadata": {
    "ExecuteTime": {
     "end_time": "2022-07-30T08:36:07.134164Z",
     "start_time": "2022-07-30T08:36:06.858419Z"
    }
   },
   "outputs": [
    {
     "data": {
      "text/html": [
       "<span style=\"white-space:pre; font-family: monospace\">┌→────────────────┐\n",
       "│Was ON -style=max│\n",
       "└─────────────────┘\n",
       "</span>"
      ]
     },
     "execution_count": 4,
     "metadata": {},
     "output_type": "execute_result"
    }
   ],
   "source": [
    "]Boxing on -style=max\n",
    "'cmpx'⎕cy'dfns'"
   ]
  },
  {
   "cell_type": "raw",
   "id": "cfa264d7",
   "metadata": {
    "ExecuteTime": {
     "end_time": "2022-07-30T08:38:47.376128Z",
     "start_time": "2022-07-30T08:38:46.491228Z"
    }
   },
   "source": [
    "Participants (@fast.ai forum user name):\n",
    "E: @Eitanless - per submission\n",
    "F: @Eitanless - Dfn form, if any\n",
    "R: @rak1507 - Tacit\n",
    "D: @rak1507 - Dfn form using https://tacit.help/\n",
    "M: @Moody\n",
    "X: @xpqz - Tacit\n",
    "Y: @xpqz - Dfn form, if any"
   ]
  },
  {
   "cell_type": "markdown",
   "id": "9956b70f",
   "metadata": {},
   "source": [
    "# DNA"
   ]
  },
  {
   "cell_type": "code",
   "execution_count": 5,
   "id": "9e083981",
   "metadata": {
    "ExecuteTime": {
     "end_time": "2022-07-30T08:36:14.699772Z",
     "start_time": "2022-07-30T08:36:08.825560Z"
    }
   },
   "outputs": [
    {
     "data": {
      "text/html": [
       "<span style=\"white-space:pre; font-family: monospace\">┌→──────────────────────────────────────────────────────────────────┐\n",
       "↓  M inp   → 7.3E¯7 |    0% ⎕⎕⎕⎕⎕⎕⎕⎕⎕⎕⎕⎕⎕⎕⎕⎕⎕⎕⎕⎕                    │\n",
       "│  Mv2 inp → 1.5E¯6 | +100% ⎕⎕⎕⎕⎕⎕⎕⎕⎕⎕⎕⎕⎕⎕⎕⎕⎕⎕⎕⎕⎕⎕⎕⎕⎕⎕⎕⎕⎕⎕⎕⎕⎕⎕⎕⎕⎕⎕⎕⎕│\n",
       "└───────────────────────────────────────────────────────────────────┘\n",
       "</span>"
      ]
     },
     "execution_count": 5,
     "metadata": {},
     "output_type": "execute_result"
    }
   ],
   "source": [
    "inp ← 'AGCTTTTCATTCTGACTGCAACGGGCAATATGTCTCTGTGTGGATTAAAAAAAGAGTGTCTGATAGCAGC'\n",
    "\n",
    "M←{+/'ACGT'∘.=,⍵}  ⍝ same as E, R & X\n",
    "Mv2←{(+/⍵='A') (+/⍵='C') (+/⍵='G') (+/⍵='T')} ⍝ also a gold trophy answer\n",
    "\n",
    "cmpx'M inp' 'Mv2 inp'"
   ]
  },
  {
   "cell_type": "markdown",
   "id": "f033198f",
   "metadata": {},
   "source": [
    "# Mutations - return an integer representing the Hamming distance"
   ]
  },
  {
   "cell_type": "code",
   "execution_count": 6,
   "id": "049ce329",
   "metadata": {
    "ExecuteTime": {
     "end_time": "2022-07-30T08:36:22.876746Z",
     "start_time": "2022-07-30T08:36:14.701889Z"
    }
   },
   "outputs": [
    {
     "data": {
      "text/html": [
       "<span style=\"white-space:pre; font-family: monospace\">┌→───────────────────────────────────────────────────────────────────┐\n",
       "↓  lhs E rhs → 2.9E¯7 |   0% ⎕⎕⎕⎕⎕⎕⎕⎕⎕⎕⎕⎕⎕⎕⎕⎕⎕⎕⎕⎕⎕⎕                  │\n",
       "│  lhs R rhs → 4.6E¯7 | +55% ⎕⎕⎕⎕⎕⎕⎕⎕⎕⎕⎕⎕⎕⎕⎕⎕⎕⎕⎕⎕⎕⎕⎕⎕⎕⎕⎕⎕⎕⎕⎕⎕⎕⎕      │\n",
       "│  lhs M rhs → 5.3E¯7 | +82% ⎕⎕⎕⎕⎕⎕⎕⎕⎕⎕⎕⎕⎕⎕⎕⎕⎕⎕⎕⎕⎕⎕⎕⎕⎕⎕⎕⎕⎕⎕⎕⎕⎕⎕⎕⎕⎕⎕⎕⎕│\n",
       "└────────────────────────────────────────────────────────────────────┘\n",
       "</span>"
      ]
     },
     "execution_count": 6,
     "metadata": {},
     "output_type": "execute_result"
    }
   ],
   "source": [
    "lhs ← 'GAGCCTACTAACGGGAT'\n",
    "rhs ← 'CATCGTAATGACGGCCT'  ⍝ ans:7\n",
    "\n",
    "E ← +/≠\n",
    "R ← +.≠    ⍝ same as X\n",
    "M ← {+/⍺≠⍵}\n",
    "\n",
    "cmpx'lhs E rhs' 'lhs R rhs' 'lhs M rhs'"
   ]
  },
  {
   "cell_type": "markdown",
   "id": "e4425e3e",
   "metadata": {},
   "source": [
    "# Uniquely Qualified"
   ]
  },
  {
   "cell_type": "code",
   "execution_count": 7,
   "id": "d3610839",
   "metadata": {
    "ExecuteTime": {
     "end_time": "2022-07-30T08:36:45.520306Z",
     "start_time": "2022-07-30T08:36:22.880744Z"
    }
   },
   "outputs": [
    {
     "data": {
      "text/html": [
       "<span style=\"white-space:pre; font-family: monospace\">┌→───────────────────────────────────────────────────────────────────┐\n",
       "↓  lhs E rhs → 9.1E¯7 |   0% ⎕⎕⎕⎕⎕⎕⎕⎕⎕⎕⎕⎕⎕⎕⎕⎕⎕⎕⎕⎕⎕⎕⎕                 │\n",
       "│  lhs F rhs → 1.6E¯6 | +76% ⎕⎕⎕⎕⎕⎕⎕⎕⎕⎕⎕⎕⎕⎕⎕⎕⎕⎕⎕⎕⎕⎕⎕⎕⎕⎕⎕⎕⎕⎕⎕⎕⎕⎕⎕⎕⎕⎕⎕⎕│\n",
       "│  lhs R rhs → 9.2E¯7 |  +1% ⎕⎕⎕⎕⎕⎕⎕⎕⎕⎕⎕⎕⎕⎕⎕⎕⎕⎕⎕⎕⎕⎕⎕                 │\n",
       "│  lhs D rhs → 1.5E¯6 | +65% ⎕⎕⎕⎕⎕⎕⎕⎕⎕⎕⎕⎕⎕⎕⎕⎕⎕⎕⎕⎕⎕⎕⎕⎕⎕⎕⎕⎕⎕⎕⎕⎕⎕⎕⎕⎕⎕⎕  │\n",
       "│  lhs M rhs → 1.5E¯6 | +66% ⎕⎕⎕⎕⎕⎕⎕⎕⎕⎕⎕⎕⎕⎕⎕⎕⎕⎕⎕⎕⎕⎕⎕⎕⎕⎕⎕⎕⎕⎕⎕⎕⎕⎕⎕⎕⎕⎕  │\n",
       "│  lhs X rhs → 1.1E¯6 | +16% ⎕⎕⎕⎕⎕⎕⎕⎕⎕⎕⎕⎕⎕⎕⎕⎕⎕⎕⎕⎕⎕⎕⎕⎕⎕⎕              │\n",
       "│  lhs Y rhs → 1.5E¯6 | +66% ⎕⎕⎕⎕⎕⎕⎕⎕⎕⎕⎕⎕⎕⎕⎕⎕⎕⎕⎕⎕⎕⎕⎕⎕⎕⎕⎕⎕⎕⎕⎕⎕⎕⎕⎕⎕⎕⎕  │\n",
       "└────────────────────────────────────────────────────────────────────┘\n",
       "</span>"
      ]
     },
     "execution_count": 7,
     "metadata": {},
     "output_type": "execute_result"
    }
   ],
   "source": [
    "lhs ← (2 2⍴'Hello'(⊂'World')(2 2⍴⍳4)42)\n",
    "rhs ← 42 'Have a nice day'\n",
    "\n",
    "E ← (~,~⍨)⍥,\n",
    "F ← {((,⍺)~(,⍵)),((,⍵)~(,⍺))}\n",
    "R ← (,~∩)⍥,\n",
    "D ← {((,⍺),(,⍵))~((,⍺)∩(,⍵))}\n",
    "M ← {((,⍺)∪,⍵)~((,⍺)∩,⍵)}        ⍝ can't run without curly brackets\n",
    "X ← (∪~∩)⍥,\n",
    "Y ← {((,⍺)∪(,⍵))~((,⍺)∩(,⍵))}\n",
    "\n",
    "cmpx 'lhs E rhs' 'lhs F rhs' 'lhs R rhs' 'lhs D rhs' 'lhs M rhs' 'lhs X rhs' 'lhs Y rhs'"
   ]
  },
  {
   "cell_type": "markdown",
   "id": "d1973c6a",
   "metadata": {},
   "source": [
    "# In the Long One"
   ]
  },
  {
   "cell_type": "code",
   "execution_count": 17,
   "id": "b7bee933",
   "metadata": {
    "ExecuteTime": {
     "end_time": "2022-07-30T08:57:43.576818Z",
     "start_time": "2022-07-30T08:57:22.695208Z"
    }
   },
   "outputs": [
    {
     "data": {
      "text/html": [
       "<span style=\"white-space:pre; font-family: monospace\">┌→───────────────────────────────────────────────────────────────┐\n",
       "↓  E inp → 1.1E¯6 |   0% ⎕⎕⎕⎕⎕⎕⎕⎕⎕⎕⎕⎕⎕⎕⎕⎕⎕⎕⎕⎕⎕⎕⎕⎕⎕⎕⎕⎕⎕⎕          │\n",
       "│  F inp → 1.4E¯6 | +34% ⎕⎕⎕⎕⎕⎕⎕⎕⎕⎕⎕⎕⎕⎕⎕⎕⎕⎕⎕⎕⎕⎕⎕⎕⎕⎕⎕⎕⎕⎕⎕⎕⎕⎕⎕⎕⎕⎕⎕⎕│\n",
       "│  R inp → 8.9E¯7 | -17% ⎕⎕⎕⎕⎕⎕⎕⎕⎕⎕⎕⎕⎕⎕⎕⎕⎕⎕⎕⎕⎕⎕⎕⎕⎕               │\n",
       "│  D inp → 1.1E¯6 |  +6% ⎕⎕⎕⎕⎕⎕⎕⎕⎕⎕⎕⎕⎕⎕⎕⎕⎕⎕⎕⎕⎕⎕⎕⎕⎕⎕⎕⎕⎕⎕⎕⎕        │\n",
       "│  M inp → 1.3E¯6 | +26% ⎕⎕⎕⎕⎕⎕⎕⎕⎕⎕⎕⎕⎕⎕⎕⎕⎕⎕⎕⎕⎕⎕⎕⎕⎕⎕⎕⎕⎕⎕⎕⎕⎕⎕⎕⎕⎕⎕  │\n",
       "│  X inp → 1.1E¯6 |  -2% ⎕⎕⎕⎕⎕⎕⎕⎕⎕⎕⎕⎕⎕⎕⎕⎕⎕⎕⎕⎕⎕⎕⎕⎕⎕⎕⎕⎕⎕           │\n",
       "│  Y inp → 1.3E¯6 | +19% ⎕⎕⎕⎕⎕⎕⎕⎕⎕⎕⎕⎕⎕⎕⎕⎕⎕⎕⎕⎕⎕⎕⎕⎕⎕⎕⎕⎕⎕⎕⎕⎕⎕⎕⎕⎕    │\n",
       "└────────────────────────────────────────────────────────────────┘\n",
       "</span>"
      ]
     },
     "execution_count": 17,
     "metadata": {},
     "output_type": "execute_result"
    }
   ],
   "source": [
    "inp ← 12/0 1 0 1\n",
    "\n",
    "E ← ⌈/0,≢¨⍤⊆⍨∘,\n",
    "F ← {(⌈/)(0,((≢¨)((,⍵)⊆(,⍵))))}\n",
    "R ← ≢∘⍉∘↑,⊆,\n",
    "D ← {≢(⍉(↑((,⍵)⊆(,⍵))))}\n",
    "M ← {⍵≡1:1⋄0=+/⍵:0⋄⌈/+/¨(⍵⊆⍵)}\n",
    "X ← {≢⍉↑⊆⍨,⍵}\n",
    "Y ← {{≢⍉↑⊆⍨,⍵}⍵}\n",
    "\n",
    "cmpx 'E inp' 'F inp' 'R inp' 'D inp' 'M inp' 'X inp' 'Y inp'"
   ]
  },
  {
   "cell_type": "raw",
   "id": "297f48da",
   "metadata": {
    "ExecuteTime": {
     "end_time": "2022-07-28T12:12:06.604379Z",
     "start_time": "2022-07-28T12:12:06.024281Z"
    }
   },
   "source": [
    "M ← {⍵≡1:1 ⋄    ⍝ if input exactly equal to one, return one\n",
    "    0=+/⍵:0 ⋄  ⍝ if the sum of input equal zero, return zero\n",
    "    ⌈/         ⍝ max reduce from the list\n",
    "    +/¨        ⍝ cummulated sum for each subset\n",
    "    (⍵⊆⍵)}     ⍝ partition subset of 1s together"
   ]
  },
  {
   "cell_type": "markdown",
   "id": "a535d9be",
   "metadata": {},
   "source": [
    "# Stairway"
   ]
  },
  {
   "cell_type": "code",
   "execution_count": 10,
   "id": "ed069c50",
   "metadata": {
    "ExecuteTime": {
     "end_time": "2022-07-30T08:39:22.335467Z",
     "start_time": "2022-07-30T08:39:07.253916Z"
    }
   },
   "outputs": [
    {
     "data": {
      "text/html": [
       "<span style=\"white-space:pre; font-family: monospace\">┌→────────────────────────────────────────────────────────────────┐\n",
       "↓  E inp → 1.8E¯6 |    0% ⎕⎕⎕⎕⎕⎕⎕⎕⎕⎕⎕⎕⎕⎕⎕⎕⎕⎕⎕                     │\n",
       "│  F inp → 2.9E¯6 |  +57% ⎕⎕⎕⎕⎕⎕⎕⎕⎕⎕⎕⎕⎕⎕⎕⎕⎕⎕⎕⎕⎕⎕⎕⎕⎕⎕⎕⎕⎕⎕          │\n",
       "│  R inp → 1.7E¯6 |   -8% ⎕⎕⎕⎕⎕⎕⎕⎕⎕⎕⎕⎕⎕⎕⎕⎕⎕⎕                      │\n",
       "│  M inp → 3.8E¯6 | +109% ⎕⎕⎕⎕⎕⎕⎕⎕⎕⎕⎕⎕⎕⎕⎕⎕⎕⎕⎕⎕⎕⎕⎕⎕⎕⎕⎕⎕⎕⎕⎕⎕⎕⎕⎕⎕⎕⎕⎕⎕│\n",
       "│  X inp → 2.2E¯6 |  +19% ⎕⎕⎕⎕⎕⎕⎕⎕⎕⎕⎕⎕⎕⎕⎕⎕⎕⎕⎕⎕⎕⎕⎕                 │\n",
       "└─────────────────────────────────────────────────────────────────┘\n",
       "</span>"
      ]
     },
     "execution_count": 10,
     "metadata": {},
     "output_type": "execute_result"
    }
   ],
   "source": [
    "inp ← 10\n",
    "\n",
    "E ← ⌽∘↑⍴∘'⎕'¨∘⍳\n",
    "F ← {⌽(↑(({⍵⍴'⎕'}¨)(⍳⍵)))}\n",
    "R ← ⌽⍤↑⍳⍴¨'⎕'⍨                  ⍝ can't transform to  Dfn form\n",
    "M ← {⍵≡0:(0 0⍴'')⋄⍵ ⍵⍴⍕∊((¯1×⍵)↑¨(⍳⍵)∘.⍴'⎕')}  \n",
    "X ← {⊖⍤1⊢↑⍴∘'⎕'¨⍳⍵}\n",
    "\n",
    "cmpx 'E inp' 'F inp' 'R inp' 'M inp' 'X inp'"
   ]
  },
  {
   "cell_type": "raw",
   "id": "bf1efcb8",
   "metadata": {
    "ExecuteTime": {
     "end_time": "2022-07-28T12:17:31.510641Z",
     "start_time": "2022-07-28T12:17:31.384611Z"
    }
   },
   "source": [
    "M ← {\n",
    "⍵≡0:(0 0⍴' ') ⋄ ⍝ if input is exactly equal to zero, return 0x0 matric\n",
    "⍵ ⍵⍴            ⍝ create a N by N matric\n",
    "⍕               ⍝ format the result\n",
    "∊               ⍝ enlist the result\n",
    "(¯1×⍵)↑¨        ⍝ right align with the length of N (input)\n",
    "(⍳⍵)∘.⍴'⎕')     ⍝ generate boxes instead of iota numbers\n",
    " }  "
   ]
  },
  {
   "cell_type": "markdown",
   "id": "48df4677",
   "metadata": {},
   "source": [
    "# Pyramid"
   ]
  },
  {
   "cell_type": "code",
   "execution_count": 11,
   "id": "6ebbdf22",
   "metadata": {
    "ExecuteTime": {
     "end_time": "2022-07-30T08:39:51.488500Z",
     "start_time": "2022-07-30T08:39:36.577964Z"
    }
   },
   "outputs": [
    {
     "data": {
      "text/html": [
       "<span style=\"white-space:pre; font-family: monospace\">┌→─────────────────────────────────────────────────────────────────┐\n",
       "↓  E inp → 1.1E¯6 |     0% ⎕⎕⎕                                     │\n",
       "│  F inp → 2.7E¯6 |  +146% ⎕⎕⎕⎕⎕⎕⎕⎕                                │\n",
       "│  R inp → 1.0E¯6 |    -9% ⎕⎕⎕                                     │\n",
       "│  D inp → 1.9E¯6 |   +77% ⎕⎕⎕⎕⎕⎕                                  │\n",
       "│  M inp → 1.4E¯5 | +1152% ⎕⎕⎕⎕⎕⎕⎕⎕⎕⎕⎕⎕⎕⎕⎕⎕⎕⎕⎕⎕⎕⎕⎕⎕⎕⎕⎕⎕⎕⎕⎕⎕⎕⎕⎕⎕⎕⎕⎕⎕│\n",
       "│  X inp → 4.2E¯6 |  +280% ⎕⎕⎕⎕⎕⎕⎕⎕⎕⎕⎕⎕                            │\n",
       "└──────────────────────────────────────────────────────────────────┘\n",
       "</span>"
      ]
     },
     "execution_count": 11,
     "metadata": {},
     "output_type": "execute_result"
    }
   ],
   "source": [
    "inp ← 10\n",
    "\n",
    "E ← ⌊∘⌽∘⊖⍨(∘.⌊⍨∘⍳0⌈¯1+×∘2)\n",
    "F ← {((⍳(0⌈(¯1+(⍵×2))))(∘.⌊)(⍳(0⌈(¯1+(⍵×2)))))⌊(⌽(⊖((⍳(0⌈(¯1+(⍵×2))))(∘.⌊)(⍳(0⌈(¯1+(⍵×2)))))))}\n",
    "R ← ∘.⌊⍨⍳,1↓⌽∘⍳\n",
    "D ← {((⍳⍵),(1↓(⌽(⍳⍵))))(∘.⌊)((⍳⍵),(1↓(⌽(⍳⍵))))}\n",
    "M ← {⍵≡0:0 0⍴⍬⋄m←¯1+⍵×2⋄m m⍴∊+/{((⍵≤⍳m)⌊⌽⍵≤⍳m)∘.×(⍵≤⍳m)⌊⌽⍵≤⍳m}¨⍳⍵}  \n",
    "X ← {f←⊢⍪1↓⊖⋄f⍉f⍵{⍵+(∘.<⍨⍳⍺)×⍉⍵}↑⍳¨⍳⍵}\n",
    "\n",
    "cmpx 'E inp' 'F inp' 'R inp' 'D inp' 'M inp' 'X inp'"
   ]
  },
  {
   "cell_type": "markdown",
   "id": "68fa6e50",
   "metadata": {},
   "source": [
    "# In Place - just golfing around"
   ]
  },
  {
   "cell_type": "code",
   "execution_count": 24,
   "id": "a64992dd",
   "metadata": {
    "ExecuteTime": {
     "end_time": "2022-07-30T09:02:52.603949Z",
     "start_time": "2022-07-30T09:02:51.586042Z"
    }
   },
   "outputs": [
    {
     "name": "stderr",
     "output_type": "stream",
     "text": [
      "SYNTAX ERROR: The function requires a left argument\n",
      "      {0<⍵:∇ ⍵-1⊣E inp ⋄ ⎕AI}⍺\n",
      "                 ∧\n"
     ]
    }
   ],
   "source": [
    "inp ← 68 71 71 73\n",
    "\n",
    "E ← (⊃,/)((≢⊢⍤/+≠÷≢)¨⍳⍨⍥,⊆⍳∘≢)\n",
    "R ← (2÷⍨⍳+⍸)⍨,\n",
    "D ← {(((,⍵)⍳(,⍵))+((,⍵)⍸(,⍵)))÷2}\n",
    "M ← {(⍵∘.≡⍵)≡1:1⋄+/¨a÷∊⍴¨a←((↓⍵∘.≡⍵)/¨⊂⍳⍴⍵)} \n",
    "X ← {(+/m)/f÷⍥(+/)m←0≠f←⊢⌸,⍵}\n",
    "\n",
    "cmpx 'E inp' 'R inp' 'D inp' 'M inp' 'X inp'"
   ]
  },
  {
   "cell_type": "code",
   "execution_count": 25,
   "id": "49ff7fcf",
   "metadata": {
    "ExecuteTime": {
     "end_time": "2022-07-30T09:03:09.694728Z",
     "start_time": "2022-07-30T09:02:53.137836Z"
    }
   },
   "outputs": [
    {
     "data": {
      "text/html": [
       "<span style=\"white-space:pre; font-family: monospace\">┌→────────────────────────────────────────────────────────────────┐\n",
       "↓  R inp → 7.2E¯7 |    0% ⎕⎕⎕⎕                                    │\n",
       "│  D inp → 1.1E¯6 |  +58% ⎕⎕⎕⎕⎕⎕                                  │\n",
       "│  M inp → 4.8E¯6 | +570% ⎕⎕⎕⎕⎕⎕⎕⎕⎕⎕⎕⎕⎕⎕⎕⎕⎕⎕⎕⎕⎕⎕⎕⎕⎕               │\n",
       "│  X inp → 7.8E¯6 | +992% ⎕⎕⎕⎕⎕⎕⎕⎕⎕⎕⎕⎕⎕⎕⎕⎕⎕⎕⎕⎕⎕⎕⎕⎕⎕⎕⎕⎕⎕⎕⎕⎕⎕⎕⎕⎕⎕⎕⎕⎕│\n",
       "└─────────────────────────────────────────────────────────────────┘\n",
       "</span>"
      ]
     },
     "execution_count": 25,
     "metadata": {},
     "output_type": "execute_result"
    }
   ],
   "source": [
    "inp ← 68 71 71 73\n",
    "\n",
    "⍝ E ← (⊃,/)((≢⊢⍤/+≠÷≢)¨⍳⍨⍥,⊆⍳∘≢)\n",
    "R ← (2÷⍨⍳+⍸)⍨,\n",
    "D ← {(((,⍵)⍳(,⍵))+((,⍵)⍸(,⍵)))÷2}\n",
    "M ← {(⍵∘.≡⍵)≡1:1⋄+/¨a÷∊⍴¨a←((↓⍵∘.≡⍵)/¨⊂⍳⍴⍵)} \n",
    "X ← {(+/m)/f÷⍥(+/)m←0≠f←⊢⌸,⍵}\n",
    "\n",
    "cmpx 'R inp' 'D inp' 'M inp' 'X inp'"
   ]
  },
  {
   "cell_type": "raw",
   "id": "fa8cccde",
   "metadata": {
    "ExecuteTime": {
     "end_time": "2022-07-28T13:21:58.952587Z",
     "start_time": "2022-07-28T13:21:57.569323Z"
    }
   },
   "source": [
    "M←{(⍵∘.≡⍵)≡1:1⋄       ⍝ if input is a vector, return 1\n",
    "  +/¨a              ⍝ sum each element of a\n",
    "  ÷                 ⍝ divid\n",
    "  ∊⍴¨a              ⍝ enlist each element of a\n",
    "  ←                 ⍝ assign a variable called 'a'\n",
    "  ((↓               ⍝ flatten (not enlist) a matric to a list\n",
    "  ⍵∘.≡⍵             ⍝ rank the result\n",
    "  )\n",
    "  /¨⊂               ⍝ enclose each element\n",
    "  ⍳                 ⍝ generate an iota list based on the length of input\n",
    "  ⍴⍵)               ⍝ return the length of the input\n",
    "  } "
   ]
  },
  {
   "cell_type": "code",
   "execution_count": 10,
   "id": "ced09d34",
   "metadata": {
    "ExecuteTime": {
     "end_time": "2022-07-30T07:31:39.610610Z",
     "start_time": "2022-07-30T07:31:38.815192Z"
    }
   },
   "outputs": [
    {
     "data": {
      "text/html": [
       "<span style=\"white-space:pre; font-family: monospace\">┌→──────────┐\n",
       "│68 71 71 73│\n",
       "└~──────────┘\n",
       "</span>"
      ]
     },
     "execution_count": 10,
     "metadata": {},
     "output_type": "execute_result"
    },
    {
     "data": {
      "text/html": [
       "<span style=\"white-space:pre; font-family: monospace\">┌→──────┐\n",
       "│1 2 3 4│\n",
       "└~──────┘\n",
       "</span>"
      ]
     },
     "execution_count": 10,
     "metadata": {},
     "output_type": "execute_result"
    },
    {
     "data": {
      "text/html": [
       "<span style=\"white-space:pre; font-family: monospace\">┌→────────────────────────────────────────┐\n",
       "│ ┌→──────┐ ┌→──────┐ ┌→──────┐ ┌→──────┐ │\n",
       "│ │1 0 0 0│ │0 1 1 0│ │0 1 1 0│ │0 0 0 1│ │\n",
       "│ └~──────┘ └~──────┘ └~──────┘ └~──────┘ │\n",
       "└∊────────────────────────────────────────┘\n",
       "</span>"
      ]
     },
     "execution_count": 10,
     "metadata": {},
     "output_type": "execute_result"
    },
    {
     "data": {
      "text/html": [
       "<span style=\"white-space:pre; font-family: monospace\">┌→────────────────────┐\n",
       "│ ┌→┐ ┌→──┐ ┌→──┐ ┌→┐ │\n",
       "│ │1│ │2 3│ │2 3│ │4│ │\n",
       "│ └~┘ └~──┘ └~──┘ └~┘ │\n",
       "└∊────────────────────┘\n",
       "</span>"
      ]
     },
     "execution_count": 10,
     "metadata": {},
     "output_type": "execute_result"
    },
    {
     "data": {
      "text/html": [
       "<span style=\"white-space:pre; font-family: monospace\">┌→──────┐\n",
       "│1 5 5 4│\n",
       "└~──────┘\n",
       "</span>"
      ]
     },
     "execution_count": 10,
     "metadata": {},
     "output_type": "execute_result"
    },
    {
     "data": {
      "text/html": [
       "<span style=\"white-space:pre; font-family: monospace\">┌→──────┐\n",
       "│1 2 2 1│\n",
       "└~──────┘\n",
       "</span>"
      ]
     },
     "execution_count": 10,
     "metadata": {},
     "output_type": "execute_result"
    },
    {
     "data": {
      "text/html": [
       "<span style=\"white-space:pre; font-family: monospace\">┌→──────────┐\n",
       "│1 2.5 2.5 4│\n",
       "└~──────────┘\n",
       "</span>"
      ]
     },
     "execution_count": 10,
     "metadata": {},
     "output_type": "execute_result"
    }
   ],
   "source": [
    "⎕←w←68 71 71 73\n",
    "⎕←¨⊂⍳⍴w\n",
    "⎕←(↓w∘.≡w)\n",
    "⎕←a←(↓w∘.≡w)/¨⊂⍳⍴w\n",
    "⎕←+/¨a\n",
    "⎕←∊⍴¨a\n",
    "⎕←+/¨a÷∊⍴¨a"
   ]
  },
  {
   "cell_type": "markdown",
   "id": "06ad17ac",
   "metadata": {},
   "source": [
    "# Split"
   ]
  },
  {
   "cell_type": "code",
   "execution_count": 13,
   "id": "d09a1221",
   "metadata": {
    "ExecuteTime": {
     "end_time": "2022-07-30T08:41:25.994445Z",
     "start_time": "2022-07-30T08:41:16.722243Z"
    }
   },
   "outputs": [
    {
     "data": {
      "text/html": [
       "<span style=\"white-space:pre; font-family: monospace\">┌→───────────────────────────────────────────────────────────────────┐\n",
       "↓  lhs E rhs → 2.1E¯6 |   0% ⎕⎕⎕⎕⎕⎕⎕⎕⎕⎕⎕⎕⎕⎕⎕⎕⎕⎕⎕⎕⎕⎕⎕⎕⎕⎕⎕⎕⎕⎕⎕⎕⎕⎕⎕⎕⎕⎕⎕ │\n",
       "│  lhs R rhs → 1.4E¯6 | -34% ⎕⎕⎕⎕⎕⎕⎕⎕⎕⎕⎕⎕⎕⎕⎕⎕⎕⎕⎕⎕⎕⎕⎕⎕⎕⎕              │\n",
       "│  lhs M rhs → 2.1E¯6 |  +1% ⎕⎕⎕⎕⎕⎕⎕⎕⎕⎕⎕⎕⎕⎕⎕⎕⎕⎕⎕⎕⎕⎕⎕⎕⎕⎕⎕⎕⎕⎕⎕⎕⎕⎕⎕⎕⎕⎕⎕⎕│\n",
       "│  lhs X rhs → 1.4E¯6 | -31% ⎕⎕⎕⎕⎕⎕⎕⎕⎕⎕⎕⎕⎕⎕⎕⎕⎕⎕⎕⎕⎕⎕⎕⎕⎕⎕⎕             │\n",
       "└────────────────────────────────────────────────────────────────────┘\n",
       "</span>"
      ]
     },
     "execution_count": 13,
     "metadata": {},
     "output_type": "execute_result"
    }
   ],
   "source": [
    "lhs←'do'\n",
    "rhs←'Hello World'\n",
    "\n",
    "E ← {n←⍺(-∘1(⌊/⊣⍳⍨(⍬∘,⊢)))⍵⋄(n↑⍵)(n↓⍵)}\n",
    "R ← {/∘⍵¨0 1=⊂∨\\⍵∊⍺}\n",
    "M ← {⍺≡⍵:(⊆''),(⊆∊⍵)⋄(⍵≡'x')∨(⍺≡'x')∨(⍺≡⎕D):(⊆∊⍵),⊆''⋄(≢⍵)≡1:(⊆''),(⊆∊⍵)⋄ (⊆(¯1+⊃⍸(∊∘⍺)⍵)↑⍵),⊂(¯1+⊃⍸(∊∘⍺)⍵)↓⍵} \n",
    "X ← {(¯1+⌊/⍺⍳⍨,⍵)(↑,⍥⊂↓),⍵}\n",
    "\n",
    "cmpx 'lhs E rhs' 'lhs R rhs' 'lhs M rhs' 'lhs X rhs'"
   ]
  },
  {
   "cell_type": "markdown",
   "id": "fc2f736d",
   "metadata": {},
   "source": [
    "# Average"
   ]
  },
  {
   "cell_type": "code",
   "execution_count": 14,
   "id": "fa2b5b8f",
   "metadata": {
    "ExecuteTime": {
     "end_time": "2022-07-30T08:42:08.315980Z",
     "start_time": "2022-07-30T08:41:49.690038Z"
    }
   },
   "outputs": [
    {
     "data": {
      "text/html": [
       "<span style=\"white-space:pre; font-family: monospace\">┌→───────────────────────────────────────────────────────────────────┐\n",
       "↓  lhs E rhs → 2.9E¯6 |   0% ⎕⎕⎕⎕⎕⎕⎕⎕⎕⎕⎕⎕⎕⎕⎕⎕⎕⎕⎕⎕⎕⎕                  │\n",
       "│  lhs R rhs → 2.5E¯6 | -15% ⎕⎕⎕⎕⎕⎕⎕⎕⎕⎕⎕⎕⎕⎕⎕⎕⎕⎕⎕                     │\n",
       "│  lhs D rhs → 2.8E¯6 |  -5% ⎕⎕⎕⎕⎕⎕⎕⎕⎕⎕⎕⎕⎕⎕⎕⎕⎕⎕⎕⎕⎕                   │\n",
       "│  lhs M rhs → 5.3E¯6 | +80% ⎕⎕⎕⎕⎕⎕⎕⎕⎕⎕⎕⎕⎕⎕⎕⎕⎕⎕⎕⎕⎕⎕⎕⎕⎕⎕⎕⎕⎕⎕⎕⎕⎕⎕⎕⎕⎕⎕⎕⎕│\n",
       "│  lhs X rhs → 2.5E¯6 | -16% ⎕⎕⎕⎕⎕⎕⎕⎕⎕⎕⎕⎕⎕⎕⎕⎕⎕⎕⎕                     │\n",
       "└────────────────────────────────────────────────────────────────────┘\n",
       "</span>"
      ]
     },
     "execution_count": 14,
     "metadata": {},
     "output_type": "execute_result"
    }
   ],
   "source": [
    "lhs←6\n",
    "rhs←1 2 3 4 5 6\n",
    "\n",
    "E ← {n←1+2×⍺⋄n÷⍨n+/(⍺/1↑⍵),⍵,(⍺/¯1↑⍵)}\n",
    "R ← (1+2×⊣)(+/÷⊣)⍴∘⊃,⊢,⍴∘⊃∘⌽\n",
    "D ← {((1+(2×⍺))(+/)((⍺⍴(⊃⍵)),(⍵,(⍺⍴(⊃(⌽⍵))))))÷(1+(2×⍺))}\n",
    "M ← {(+/¨b,/(,(⍺/⊃⍵),⍵,⍺/⊃⌽⍵))÷b←1+2×⍺}  \n",
    "X ← {(1+2×⍺)(+⌿÷⊣)(⍺⍴⊃⍵),⍵,⍺⍴⊃⊖⍵}\n",
    "\n",
    "cmpx 'lhs E rhs' 'lhs R rhs' 'lhs D rhs' 'lhs M rhs' 'lhs X rhs'"
   ]
  },
  {
   "cell_type": "markdown",
   "id": "8bcfbe65",
   "metadata": {},
   "source": [
    "# Separation"
   ]
  },
  {
   "cell_type": "code",
   "execution_count": 15,
   "id": "610e8f00",
   "metadata": {
    "ExecuteTime": {
     "end_time": "2022-07-30T08:42:50.899501Z",
     "start_time": "2022-07-30T08:42:38.105978Z"
    },
    "scrolled": true
   },
   "outputs": [
    {
     "data": {
      "text/html": [
       "<span style=\"white-space:pre; font-family: monospace\">┌→───────────────────────────────────────────────────────────────────┐\n",
       "↓  lhs E rhs → 3.9E¯6 |   0% ⎕⎕⎕⎕⎕⎕⎕⎕⎕⎕⎕⎕⎕⎕⎕⎕⎕⎕⎕⎕⎕⎕⎕⎕⎕⎕⎕⎕⎕           │\n",
       "│  lhs R rhs → 4.5E¯6 | +14% ⎕⎕⎕⎕⎕⎕⎕⎕⎕⎕⎕⎕⎕⎕⎕⎕⎕⎕⎕⎕⎕⎕⎕⎕⎕⎕⎕⎕⎕⎕⎕⎕⎕       │\n",
       "│  lhs D rhs → 5.3E¯6 | +36% ⎕⎕⎕⎕⎕⎕⎕⎕⎕⎕⎕⎕⎕⎕⎕⎕⎕⎕⎕⎕⎕⎕⎕⎕⎕⎕⎕⎕⎕⎕⎕⎕⎕⎕⎕⎕⎕⎕⎕ │\n",
       "│  lhs M rhs → 5.4E¯6 | +38% ⎕⎕⎕⎕⎕⎕⎕⎕⎕⎕⎕⎕⎕⎕⎕⎕⎕⎕⎕⎕⎕⎕⎕⎕⎕⎕⎕⎕⎕⎕⎕⎕⎕⎕⎕⎕⎕⎕⎕⎕│\n",
       "│  lhs X rhs → 1.6E¯6 | -60% ⎕⎕⎕⎕⎕⎕⎕⎕⎕⎕⎕⎕                            │\n",
       "└────────────────────────────────────────────────────────────────────┘\n",
       "</span>"
      ]
     },
     "execution_count": 15,
     "metadata": {},
     "output_type": "execute_result"
    }
   ],
   "source": [
    "lhs ← '.' \n",
    "rhs ← 60⌽⎕D\n",
    "\n",
    "E ← {↑,/⍺{⍺}@{0=6|⌽⍳≢⍵}1↓(2⊂⍵)} \n",
    "R ← ∊,¨@{0@1⌽0=3|⍳≢⍵}⍥,\n",
    "D ← {∊((,⍺)({⍺(,¨)⍵}@{0@1⌽0=3|⍳≢⍵})(,⍵))}\n",
    "M ← {(999≥(⍎⍵))≡1:,⍵⋄1↓∊(⍺∘.,((¯1×(⍴⍵))↑∊⍉(1 1 1∘.×⍳20))⊆⍵)} \n",
    "X ← {⊖∊⍺(1↓∘,,⍤0)((≢⍵)⍴1 0 0)⊂⊖⍵}\n",
    "\n",
    "cmpx 'lhs E rhs' 'lhs R rhs' 'lhs D rhs' 'lhs M rhs' 'lhs X rhs'"
   ]
  },
  {
   "cell_type": "code",
   "execution_count": null,
   "id": "53fb341d",
   "metadata": {},
   "outputs": [],
   "source": []
  }
 ],
 "metadata": {
  "hide_input": false,
  "kernelspec": {
   "display_name": "Dyalog APL",
   "language": "apl",
   "name": "dyalog-kernel"
  },
  "language_info": {
   "file_extension": ".apl",
   "mimetype": "text/apl",
   "name": "APL"
  },
  "toc": {
   "base_numbering": 1,
   "nav_menu": {},
   "number_sections": true,
   "sideBar": true,
   "skip_h1_title": false,
   "title_cell": "Table of Contents",
   "title_sidebar": "Contents",
   "toc_cell": false,
   "toc_position": {},
   "toc_section_display": true,
   "toc_window_display": false
  },
  "varInspector": {
   "cols": {
    "lenName": 16,
    "lenType": 16,
    "lenVar": 40
   },
   "kernels_config": {
    "python": {
     "delete_cmd_postfix": "",
     "delete_cmd_prefix": "del ",
     "library": "var_list.py",
     "varRefreshCmd": "print(var_dic_list())"
    },
    "r": {
     "delete_cmd_postfix": ") ",
     "delete_cmd_prefix": "rm(",
     "library": "var_list.r",
     "varRefreshCmd": "cat(var_dic_list()) "
    }
   },
   "types_to_exclude": [
    "module",
    "function",
    "builtin_function_or_method",
    "instance",
    "_Feature"
   ],
   "window_display": false
  }
 },
 "nbformat": 4,
 "nbformat_minor": 5
}
