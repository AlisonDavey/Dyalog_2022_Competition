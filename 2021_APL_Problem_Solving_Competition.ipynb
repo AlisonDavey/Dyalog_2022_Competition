{
 "cells": [
  {
   "cell_type": "markdown",
   "id": "b6eabcbb",
   "metadata": {},
   "source": [
    "# DYALOG [2021 APL Problem Solving Competition](https://problems.tryapl.org/psets/2021.html)\n",
    "\n",
    "Explorations of Phase 1\n",
    "\n",
    "[APL Cheat Sheet](https://docs.google.com/spreadsheets/d/1Qsv4jTFdi_6H0NCENK8UqU8BUyszKU8QuS90mZHxlck/edit?usp=sharing) linking to Dyalog Language Reference Guide\n",
    "\n",
    "[Solutions](https://www.dyalog.com/blog/category/student-competition/) from Stefan Kruger\n"
   ]
  },
  {
   "cell_type": "code",
   "execution_count": 48,
   "id": "2d8ebbb1",
   "metadata": {},
   "outputs": [
    {
     "data": {
      "text/html": [
       "<span style=\"white-space:pre; font-family: monospace\">┌→─────────────┐\n",
       "│Was -style=max│\n",
       "└──────────────┘\n",
       "</span>"
      ]
     },
     "execution_count": 48,
     "metadata": {},
     "output_type": "execute_result"
    }
   ],
   "source": [
    "⎕ML←1\n",
    "⎕IO←1\n",
    "]box -s=max\n",
    "'cmpx'⎕cy'dfns'"
   ]
  },
  {
   "cell_type": "markdown",
   "id": "0acd93d0",
   "metadata": {},
   "source": [
    "## 1: Are You a Bacteria?\n",
    "\n",
    "A DNA string is composed of the letters ‘A’,’C’,’G’ and ‘T’. The GC-content of a DNA string is given by the percentage of the symbols in the string that are either ‘C’ or ‘G’. Very small discrepancies in GC-content can be used to distinguish species; for instance, most bacteria have a GC-content significantly higher than 50%.\n",
    "\n",
    "Write a function that:\n",
    "- has a right argument that is a non-empty character vector representing a DNA string.\n",
    "- returns the percentage of GC-content in the string.\n",
    "\n",
    "💡 **Hint:** The membership function [X∊Y](https://help.dyalog.com/latest/Content/Language/Primitive%20Functions/Membership.htm) could be helpful for this problem.\n",
    "Examples\n",
    "\n",
    "      (your_function) 'GCGCGCGCCCGGGGCCG'\n",
    "100\n",
    "\n",
    "      (your_function) 'ACGTACGTACGTACGT'\n",
    "50\n",
    "\n",
    "      (your_function) 10 12 16 10/'ACGT'\n",
    "58.33333333\n"
   ]
  },
  {
   "cell_type": "code",
   "execution_count": 1,
   "id": "daddb115",
   "metadata": {},
   "outputs": [
    {
     "data": {
      "text/html": [
       "<span style=\"white-space:pre; font-family: monospace\">100\n",
       "</span>"
      ]
     },
     "execution_count": 1,
     "metadata": {},
     "output_type": "execute_result"
    }
   ],
   "source": [
    "X←'GCGCGCGCCCGGGGCCG'\n",
    "Y←'ACGTACGTACGTACGT'\n",
    "Z←10 12 16 10/'ACGT'\n",
    "\n",
    "100×(+/X∊'GC')÷≢X"
   ]
  },
  {
   "cell_type": "code",
   "execution_count": 2,
   "id": "f091fed9",
   "metadata": {},
   "outputs": [
    {
     "data": {
      "text/html": [
       "<span style=\"white-space:pre; font-family: monospace\">100\n",
       "</span>"
      ]
     },
     "execution_count": 2,
     "metadata": {},
     "output_type": "execute_result"
    },
    {
     "data": {
      "text/html": [
       "<span style=\"white-space:pre; font-family: monospace\">50\n",
       "</span>"
      ]
     },
     "execution_count": 2,
     "metadata": {},
     "output_type": "execute_result"
    },
    {
     "data": {
      "text/html": [
       "<span style=\"white-space:pre; font-family: monospace\">58.3333\n",
       "</span>"
      ]
     },
     "execution_count": 2,
     "metadata": {},
     "output_type": "execute_result"
    }
   ],
   "source": [
    "{100×(+/⍵∊'GC')÷≢⍵} X\n",
    "{100×(+/⍵∊'GC')÷≢⍵} Y\n",
    "{100×(+/⍵∊'GC')÷≢⍵} Z"
   ]
  },
  {
   "cell_type": "code",
   "execution_count": 3,
   "id": "320dfe1a",
   "metadata": {},
   "outputs": [
    {
     "data": {
      "text/html": [
       "<span style=\"white-space:pre; font-family: monospace\">100\n",
       "</span>"
      ]
     },
     "execution_count": 3,
     "metadata": {},
     "output_type": "execute_result"
    }
   ],
   "source": [
    "{100×(+⌿÷≢)⍵∊'GC'} X"
   ]
  },
  {
   "cell_type": "code",
   "execution_count": 4,
   "id": "6dfdde7d",
   "metadata": {},
   "outputs": [
    {
     "data": {
      "text/html": [
       "<span style=\"white-space:pre; font-family: monospace\">100\n",
       "</span>"
      ]
     },
     "execution_count": 4,
     "metadata": {},
     "output_type": "execute_result"
    }
   ],
   "source": [
    "(100×≢÷⍨1⊥∊∘'GC') X"
   ]
  },
  {
   "cell_type": "code",
   "execution_count": 5,
   "id": "6164e2b4",
   "metadata": {},
   "outputs": [
    {
     "data": {
      "text/html": [
       "<span style=\"white-space:pre; font-family: monospace\">100\n",
       "</span>"
      ]
     },
     "execution_count": 5,
     "metadata": {},
     "output_type": "execute_result"
    }
   ],
   "source": [
    "1⊥6 3 9 8 12 62 ⍝ sum vector, same as +⌿"
   ]
  },
  {
   "cell_type": "markdown",
   "id": "9e4b9e5b",
   "metadata": {},
   "source": [
    "## 2: Index-Of Modified\n",
    "\n",
    "Write a function that behaves like the APL _index-of_ function R←X⍳Y except that it returns 0 instead of 1+≢X for elements of Y not found in X.\n",
    "\n",
    "**Examples**\n",
    "\n",
    "      'DYALOG' (your_function) 'APL'\n",
    "3 0 4\n",
    "      \n",
    "      (5 5⍴⎕A) (your_function) ↑'UVWXY' 'FGHIJ' 'XYZZY'\n",
    "5 2 0\n"
   ]
  },
  {
   "cell_type": "code",
   "execution_count": 6,
   "id": "01d6fe6a",
   "metadata": {},
   "outputs": [
    {
     "data": {
      "text/html": [
       "<span style=\"white-space:pre; font-family: monospace\">3 7 4\n",
       "</span>"
      ]
     },
     "execution_count": 6,
     "metadata": {},
     "output_type": "execute_result"
    }
   ],
   "source": [
    "X←'DYALOG'\n",
    "Y←'APL'\n",
    "\n",
    "X⍳Y"
   ]
  },
  {
   "cell_type": "code",
   "execution_count": 7,
   "id": "8ac03fa2",
   "metadata": {},
   "outputs": [
    {
     "data": {
      "text/html": [
       "<span style=\"white-space:pre; font-family: monospace\">7\n",
       "</span>"
      ]
     },
     "execution_count": 7,
     "metadata": {},
     "output_type": "execute_result"
    }
   ],
   "source": [
    "1+⍴X"
   ]
  },
  {
   "cell_type": "code",
   "execution_count": 8,
   "id": "8eb25df5",
   "metadata": {},
   "outputs": [
    {
     "data": {
      "text/html": [
       "<span style=\"white-space:pre; font-family: monospace\">2\n",
       "</span>"
      ]
     },
     "execution_count": 8,
     "metadata": {},
     "output_type": "execute_result"
    }
   ],
   "source": [
    "(X⍳Y)⍳1+⍴X ⍝ index location of 7"
   ]
  },
  {
   "cell_type": "code",
   "execution_count": 9,
   "id": "3ea4fc94",
   "metadata": {},
   "outputs": [
    {
     "data": {
      "text/html": [
       "<span style=\"white-space:pre; font-family: monospace\">1 10 3 20 5\n",
       "</span>"
      ]
     },
     "execution_count": 9,
     "metadata": {},
     "output_type": "execute_result"
    }
   ],
   "source": [
    "(10 20@2 4)⍳5   ⍝ Replace the 2nd and 4th items of ⍳5"
   ]
  },
  {
   "cell_type": "code",
   "execution_count": 10,
   "id": "0050bee7",
   "metadata": {},
   "outputs": [
    {
     "data": {
      "text/html": [
       "<span style=\"white-space:pre; font-family: monospace\">3 0 4\n",
       "</span>"
      ]
     },
     "execution_count": 10,
     "metadata": {},
     "output_type": "execute_result"
    }
   ],
   "source": [
    "(0@((X⍳Y)⍳1+⍴X)) X⍳Y"
   ]
  },
  {
   "cell_type": "code",
   "execution_count": 11,
   "id": "5ae637a5",
   "metadata": {},
   "outputs": [
    {
     "data": {
      "text/html": [
       "<span style=\"white-space:pre; font-family: monospace\">ABCDE\n",
       "FGHIJ\n",
       "KLMNO\n",
       "PQRST\n",
       "UVWXY\n",
       "</span>"
      ]
     },
     "execution_count": 11,
     "metadata": {},
     "output_type": "execute_result"
    },
    {
     "data": {
      "text/html": [
       "<span style=\"white-space:pre; font-family: monospace\">UVWXY\n",
       "FGHIJ\n",
       "XYZZY\n",
       "</span>"
      ]
     },
     "execution_count": 11,
     "metadata": {},
     "output_type": "execute_result"
    },
    {
     "data": {
      "text/html": [
       "<span style=\"white-space:pre; font-family: monospace\">5 2 6\n",
       "</span>"
      ]
     },
     "execution_count": 11,
     "metadata": {},
     "output_type": "execute_result"
    },
    {
     "data": {
      "text/html": [
       "<span style=\"white-space:pre; font-family: monospace\">5 2 0\n",
       "</span>"
      ]
     },
     "execution_count": 11,
     "metadata": {},
     "output_type": "execute_result"
    }
   ],
   "source": [
    "⊣X←(5 5⍴⎕A)\n",
    "⊣Y←↑'UVWXY' 'FGHIJ' 'XYZZY'\n",
    "\n",
    "X⍳Y\n",
    "(0@((X⍳Y)⍳1+⍴X)) X⍳Y"
   ]
  },
  {
   "cell_type": "code",
   "execution_count": 12,
   "id": "b96259fd",
   "metadata": {},
   "outputs": [
    {
     "data": {
      "text/html": [
       "<span style=\"white-space:pre; font-family: monospace\">5 2 0\n",
       "</span>"
      ]
     },
     "execution_count": 12,
     "metadata": {},
     "output_type": "execute_result"
    }
   ],
   "source": [
    "X{((0@((⍺⍳⍵)⍳1+⍴⍺)))⍺⍳⍵}Y"
   ]
  },
  {
   "cell_type": "code",
   "execution_count": 13,
   "id": "767cf45a",
   "metadata": {},
   "outputs": [
    {
     "data": {
      "text/html": [
       "<span style=\"white-space:pre; font-family: monospace\">0 6 6 2 6\n",
       "</span>"
      ]
     },
     "execution_count": 13,
     "metadata": {},
     "output_type": "execute_result"
    }
   ],
   "source": [
    "X←'12837'\n",
    "Y←'49426'\n",
    "X{((0@((⍺⍳⍵)⍳1+⍴⍺)))⍺⍳⍵}Y ⍝ only for 1st occurrence"
   ]
  },
  {
   "cell_type": "code",
   "execution_count": 14,
   "id": "4eb62fff",
   "metadata": {},
   "outputs": [
    {
     "data": {
      "text/html": [
       "<span style=\"white-space:pre; font-family: monospace\">1 2 3 5\n",
       "</span>"
      ]
     },
     "execution_count": 14,
     "metadata": {},
     "output_type": "execute_result"
    }
   ],
   "source": [
    "⍸(1+⍴X)=X⍳Y ⍝ indices of all occurrences"
   ]
  },
  {
   "cell_type": "code",
   "execution_count": 15,
   "id": "d6062e64",
   "metadata": {},
   "outputs": [
    {
     "data": {
      "text/html": [
       "<span style=\"white-space:pre; font-family: monospace\">5 2 0\n",
       "</span>"
      ]
     },
     "execution_count": 15,
     "metadata": {},
     "output_type": "execute_result"
    }
   ],
   "source": [
    "X←5 5⍴'ABCDEFGHIJKLMNOPQRSTUVWXY'\n",
    "Y←3 5⍴'UVWXYFGHIJXYZZY'\n",
    "\n",
    "X{(0@(⍸(⊃1+⍴⍺)=⍺⍳⍵))⍺⍳⍵}Y ⍝ ⊃ first"
   ]
  },
  {
   "cell_type": "code",
   "execution_count": 16,
   "id": "b2661277",
   "metadata": {},
   "outputs": [
    {
     "data": {
      "text/html": [
       "<span style=\"white-space:pre; font-family: monospace\"> 4  3  4\n",
       "10  1  5\n",
       " 3  2 10\n",
       "10  2  5\n",
       " 9  8 10\n",
       " 4  2  2\n",
       " 6  8 10\n",
       "10  1 10\n",
       " 9 10 10\n",
       " 9  9 10\n",
       "</span>"
      ]
     },
     "execution_count": 16,
     "metadata": {},
     "output_type": "execute_result"
    },
    {
     "data": {
      "text/html": [
       "<span style=\"white-space:pre; font-family: monospace\">1 2 3 4\n",
       "</span>"
      ]
     },
     "execution_count": 16,
     "metadata": {},
     "output_type": "execute_result"
    },
    {
     "data": {
      "text/html": [
       "<span style=\"white-space:pre; font-family: monospace\">0 10 100 1000\n",
       "</span>"
      ]
     },
     "execution_count": 16,
     "metadata": {},
     "output_type": "execute_result"
    },
    {
     "data": {
      "text/html": [
       "<span style=\"white-space:pre; font-family: monospace\">1000 100 1000\n",
       "  10   0    5\n",
       " 100  10   10\n",
       "  10  10    5\n",
       "   9   8   10\n",
       "1000  10   10\n",
       "   6   8   10\n",
       "  10   0   10\n",
       "   9  10   10\n",
       "   9   9   10\n",
       "</span>"
      ]
     },
     "execution_count": 16,
     "metadata": {},
     "output_type": "execute_result"
    }
   ],
   "source": [
    "⊣array ← ? 10 3 ⍴ 10\n",
    "⊣specific ← 1 2 3 4\n",
    "⊣replacements ← 0 10 100 1000\n",
    "\n",
    "_Replace_ ← {⍺⍺ ( ⍵⍵ ⌷⍨∘⊂ ⍳ ) @ ( ∊∘⍺⍺ ) ⍵} ⍝ Adám: general Replace\n",
    "(specific _Replace_ replacements) array"
   ]
  },
  {
   "cell_type": "code",
   "execution_count": 17,
   "id": "9184eadf",
   "metadata": {},
   "outputs": [
    {
     "data": {
      "text/html": [
       "<span style=\"white-space:pre; font-family: monospace\">3 0 4\n",
       "</span>"
      ]
     },
     "execution_count": 17,
     "metadata": {},
     "output_type": "execute_result"
    }
   ],
   "source": [
    "((,7) _Replace_ (,0)) 'DYALOG' ⍳ 'APL'"
   ]
  },
  {
   "cell_type": "code",
   "execution_count": 18,
   "id": "dc9481be",
   "metadata": {},
   "outputs": [
    {
     "data": {
      "text/html": [
       "<span style=\"white-space:pre; font-family: monospace\">{(0@(⍸(⊃1+⍴⍺)=⍺⍳⍵))⍺⍳⍵}\n",
       "</span>"
      ]
     },
     "execution_count": 18,
     "metadata": {},
     "output_type": "execute_result"
    }
   ],
   "source": [
    "{(0@(⍸(⊃1+⍴⍺)=⍺⍳⍵))⍺⍳⍵} ⍝ change to zero for occurrences of length of the argument + 1, using index location"
   ]
  },
  {
   "cell_type": "markdown",
   "id": "96894b71",
   "metadata": {},
   "source": [
    "### Solution `{0@((≢⍺)∘<)⊢⍺⍳⍵}` \n",
    "Stefan: change all instances of numbers greater than the length of the argument to zero"
   ]
  },
  {
   "cell_type": "code",
   "execution_count": 19,
   "id": "9d36a0fe",
   "metadata": {},
   "outputs": [
    {
     "data": {
      "text/html": [
       "<span style=\"white-space:pre; font-family: monospace\">* 2 * 4 *\n",
       "</span>"
      ]
     },
     "execution_count": 19,
     "metadata": {},
     "output_type": "execute_result"
    }
   ],
   "source": [
    "'*'@(2∘|) 1 2 3 4 5  ⍝ Boolean selection 1 0 1 0 1 of odd numbers"
   ]
  },
  {
   "cell_type": "code",
   "execution_count": 20,
   "id": "5972f1ff",
   "metadata": {},
   "outputs": [
    {
     "data": {
      "text/html": [
       "<span style=\"white-space:pre; font-family: monospace\">1 0 1 0 1\n",
       "</span>"
      ]
     },
     "execution_count": 20,
     "metadata": {},
     "output_type": "execute_result"
    }
   ],
   "source": [
    "2 | 1 2 3 4 5 ⍝ residue"
   ]
  },
  {
   "cell_type": "code",
   "execution_count": 21,
   "id": "3eea980e",
   "metadata": {},
   "outputs": [
    {
     "data": {
      "text/html": [
       "<span style=\"white-space:pre; font-family: monospace\">5\n",
       "</span>"
      ]
     },
     "execution_count": 21,
     "metadata": {},
     "output_type": "execute_result"
    }
   ],
   "source": [
    "≢X"
   ]
  },
  {
   "cell_type": "code",
   "execution_count": 22,
   "id": "1cc84284",
   "metadata": {},
   "outputs": [
    {
     "data": {
      "text/html": [
       "<span style=\"white-space:pre; font-family: monospace\">0 0 1\n",
       "</span>"
      ]
     },
     "execution_count": 22,
     "metadata": {},
     "output_type": "execute_result"
    }
   ],
   "source": [
    "(≢X) < X⍳Y"
   ]
  },
  {
   "cell_type": "code",
   "execution_count": 23,
   "id": "ced3e4a2",
   "metadata": {},
   "outputs": [
    {
     "data": {
      "text/html": [
       "<span style=\"white-space:pre; font-family: monospace\">5 2 0\n",
       "</span>"
      ]
     },
     "execution_count": 23,
     "metadata": {},
     "output_type": "execute_result"
    }
   ],
   "source": [
    "X{0@((≢⍺)∘<)⊢⍺⍳⍵}Y"
   ]
  },
  {
   "cell_type": "markdown",
   "id": "893621c6",
   "metadata": {},
   "source": [
    "### Tacit solution `⍳|⍨1+≢⍤⊣` same as `{(1+≢⍺)|⍺⍳⍵}`"
   ]
  },
  {
   "cell_type": "code",
   "execution_count": 24,
   "id": "07a7b10f",
   "metadata": {},
   "outputs": [
    {
     "data": {
      "text/html": [
       "<span style=\"white-space:pre; font-family: monospace\">┌─┼───┐\n",
       "⍳ ⍨ ┌─┼─┐\n",
       "┌─┘ 1 + ⍤\n",
       "|      ┌┴┐\n",
       "       ≢ ⊣\n",
       "</span>"
      ]
     },
     "execution_count": 24,
     "metadata": {},
     "output_type": "execute_result"
    }
   ],
   "source": [
    "⍳|⍨1+≢⍤⊣"
   ]
  },
  {
   "cell_type": "code",
   "execution_count": 25,
   "id": "86b11549",
   "metadata": {},
   "outputs": [
    {
     "data": {
      "text/html": [
       "<span style=\"white-space:pre; font-family: monospace\">5 2 0\n",
       "</span>"
      ]
     },
     "execution_count": 25,
     "metadata": {},
     "output_type": "execute_result"
    }
   ],
   "source": [
    "X(⍳|⍨1+≢⍤⊣)Y"
   ]
  },
  {
   "cell_type": "code",
   "execution_count": 26,
   "id": "64b677b9",
   "metadata": {},
   "outputs": [
    {
     "data": {
      "text/html": [
       "<span style=\"white-space:pre; font-family: monospace\">5 2 0\n",
       "</span>"
      ]
     },
     "execution_count": 26,
     "metadata": {},
     "output_type": "execute_result"
    }
   ],
   "source": [
    "X{(1+≢⍺)|⍺⍳⍵}Y"
   ]
  },
  {
   "cell_type": "code",
   "execution_count": 27,
   "id": "fa1170aa",
   "metadata": {},
   "outputs": [
    {
     "data": {
      "text/html": [
       "<span style=\"white-space:pre; font-family: monospace\">6\n",
       "</span>"
      ]
     },
     "execution_count": 27,
     "metadata": {},
     "output_type": "execute_result"
    }
   ],
   "source": [
    "1+≢X"
   ]
  },
  {
   "cell_type": "code",
   "execution_count": 28,
   "id": "082fe8b7",
   "metadata": {},
   "outputs": [
    {
     "data": {
      "text/html": [
       "<span style=\"white-space:pre; font-family: monospace\">5 2 6\n",
       "</span>"
      ]
     },
     "execution_count": 28,
     "metadata": {},
     "output_type": "execute_result"
    }
   ],
   "source": [
    "X⍳Y"
   ]
  },
  {
   "cell_type": "code",
   "execution_count": 29,
   "id": "1ed68755",
   "metadata": {},
   "outputs": [
    {
     "data": {
      "text/html": [
       "<span style=\"white-space:pre; font-family: monospace\">5 2 0\n",
       "</span>"
      ]
     },
     "execution_count": 29,
     "metadata": {},
     "output_type": "execute_result"
    }
   ],
   "source": [
    "(1+≢X) | X⍳Y"
   ]
  },
  {
   "cell_type": "markdown",
   "id": "b0144b17",
   "metadata": {},
   "source": [
    "### Tacit solution `≢⍤⊣(≥×⊢)⍳` same as `{m×(≢⍺)≥m←⍺⍳⍵}` "
   ]
  },
  {
   "cell_type": "code",
   "execution_count": 30,
   "id": "cf4f74d0",
   "metadata": {},
   "outputs": [
    {
     "data": {
      "text/html": [
       "<span style=\"white-space:pre; font-family: monospace\"> ┌────┼───┐\n",
       " ⍤  ┌─┼─┐ ⍳\n",
       "┌┴┐ ≥ × ⊢\n",
       "≢ ⊣\n",
       "</span>"
      ]
     },
     "execution_count": 30,
     "metadata": {},
     "output_type": "execute_result"
    }
   ],
   "source": [
    "≢⍤⊣(≥×⊢)⍳"
   ]
  },
  {
   "cell_type": "code",
   "execution_count": 31,
   "id": "f9358c13",
   "metadata": {},
   "outputs": [
    {
     "data": {
      "text/html": [
       "<span style=\"white-space:pre; font-family: monospace\">5 2 0\n",
       "</span>"
      ]
     },
     "execution_count": 31,
     "metadata": {},
     "output_type": "execute_result"
    }
   ],
   "source": [
    "X(≢⍤⊣(≥×⊢)⍳)Y"
   ]
  },
  {
   "cell_type": "code",
   "execution_count": 32,
   "id": "c1b159e8",
   "metadata": {},
   "outputs": [
    {
     "data": {
      "text/html": [
       "<span style=\"white-space:pre; font-family: monospace\">5 2 0\n",
       "</span>"
      ]
     },
     "execution_count": 32,
     "metadata": {},
     "output_type": "execute_result"
    }
   ],
   "source": [
    "X{m×(≢⍺)≥m←⍺⍳⍵}Y ⍝ multiply ⍺⍳⍵ with ≢⍺"
   ]
  },
  {
   "cell_type": "markdown",
   "id": "8ecb7d8f",
   "metadata": {},
   "source": [
    "## 3: Multiplicity\n",
    "\n",
    "Write a function that:\n",
    "- has a right argument Y which is an integer vector or scalar\n",
    "- has a left argument X which is also an integer vector or scalar\n",
    "- finds which elements of Y are multiples of each element of X and returns them as a vector (in the order of X) of vectors (in the order of Y).\n",
    "\n",
    "💡 **Hint:** The _residue_ function [X|Y](https://help.dyalog.com/latest/Content/Language/Primitive%20Functions/Residue.htm) and _outer product_ operator [X∘.fY](https://help.dyalog.com/latest/Content/Language/Primitive%20Operators/Outer%20Product.htm) might be useful for this problem.\n",
    "\n",
    "**Examples**\n",
    "\n",
    "      ⎕←Y←20?20 ⍝ your example may be different\n",
    "5 7 8 1 12 10 20 16 11 4 2 15 3 18 14 19 13 9 17 6\n",
    "      \n",
    "      2 4 7 3 9 (your_function) Y ⍝ using ]Box on\n",
    "```\n",
    "┌─────────────────────────┬────────────┬────┬──────────────┬────┐\n",
    "│8 12 10 20 16 4 2 18 14 6│8 12 20 16 4│7 14│12 15 3 18 9 6│18 9│\n",
    "└─────────────────────────┴────────────┴────┴──────────────┴────┘\n",
    "```\n",
    "      \n",
    "      3 (your_function) ⍳10\n",
    "```\n",
    "┌─────┐\n",
    "│3 6 9│\n",
    "└─────┘\n",
    "```\n",
    "      6 7 (your_function) 42\n",
    "```\n",
    "┌──┬──┐\n",
    "│42│42│\n",
    "└──┴──┘\n",
    "```\n",
    "      \n",
    "      2 3 5 (your_function) ⍬ ⍝ returns a vector of 3 empty vectors\n",
    "```\n",
    "┌┬┬┐\n",
    "││││\n",
    "└┴┴┘\n",
    "```\n",
    "      ⍬ (your_function) ⍳10 ⍝ returns an empty vector\n"
   ]
  },
  {
   "cell_type": "code",
   "execution_count": 170,
   "id": "50a5e8d9",
   "metadata": {},
   "outputs": [
    {
     "data": {
      "text/html": [
       "<span style=\"white-space:pre; font-family: monospace\">┌→──────────────────┐\n",
       "│0 0 1 0 0 1 0 0 1 0│\n",
       "└~──────────────────┘\n",
       "</span>"
      ]
     },
     "execution_count": 170,
     "metadata": {},
     "output_type": "execute_result"
    },
    {
     "data": {
      "text/html": [
       "<span style=\"white-space:pre; font-family: monospace\">┌───────────────────────┐\n",
       "│ ┌→──────────────────┐ │\n",
       "│ │0 0 1 0 0 1 0 0 1 0│ │\n",
       "│ └~──────────────────┘ │\n",
       "└∊──────────────────────┘\n",
       "</span>"
      ]
     },
     "execution_count": 170,
     "metadata": {},
     "output_type": "execute_result"
    },
    {
     "data": {
      "text/html": [
       "<span style=\"white-space:pre; font-family: monospace\">┌─────────┐\n",
       "│ ┌→────┐ │\n",
       "│ │3 6 9│ │\n",
       "│ └~────┘ │\n",
       "└∊────────┘\n",
       "</span>"
      ]
     },
     "execution_count": 170,
     "metadata": {},
     "output_type": "execute_result"
    }
   ],
   "source": [
    "Y←⍳10\n",
    "X←3\n",
    "0=X∘.|Y\n",
    "↓0=X∘.|Y\n",
    "/∘Y¨↓0=X∘.|Y"
   ]
  },
  {
   "cell_type": "code",
   "execution_count": 172,
   "id": "92824bcf",
   "metadata": {},
   "outputs": [
    {
     "data": {
      "text/html": [
       "<span style=\"white-space:pre; font-family: monospace\">┌→──┐\n",
       "│1 1│\n",
       "└~──┘\n",
       "</span>"
      ]
     },
     "execution_count": 172,
     "metadata": {},
     "output_type": "execute_result"
    },
    {
     "data": {
      "text/html": [
       "<span style=\"white-space:pre; font-family: monospace\">┌───────┐\n",
       "│ ┌→──┐ │\n",
       "│ │1 1│ │\n",
       "│ └~──┘ │\n",
       "└∊──────┘\n",
       "</span>"
      ]
     },
     "execution_count": 172,
     "metadata": {},
     "output_type": "execute_result"
    },
    {
     "data": {
      "text/html": [
       "<span style=\"white-space:pre; font-family: monospace\">┌→──────────┐\n",
       "│ ┌→─┐ ┌→─┐ │\n",
       "│ │42│ │42│ │\n",
       "│ └~─┘ └~─┘ │\n",
       "└∊──────────┘\n",
       "</span>"
      ]
     },
     "execution_count": 172,
     "metadata": {},
     "output_type": "execute_result"
    }
   ],
   "source": [
    "Y←42\n",
    "X←6 7\n",
    "0=X∘.|Y\n",
    "↓0=X∘.|Y\n",
    "/∘Y¨0=↓X∘.|,Y"
   ]
  },
  {
   "cell_type": "markdown",
   "id": "bce0d9bd",
   "metadata": {},
   "source": [
    "### Solution `{/∘⍵¨0=↓⍺∘.|,⍵}`"
   ]
  },
  {
   "cell_type": "code",
   "execution_count": 173,
   "id": "8528816a",
   "metadata": {},
   "outputs": [
    {
     "data": {
      "text/html": [
       "<span style=\"white-space:pre; font-family: monospace\">┌⊖┐\n",
       "↓0│\n",
       "│0│\n",
       "│0│\n",
       "└~┘\n",
       "</span>"
      ]
     },
     "execution_count": 173,
     "metadata": {},
     "output_type": "execute_result"
    },
    {
     "data": {
      "text/html": [
       "<span style=\"white-space:pre; font-family: monospace\">┌→────────────┐\n",
       "│ ┌⊖┐ ┌⊖┐ ┌⊖┐ │\n",
       "│ │0│ │0│ │0│ │\n",
       "│ └~┘ └~┘ └~┘ │\n",
       "└∊────────────┘\n",
       "</span>"
      ]
     },
     "execution_count": 173,
     "metadata": {},
     "output_type": "execute_result"
    },
    {
     "data": {
      "text/html": [
       "<span style=\"white-space:pre; font-family: monospace\">┌→────────────┐\n",
       "│ ┌⊖┐ ┌⊖┐ ┌⊖┐ │\n",
       "│ │0│ │0│ │0│ │\n",
       "│ └~┘ └~┘ └~┘ │\n",
       "└∊────────────┘\n",
       "</span>"
      ]
     },
     "execution_count": 173,
     "metadata": {},
     "output_type": "execute_result"
    }
   ],
   "source": [
    "Y←⍬\n",
    "X←2 3 5\n",
    "0=X∘.|Y\n",
    "↓0=X∘.|Y\n",
    "/∘Y¨0=↓X∘.|,Y"
   ]
  },
  {
   "cell_type": "code",
   "execution_count": 174,
   "id": "90631c9d",
   "metadata": {},
   "outputs": [
    {
     "data": {
      "text/html": [
       "<span style=\"white-space:pre; font-family: monospace\">┌→──────────────────┐\n",
       "⌽0 0 0 0 0 0 0 0 0 0│\n",
       "└~──────────────────┘\n",
       "</span>"
      ]
     },
     "execution_count": 174,
     "metadata": {},
     "output_type": "execute_result"
    },
    {
     "data": {
      "text/html": [
       "<span style=\"white-space:pre; font-family: monospace\">┌⊖──────────────────────┐\n",
       "│ ┌→──────────────────┐ │\n",
       "│ │0 0 0 0 0 0 0 0 0 0│ │\n",
       "│ └~──────────────────┘ │\n",
       "└∊──────────────────────┘\n",
       "</span>"
      ]
     },
     "execution_count": 174,
     "metadata": {},
     "output_type": "execute_result"
    },
    {
     "data": {
      "text/html": [
       "<span style=\"white-space:pre; font-family: monospace\">┌⊖────┐\n",
       "│ ┌⊖┐ │\n",
       "│ │0│ │\n",
       "│ └~┘ │\n",
       "└∊────┘\n",
       "</span>"
      ]
     },
     "execution_count": 174,
     "metadata": {},
     "output_type": "execute_result"
    }
   ],
   "source": [
    "Y←⍳10 \n",
    "X←⍬\n",
    "0=X∘.|Y\n",
    "↓0=X∘.|Y\n",
    "/∘Y¨0=↓X∘.|,Y"
   ]
  },
  {
   "cell_type": "code",
   "execution_count": 175,
   "id": "ea18d3b0",
   "metadata": {},
   "outputs": [
    {
     "data": {
      "text/html": [
       "<span style=\"white-space:pre; font-family: monospace\">┌→──────────────────────────────────────┐\n",
       "↓0 0 1 0 1 1 1 1 0 1 1 0 0 1 1 0 0 0 0 1│\n",
       "│0 0 1 0 1 0 1 1 0 1 0 0 0 0 0 0 0 0 0 0│\n",
       "│0 1 0 0 0 0 0 0 0 0 0 0 0 0 1 0 0 0 0 0│\n",
       "│0 0 0 0 1 0 0 0 0 0 0 1 1 1 0 0 0 1 0 1│\n",
       "│0 0 0 0 0 0 0 0 0 0 0 0 0 1 0 0 0 1 0 0│\n",
       "└~──────────────────────────────────────┘\n",
       "</span>"
      ]
     },
     "execution_count": 175,
     "metadata": {},
     "output_type": "execute_result"
    },
    {
     "data": {
      "text/html": [
       "<span style=\"white-space:pre; font-family: monospace\">┌→─────────────────────────────────────────────────────────────────────────────\n",
       "│ ┌→──────────────────────────────────────┐ ┌→─────────────────────────────────\n",
       "│ │0 0 1 0 1 1 1 1 0 1 1 0 0 1 1 0 0 0 0 1│ │0 0 1 0 1 0 1 1 0 1 0 0 0 0 0 0 0 \n",
       "│ └~──────────────────────────────────────┘ └~─────────────────────────────────\n",
       "└∊─────────────────────────────────────────────────────────────────────────────\n",
       "      ─────────────────────────────────────────────────────────────────────────\n",
       "      ─────┐ ┌→──────────────────────────────────────┐ ┌→──────────────────────\n",
       "      0 0 0│ │0 1 0 0 0 0 0 0 0 0 0 0 0 0 1 0 0 0 0 0│ │0 0 0 0 1 0 0 0 0 0 0 1\n",
       "      ─────┘ └~──────────────────────────────────────┘ └~──────────────────────\n",
       "      ─────────────────────────────────────────────────────────────────────────\n",
       "      ────────────────────────────────────────────────────────────┐\n",
       "      ────────────────┐ ┌→──────────────────────────────────────┐ │\n",
       "       1 1 0 0 0 1 0 1│ │0 0 0 0 0 0 0 0 0 0 0 0 0 1 0 0 0 1 0 0│ │\n",
       "      ────────────────┘ └~──────────────────────────────────────┘ │\n",
       "      ────────────────────────────────────────────────────────────┘\n",
       "</span>"
      ]
     },
     "execution_count": 175,
     "metadata": {},
     "output_type": "execute_result"
    },
    {
     "data": {
      "text/html": [
       "<span style=\"white-space:pre; font-family: monospace\">┌→──────────────────────────────────────────────────────────────────────────┐\n",
       "│ ┌→────────────────────────┐ ┌→───────────┐ ┌→───┐ ┌→─────────────┐ ┌→───┐ │\n",
       "│ │8 12 10 20 16 4 2 18 14 6│ │8 12 20 16 4│ │7 14│ │12 15 3 18 9 6│ │18 9│ │\n",
       "│ └~────────────────────────┘ └~───────────┘ └~───┘ └~─────────────┘ └~───┘ │\n",
       "└∊──────────────────────────────────────────────────────────────────────────┘\n",
       "</span>"
      ]
     },
     "execution_count": 175,
     "metadata": {},
     "output_type": "execute_result"
    }
   ],
   "source": [
    "Y←5 7 8 1 12 10 20 16 11 4 2 15 3 18 14 19 13 9 17 6\n",
    "X←2 4 7 3 9\n",
    "0=X∘.|Y\n",
    "↓0=X∘.|Y\n",
    "/∘Y¨0=↓X∘.|,Y"
   ]
  },
  {
   "cell_type": "code",
   "execution_count": 176,
   "id": "6f9edace",
   "metadata": {},
   "outputs": [
    {
     "data": {
      "text/html": [
       "<span style=\"white-space:pre; font-family: monospace\">┌→──────────────────────────────────────────────────────────────────────────┐\n",
       "│ ┌→────────────────────────┐ ┌→───────────┐ ┌→───┐ ┌→─────────────┐ ┌→───┐ │\n",
       "│ │8 12 10 20 16 4 2 18 14 6│ │8 12 20 16 4│ │7 14│ │12 15 3 18 9 6│ │18 9│ │\n",
       "│ └~────────────────────────┘ └~───────────┘ └~───┘ └~─────────────┘ └~───┘ │\n",
       "└∊──────────────────────────────────────────────────────────────────────────┘\n",
       "</span>"
      ]
     },
     "execution_count": 176,
     "metadata": {},
     "output_type": "execute_result"
    }
   ],
   "source": [
    "X{/∘⍵¨0=↓⍺∘.|,⍵}Y"
   ]
  },
  {
   "cell_type": "markdown",
   "id": "c90d2a4a",
   "metadata": {},
   "source": [
    "### Tacit solution `⊢⊂⍤/⍤1⍨0=∘.|⍥,`"
   ]
  },
  {
   "cell_type": "code",
   "execution_count": 177,
   "id": "93c16f00",
   "metadata": {},
   "outputs": [
    {
     "data": {
      "text/html": [
       "<span style=\"white-space:pre; font-family: monospace\">  ┌─┼───┐   \n",
       "  ⊢ ⍨ ┌─┼─┐ \n",
       "  ┌─┘ 0 = ⍥ \n",
       "  ⍤      ┌┴┐\n",
       " ┌┴┐     . ,\n",
       " ⍤ 1    ┌┴┐ \n",
       "┌┴┐     ∘ | \n",
       "⊂ /         \n",
       "</span>"
      ]
     },
     "execution_count": 177,
     "metadata": {},
     "output_type": "execute_result"
    }
   ],
   "source": [
    "⊢⊂⍤/⍤1⍨0=∘.|⍥,"
   ]
  },
  {
   "cell_type": "code",
   "execution_count": 180,
   "id": "44e27b3a",
   "metadata": {},
   "outputs": [
    {
     "data": {
      "text/html": [
       "<span style=\"white-space:pre; font-family: monospace\">┌→──────────────────────────────────────────────────────────────────────────┐\n",
       "│ ┌→────────────────────────┐ ┌→───────────┐ ┌→───┐ ┌→─────────────┐ ┌→───┐ │\n",
       "│ │8 12 10 20 16 4 2 18 14 6│ │8 12 20 16 4│ │7 14│ │12 15 3 18 9 6│ │18 9│ │\n",
       "│ └~────────────────────────┘ └~───────────┘ └~───┘ └~─────────────┘ └~───┘ │\n",
       "└∊──────────────────────────────────────────────────────────────────────────┘\n",
       "</span>"
      ]
     },
     "execution_count": 180,
     "metadata": {},
     "output_type": "execute_result"
    }
   ],
   "source": [
    "X(⊢⊂⍤/⍤1⍨0=∘.|⍥,)Y"
   ]
  },
  {
   "cell_type": "markdown",
   "id": "d3e666a8",
   "metadata": {},
   "source": [
    "## 4: Square Peg, Round Hole\n",
    "\n",
    "Write a function that:\n",
    "- takes a right argument which is an array of positive numbers representing circle diameters\n",
    "- returns a numeric array of the same shape as the right argument representing the difference between the areas of the circles and the areas of the largest squares that can be inscribed within each circle\n",
    "\n",
    "💡 **Hint:** The _pi times_ function [○Y](https://help.dyalog.com/latest/Content/Language/Primitive%20Functions/Pi%20Times.htm) could be helpful.\n",
    "\n",
    "**Examples**\n",
    "\n",
    "      (your_function) 2×⍳5\n",
    "1.141592654 4.566370614 10.27433388 18.26548246 28.53981634\n",
    "\n",
    "      (your_function) (2*.5)×3 3 ⍴⍳9\n",
    " 0.5707963268  2.283185307  5.137166941\n",
    " 9.132741229  14.26990817  20.54866776 \n",
    "27.96902001   36.53096491  46.23450247 \n",
    "\n",
    "Note: The largest square inscribed in a circle of radius r will have a side length of r√2 ."
   ]
  },
  {
   "cell_type": "code",
   "execution_count": 190,
   "id": "05e4113f",
   "metadata": {},
   "outputs": [
    {
     "data": {
      "text/html": [
       "<span style=\"white-space:pre; font-family: monospace\">       \n",
       "7.06858\n",
       "       \n",
       "</span>"
      ]
     },
     "execution_count": 190,
     "metadata": {},
     "output_type": "execute_result"
    },
    {
     "data": {
      "text/html": [
       "<span style=\"white-space:pre; font-family: monospace\">   \n",
       "4.5\n",
       "   \n",
       "</span>"
      ]
     },
     "execution_count": 190,
     "metadata": {},
     "output_type": "execute_result"
    },
    {
     "data": {
      "text/html": [
       "<span style=\"white-space:pre; font-family: monospace\">       \n",
       "2.56858\n",
       "       \n",
       "</span>"
      ]
     },
     "execution_count": 190,
     "metadata": {},
     "output_type": "execute_result"
    }
   ],
   "source": [
    "X←3\n",
    "○(X÷2)*2  ⍝ circle area\n",
    "2×(X÷2)*2 ⍝ area largest square within circle\n",
    "\n",
    "(¯2+○1)×(X÷2)*2"
   ]
  },
  {
   "cell_type": "code",
   "execution_count": 195,
   "id": "6116bf0e",
   "metadata": {},
   "outputs": [
    {
     "data": {
      "text/html": [
       "<span style=\"white-space:pre; font-family: monospace\">┌→──────────────────────────────────────────────────────────┐\n",
       "│1.141592654 4.566370614 10.27433388 18.26548246 28.53981634│\n",
       "└~──────────────────────────────────────────────────────────┘\n",
       "</span>"
      ]
     },
     "execution_count": 195,
     "metadata": {},
     "output_type": "execute_result"
    }
   ],
   "source": [
    "X←2×⍳5\n",
    "(¯2+○1)×(X÷2)*2"
   ]
  },
  {
   "cell_type": "code",
   "execution_count": 197,
   "id": "06b16970",
   "metadata": {},
   "outputs": [
    {
     "data": {
      "text/html": [
       "<span style=\"white-space:pre; font-family: monospace\">┌→──────────────────────────────────────┐\n",
       "↓ 0.5707963268  2.283185307  5.137166941│\n",
       "│ 9.132741229  14.26990817  20.54866776 │\n",
       "│27.96902001   36.53096491  46.23450247 │\n",
       "└~──────────────────────────────────────┘\n",
       "</span>"
      ]
     },
     "execution_count": 197,
     "metadata": {},
     "output_type": "execute_result"
    }
   ],
   "source": [
    "X←(2*.5)×3 3 ⍴⍳9\n",
    "(¯2+○1)×(X÷2)*2"
   ]
  },
  {
   "cell_type": "code",
   "execution_count": 214,
   "id": "401cb60d",
   "metadata": {},
   "outputs": [
    {
     "data": {
      "text/html": [
       "<span style=\"white-space:pre; font-family: monospace\">{(¯2+○1)××⍨⍵÷2}\n",
       "</span>"
      ]
     },
     "execution_count": 214,
     "metadata": {},
     "output_type": "execute_result"
    },
    {
     "data": {
      "text/html": [
       "<span style=\"white-space:pre; font-family: monospace\">{(○2*⍨⍵÷2)-2÷⍨⍵*2}\n",
       "</span>"
      ]
     },
     "execution_count": 214,
     "metadata": {},
     "output_type": "execute_result"
    }
   ],
   "source": [
    "{(¯2+○1)××⍨⍵÷2}    ⍝ me\n",
    "{(○2*⍨⍵÷2)-2÷⍨⍵*2} ⍝ Stefan"
   ]
  },
  {
   "cell_type": "code",
   "execution_count": 215,
   "id": "90cc7fab",
   "metadata": {},
   "outputs": [
    {
     "data": {
      "text/html": [
       "<span style=\"white-space:pre; font-family: monospace\">       \n",
       "2.56858\n",
       "       \n",
       "</span>"
      ]
     },
     "execution_count": 215,
     "metadata": {},
     "output_type": "execute_result"
    }
   ],
   "source": [
    "{(¯2+○1)××⍨⍵÷2}3"
   ]
  },
  {
   "cell_type": "markdown",
   "id": "747f696f",
   "metadata": {},
   "source": [
    "### Tacit solution `(○-+⍨)4÷⍨×⍨`"
   ]
  },
  {
   "cell_type": "markdown",
   "id": "d65396aa",
   "metadata": {},
   "source": [
    "### Solution `{⍵×⍵×0.5-⍨○÷4}`\n",
    "\n",
    "The area of the circle is `○r*2`, which is `○(⍵÷2)*2`, in turn equivalent to `⍵×⍵×○÷4`. The area of the square ABCD is twice the area of the triangle ABC. Given that the area of the triangle is `0.5×⍵×⍵÷2`, the area of the square becomes `0.5×⍵×⍵`. Putting both together, we get `(⍵×⍵×○÷4)-⍵×⍵×0.5`, the same as `⍵×⍵×(○÷4)-0.5`, which is `⍵×⍵×0.5-⍨○÷4`."
   ]
  },
  {
   "cell_type": "code",
   "execution_count": null,
   "id": "9909abcc",
   "metadata": {},
   "outputs": [],
   "source": []
  }
 ],
 "metadata": {
  "kernelspec": {
   "display_name": "Dyalog APL",
   "language": "apl",
   "name": "dyalog-kernel"
  },
  "language_info": {
   "file_extension": ".apl",
   "mimetype": "text/apl",
   "name": "APL"
  }
 },
 "nbformat": 4,
 "nbformat_minor": 5
}
