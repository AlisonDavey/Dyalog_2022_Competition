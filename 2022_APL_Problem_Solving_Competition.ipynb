{
 "cells": [
  {
   "cell_type": "markdown",
   "id": "96efacb8",
   "metadata": {},
   "source": [
    "# DYALOG [2022 APL Problem Solving Competition](https://contest.dyalog.com/?goto=welcome)\n",
    "\n",
    "Explorations of Phase 1\n",
    "Based on fast.ai forum discussion thread [Array programming](https://forums.fast.ai/t/2022-apl-problem-solving-competition-discussion/97850)\n",
    "\n",
    "[APL Cheat Sheet](https://docs.google.com/spreadsheets/d/1Qsv4jTFdi_6H0NCENK8UqU8BUyszKU8QuS90mZHxlck/edit?usp=sharing) linking to Dyalog Language Reference Guide"
   ]
  },
  {
   "cell_type": "code",
   "execution_count": 23,
   "id": "095f0fc7",
   "metadata": {},
   "outputs": [
    {
     "data": {
      "text/html": [
       "<span style=\"white-space:pre; font-family: monospace\">┌→─────────────┐\n",
       "│Was -style=max│\n",
       "└──────────────┘\n",
       "</span>"
      ]
     },
     "execution_count": 23,
     "metadata": {},
     "output_type": "execute_result"
    }
   ],
   "source": [
    "⎕ML←1\n",
    "⎕IO←1\n",
    "]box -s=max\n",
    "'cmpx'⎕cy'dfns'"
   ]
  },
  {
   "cell_type": "markdown",
   "id": "3e8bfa4d",
   "metadata": {},
   "source": [
    "## 1. [Counting DNA Nucleotides](https://contest.dyalog.com/?goto=P11)\n",
    "\n",
    "This problem was inspired by [Counting DNA Nucleotides](https://rosalind.info/problems/dna/) found on the excellent bioinformatics website [rosalind.info](https://rosalind.info/problems/locations/).\n",
    "\n",
    "Write a function that:\n",
    "- takes a right argument that is a character vector or scalar representing a DNA string (whose alphabet contains the symbols 'A', 'C', 'G', and 'T').\n",
    "- returns a 4-element numeric vector containing the counts of each symbol 'A', 'C', 'G', and 'T' respectively.\n",
    "\n",
    "**Hint:** The _key_ operator [f⌸](https://help.dyalog.com/latest/#Language/Primitive%20Operators/Key.htm) or the _outer product_ operator [∘.g](https://help.dyalog.com/latest/#Language/Primitive%20Operators/Outer%20Product.htm) could be helpful.\n",
    "\n",
    "**Examples**\n",
    "\n",
    "      (your_function) 'AGCTTTTCATTCTGACTGCAACGGGCAATATGTCTCTGTGTGGATTAAAAAAAGAGTGTCTGATAGCAGC'\n",
    "20 12 17 21\n",
    "\n",
    "      (your_function) ''\n",
    "0 0 0 0\n",
    "\n",
    "      (your_function) 'G'\n",
    "0 0 1 0"
   ]
  },
  {
   "cell_type": "code",
   "execution_count": 210,
   "id": "b3d2cc3f",
   "metadata": {},
   "outputs": [],
   "source": [
    "X←'AGCTTTTCATTCTGACTGCAACGGGCAATATGTCTCTGTGTGGATTAAAAAAAGAGTGTCTGATAGCAGC'\n",
    "Y←''\n",
    "Z←'G'"
   ]
  },
  {
   "cell_type": "code",
   "execution_count": 213,
   "id": "880aad78",
   "metadata": {},
   "outputs": [
    {
     "data": {
      "text/html": [
       "<span style=\"white-space:pre; font-family: monospace\"> \n",
       "G\n",
       "-\n",
       "</span>"
      ]
     },
     "execution_count": 213,
     "metadata": {},
     "output_type": "execute_result"
    },
    {
     "data": {
      "text/html": [
       "<span style=\"white-space:pre; font-family: monospace\">┌⊖┐\n",
       "│0│\n",
       "└~┘\n",
       "</span>"
      ]
     },
     "execution_count": 213,
     "metadata": {},
     "output_type": "execute_result"
    },
    {
     "data": {
      "text/html": [
       "<span style=\"white-space:pre; font-family: monospace\">┌→┐\n",
       "│G│\n",
       "└─┘\n",
       "</span>"
      ]
     },
     "execution_count": 213,
     "metadata": {},
     "output_type": "execute_result"
    },
    {
     "data": {
      "text/html": [
       "<span style=\"white-space:pre; font-family: monospace\">┌→┐\n",
       "│1│\n",
       "└~┘\n",
       "</span>"
      ]
     },
     "execution_count": 213,
     "metadata": {},
     "output_type": "execute_result"
    }
   ],
   "source": [
    "Z \n",
    "⍴Z ⍝ shape\n",
    ",Z ⍝ ravel, needed for scalars\n",
    "⍴,Z"
   ]
  },
  {
   "cell_type": "code",
   "execution_count": 214,
   "id": "baa2e11d",
   "metadata": {},
   "outputs": [
    {
     "data": {
      "text/html": [
       "<span style=\"white-space:pre; font-family: monospace\">┌→──────────────────────────────────────────────────────────────────────────────────────────────────────────────────────────────────────────┐\n",
       "↓1 0 0 0 0 0 0 0 1 0 0 0 0 0 1 0 0 0 0 1 1 0 0 0 0 0 1 1 0 1 0 0 0 0 0 0 0 0 0 0 0 0 0 1 0 0 1 1 1 1 1 1 1 0 1 0 0 0 0 0 0 0 1 0 1 0 0 1 0 0│\n",
       "│0 0 1 0 0 0 0 1 0 0 0 1 0 0 0 1 0 0 1 0 0 1 0 0 0 1 0 0 0 0 0 0 0 1 0 1 0 0 0 0 0 0 0 0 0 0 0 0 0 0 0 0 0 0 0 0 0 0 0 1 0 0 0 0 0 0 1 0 0 1│\n",
       "│0 1 0 0 0 0 0 0 0 0 0 0 0 1 0 0 0 1 0 0 0 0 1 1 1 0 0 0 0 0 0 1 0 0 0 0 0 1 0 1 0 1 1 0 0 0 0 0 0 0 0 0 0 1 0 1 0 1 0 0 0 1 0 0 0 1 0 0 1 0│\n",
       "│0 0 0 1 1 1 1 0 0 1 1 0 1 0 0 0 1 0 0 0 0 0 0 0 0 0 0 0 1 0 1 0 1 0 1 0 1 0 1 0 1 0 0 0 1 1 0 0 0 0 0 0 0 0 0 0 1 0 1 0 1 0 0 1 0 0 0 0 0 0│\n",
       "└~──────────────────────────────────────────────────────────────────────────────────────────────────────────────────────────────────────────┘\n",
       "</span>"
      ]
     },
     "execution_count": 214,
     "metadata": {},
     "output_type": "execute_result"
    }
   ],
   "source": [
    "'ACGT'∘.=,X ⍝ outer product equals ravel"
   ]
  },
  {
   "cell_type": "code",
   "execution_count": 215,
   "id": "01674568",
   "metadata": {},
   "outputs": [
    {
     "data": {
      "text/html": [
       "<span style=\"white-space:pre; font-family: monospace\">  /\n",
       "┌─┘\n",
       "+\n",
       "</span>"
      ]
     },
     "execution_count": 215,
     "metadata": {},
     "output_type": "execute_result"
    }
   ],
   "source": [
    "+/ ⍝ derived function sum"
   ]
  },
  {
   "cell_type": "code",
   "execution_count": 216,
   "id": "20ab3e81",
   "metadata": {},
   "outputs": [
    {
     "data": {
      "text/html": [
       "<span style=\"white-space:pre; font-family: monospace\">┌→──────────┐\n",
       "│20 12 17 21│\n",
       "└~──────────┘\n",
       "</span>"
      ]
     },
     "execution_count": 216,
     "metadata": {},
     "output_type": "execute_result"
    },
    {
     "data": {
      "text/html": [
       "<span style=\"white-space:pre; font-family: monospace\">┌→──────┐\n",
       "│0 0 0 0│\n",
       "└~──────┘\n",
       "</span>"
      ]
     },
     "execution_count": 216,
     "metadata": {},
     "output_type": "execute_result"
    },
    {
     "data": {
      "text/html": [
       "<span style=\"white-space:pre; font-family: monospace\">┌→──────┐\n",
       "│0 0 1 0│\n",
       "└~──────┘\n",
       "</span>"
      ]
     },
     "execution_count": 216,
     "metadata": {},
     "output_type": "execute_result"
    }
   ],
   "source": [
    "{+/'ACGT'∘.=,⍵} X ⍝ sum\n",
    "{+/'ACGT'∘.=,⍵} Y\n",
    "{+/'ACGT'∘.=,⍵} Z"
   ]
  },
  {
   "cell_type": "markdown",
   "id": "4cef740a",
   "metadata": {},
   "source": [
    "[Tacit programming](https://aplwiki.com/wiki/Tacit_programming)"
   ]
  },
  {
   "cell_type": "code",
   "execution_count": 217,
   "id": "a87d9b82",
   "metadata": {},
   "outputs": [
    {
     "data": {
      "text/html": [
       "<span style=\"white-space:pre; font-family: monospace\">┌→──────────┐\n",
       "│20 12 17 21│\n",
       "└~──────────┘\n",
       "</span>"
      ]
     },
     "execution_count": 217,
     "metadata": {},
     "output_type": "execute_result"
    },
    {
     "data": {
      "text/html": [
       "<span style=\"white-space:pre; font-family: monospace\">┌→──────┐\n",
       "│0 0 0 0│\n",
       "└~──────┘\n",
       "</span>"
      ]
     },
     "execution_count": 217,
     "metadata": {},
     "output_type": "execute_result"
    },
    {
     "data": {
      "text/html": [
       "<span style=\"white-space:pre; font-family: monospace\">┌→──────┐\n",
       "│0 0 1 0│\n",
       "└~──────┘\n",
       "</span>"
      ]
     },
     "execution_count": 217,
     "metadata": {},
     "output_type": "execute_result"
    }
   ],
   "source": [
    "+/'ACGT'∘.=,X ⍝ tacit: sum 'ACGT' outer product equals ravel\n",
    "+/'ACGT'∘.=,Y\n",
    "+/'ACGT'∘.=,Z"
   ]
  },
  {
   "cell_type": "code",
   "execution_count": 218,
   "id": "c8fbb673",
   "metadata": {},
   "outputs": [],
   "source": [
    "W←'AGCTTTTCA'"
   ]
  },
  {
   "cell_type": "code",
   "execution_count": 219,
   "id": "1cb22baa",
   "metadata": {},
   "outputs": [
    {
     "data": {
      "text/html": [
       "<span style=\"white-space:pre; font-family: monospace\">┌→──────┐\n",
       "↓1 0 0 0│\n",
       "│0 0 1 0│\n",
       "│0 1 0 0│\n",
       "│0 0 0 1│\n",
       "│0 0 0 1│\n",
       "│0 0 0 1│\n",
       "│0 0 0 1│\n",
       "│0 1 0 0│\n",
       "│1 0 0 0│\n",
       "└~──────┘\n",
       "</span>"
      ]
     },
     "execution_count": 219,
     "metadata": {},
     "output_type": "execute_result"
    }
   ],
   "source": [
    "(,W)∘.='ACGT'"
   ]
  },
  {
   "cell_type": "code",
   "execution_count": 220,
   "id": "85c1f4b3",
   "metadata": {},
   "outputs": [
    {
     "data": {
      "text/html": [
       "<span style=\"white-space:pre; font-family: monospace\">┌→──────┐\n",
       "↓1 0 0 0│\n",
       "│0 0 1 0│\n",
       "│0 1 0 0│\n",
       "│0 0 0 1│\n",
       "│0 0 0 1│\n",
       "│0 0 0 1│\n",
       "│0 0 0 1│\n",
       "│0 1 0 0│\n",
       "│1 0 0 0│\n",
       "└~──────┘\n",
       "</span>"
      ]
     },
     "execution_count": 220,
     "metadata": {},
     "output_type": "execute_result"
    }
   ],
   "source": [
    "'ACGT'∘.=⍨,W ⍝ outer product commute ravel (avoid parentheses)"
   ]
  },
  {
   "cell_type": "code",
   "execution_count": 221,
   "id": "55cc47d0",
   "metadata": {},
   "outputs": [
    {
     "data": {
      "text/html": [
       "<span style=\"white-space:pre; font-family: monospace\">┌→──────────┐\n",
       "│20 12 17 21│\n",
       "└~──────────┘\n",
       "</span>"
      ]
     },
     "execution_count": 221,
     "metadata": {},
     "output_type": "execute_result"
    }
   ],
   "source": [
    "+⌿'ACGT'∘.=⍨,X ⍝ sum first axis (slower!)"
   ]
  },
  {
   "cell_type": "code",
   "execution_count": 222,
   "id": "08357305",
   "metadata": {},
   "outputs": [
    {
     "data": {
      "text/html": [
       "<span style=\"white-space:pre; font-family: monospace\">┌→──────────────────────────────────────────────────────────────┐\n",
       "↓  e X → 5.3E¯7 |    0% ⎕⎕⎕⎕⎕⎕⎕⎕⎕⎕⎕⎕⎕⎕⎕⎕⎕⎕                      │\n",
       "│  f X → 9.8E¯7 |  +84% ⎕⎕⎕⎕⎕⎕⎕⎕⎕⎕⎕⎕⎕⎕⎕⎕⎕⎕⎕⎕⎕⎕⎕⎕⎕⎕⎕⎕⎕⎕⎕⎕⎕       │\n",
       "│  g X → 1.2E¯6 | +121% ⎕⎕⎕⎕⎕⎕⎕⎕⎕⎕⎕⎕⎕⎕⎕⎕⎕⎕⎕⎕⎕⎕⎕⎕⎕⎕⎕⎕⎕⎕⎕⎕⎕⎕⎕⎕⎕⎕⎕⎕│\n",
       "└───────────────────────────────────────────────────────────────┘\n",
       "</span>"
      ]
     },
     "execution_count": 222,
     "metadata": {},
     "output_type": "execute_result"
    }
   ],
   "source": [
    "X←'AGCTTTTCATTCTGACTGCAACGGGCAATATGTCTCTGTGTGGATTAAAAAAAGAGTGTCTGATAGCAGC'\n",
    "\n",
    "e←+/'ACGT'∘.=,\n",
    "f←{+/'ACGT'∘.=,⍵}\n",
    "g←+⌿'ACGT'∘.=⍨, \n",
    "\n",
    "cmpx'e X' 'f X' 'g X'"
   ]
  },
  {
   "cell_type": "code",
   "execution_count": 223,
   "id": "d1b295c1",
   "metadata": {},
   "outputs": [
    {
     "data": {
      "text/html": [
       "<span style=\"white-space:pre; font-family: monospace\">  ┌───┴────┐\n",
       "  / ┌──────┼─┐\n",
       "┌─┘ 'ACGT' . ,\n",
       "+         ┌┴┐\n",
       "          ∘ =\n",
       "</span>"
      ]
     },
     "execution_count": 223,
     "metadata": {},
     "output_type": "execute_result"
    }
   ],
   "source": [
    "+/'ACGT'∘.=, ⍝ top solution"
   ]
  },
  {
   "cell_type": "markdown",
   "id": "16034b8d",
   "metadata": {},
   "source": [
    "## 2: [Attack of the Mutations!](https://contest.dyalog.com/?goto=P12)\n",
    "\n",
    "This problem is inspired by the [Counting Point Mutations](https://rosalind.info/problems/hamm/) problem found on the excellent Bioinformatics education website [rosalind.info](https://rosalind.info/problems/locations/).\n",
    "\n",
    "Write a function that:\n",
    "\n",
    "- takes right and left arguments that are character vectors or scalars of equal length – these represent DNA strings.\n",
    "- returns an integer representing the [Hamming distance](https://rosalind.info/glossary/hamming-distance/) (the number of differences in corresponding positions) between the arguments.\n",
    "\n",
    "**Hint:** The _add_ function [X+Y](https://help.dyalog.com/latest/Content/Language/Primitive%20Functions/Add.htm#Add) could be helpful.\n",
    "\n",
    "**Examples**\n",
    "\n",
    "      'GAGCCTACTAACGGGAT' (your_function) 'CATCGTAATGACGGCCT' \n",
    "7\n",
    "\n",
    "      'A' (your_function) 'T'\n",
    "1\n",
    "\n",
    "      '' (your_function) ''\n",
    "0\n",
    " \n",
    "      (your_function)⍨ 'CATCGTAATGACGGCCT'\n",
    "0"
   ]
  },
  {
   "cell_type": "code",
   "execution_count": 224,
   "id": "1d107c30",
   "metadata": {},
   "outputs": [],
   "source": [
    "Y←'GAGCCTACTAACGGGAT'\n",
    "X←'CATCGTAATGACGGCCT' "
   ]
  },
  {
   "cell_type": "code",
   "execution_count": 226,
   "id": "e844979b",
   "metadata": {},
   "outputs": [
    {
     "data": {
      "text/html": [
       "<span style=\"white-space:pre; font-family: monospace\">┌→────────────────────────────────┐\n",
       "│1 0 1 0 1 0 0 1 0 1 0 0 0 0 1 1 0│\n",
       "└~────────────────────────────────┘\n",
       "</span>"
      ]
     },
     "execution_count": 226,
     "metadata": {},
     "output_type": "execute_result"
    }
   ],
   "source": [
    "Y≠X"
   ]
  },
  {
   "cell_type": "code",
   "execution_count": 227,
   "id": "b6a33546",
   "metadata": {},
   "outputs": [
    {
     "data": {
      "text/html": [
       "<span style=\"white-space:pre; font-family: monospace\"> \n",
       "7\n",
       " \n",
       "</span>"
      ]
     },
     "execution_count": 227,
     "metadata": {},
     "output_type": "execute_result"
    },
    {
     "data": {
      "text/html": [
       "<span style=\"white-space:pre; font-family: monospace\"> \n",
       "1\n",
       " \n",
       "</span>"
      ]
     },
     "execution_count": 227,
     "metadata": {},
     "output_type": "execute_result"
    },
    {
     "data": {
      "text/html": [
       "<span style=\"white-space:pre; font-family: monospace\"> \n",
       "0\n",
       " \n",
       "</span>"
      ]
     },
     "execution_count": 227,
     "metadata": {},
     "output_type": "execute_result"
    },
    {
     "data": {
      "text/html": [
       "<span style=\"white-space:pre; font-family: monospace\"> \n",
       "0\n",
       " \n",
       "</span>"
      ]
     },
     "execution_count": 227,
     "metadata": {},
     "output_type": "execute_result"
    }
   ],
   "source": [
    "Y {+/⍺≠⍵} X ⍝ sum not equal (Boolean mask)\n",
    "'A' {+/⍺≠⍵} 'T'\n",
    "'' {+/⍺≠⍵} ''\n",
    "{+/⍺≠⍵} ⍨X"
   ]
  },
  {
   "cell_type": "code",
   "execution_count": 228,
   "id": "6333f1c1",
   "metadata": {},
   "outputs": [
    {
     "data": {
      "text/html": [
       "<span style=\"white-space:pre; font-family: monospace\"> \n",
       "7\n",
       " \n",
       "</span>"
      ]
     },
     "execution_count": 228,
     "metadata": {},
     "output_type": "execute_result"
    },
    {
     "data": {
      "text/html": [
       "<span style=\"white-space:pre; font-family: monospace\"> \n",
       "1\n",
       " \n",
       "</span>"
      ]
     },
     "execution_count": 228,
     "metadata": {},
     "output_type": "execute_result"
    },
    {
     "data": {
      "text/html": [
       "<span style=\"white-space:pre; font-family: monospace\"> \n",
       "0\n",
       " \n",
       "</span>"
      ]
     },
     "execution_count": 228,
     "metadata": {},
     "output_type": "execute_result"
    },
    {
     "data": {
      "text/html": [
       "<span style=\"white-space:pre; font-family: monospace\"> \n",
       "0\n",
       " \n",
       "</span>"
      ]
     },
     "execution_count": 228,
     "metadata": {},
     "output_type": "execute_result"
    }
   ],
   "source": [
    "Y (+/≠) X ⍝ tacit\n",
    "'A' (+/≠) 'T'\n",
    "'' (+/≠) ''\n",
    "+/≠ ⍨X"
   ]
  },
  {
   "cell_type": "code",
   "execution_count": 230,
   "id": "bd000861",
   "metadata": {},
   "outputs": [
    {
     "data": {
      "text/html": [
       "<span style=\"white-space:pre; font-family: monospace\">┌→───────────────────────────────────────────────────────────────┐\n",
       "↓  Y e X → 2.8E¯7 |   0% ⎕⎕⎕⎕⎕⎕⎕⎕⎕⎕⎕⎕⎕⎕⎕⎕⎕⎕⎕⎕⎕⎕                  │\n",
       "│  Y f X → 4.2E¯7 | +50% ⎕⎕⎕⎕⎕⎕⎕⎕⎕⎕⎕⎕⎕⎕⎕⎕⎕⎕⎕⎕⎕⎕⎕⎕⎕⎕⎕⎕⎕⎕⎕⎕        │\n",
       "│  Y g X → 5.2E¯7 | +85% ⎕⎕⎕⎕⎕⎕⎕⎕⎕⎕⎕⎕⎕⎕⎕⎕⎕⎕⎕⎕⎕⎕⎕⎕⎕⎕⎕⎕⎕⎕⎕⎕⎕⎕⎕⎕⎕⎕⎕⎕│\n",
       "└────────────────────────────────────────────────────────────────┘\n",
       "</span>"
      ]
     },
     "execution_count": 230,
     "metadata": {},
     "output_type": "execute_result"
    }
   ],
   "source": [
    "Y←'GAGCCTACTAACGGGAT'\n",
    "X←'CATCGTAATGACGGCCT' \n",
    "\n",
    "e←+/≠ \n",
    "f←+.≠ ⍝ inner product    \n",
    "g←{+/⍺≠⍵}\n",
    "\n",
    "cmpx'Y e X' 'Y f X' 'Y g X'"
   ]
  },
  {
   "cell_type": "code",
   "execution_count": 53,
   "id": "256a47c4",
   "metadata": {},
   "outputs": [
    {
     "data": {
      "text/html": [
       "<span style=\"white-space:pre; font-family: monospace\">  ┌┴┐\n",
       "  / ≠\n",
       "┌─┘\n",
       "+\n",
       "</span>"
      ]
     },
     "execution_count": 53,
     "metadata": {},
     "output_type": "execute_result"
    }
   ],
   "source": [
    "+/≠ ⍝ top solution"
   ]
  },
  {
   "cell_type": "markdown",
   "id": "4aef94bb",
   "metadata": {},
   "source": [
    "## 3: [Uniquely Qualified](https://contest.dyalog.com/?goto=P13)\n",
    "\n",
    "Write a function that:\n",
    "- takes right and left arguments that are arrays of arbitrary rank, depth, and value.\n",
    "- returns a vector of all elements that appear in either of the two argument arrays but not in both. The order of elements in the result is not significant.\n",
    "\n",
    "**Hint:** The _excluding_ function [X~Y](http://help.dyalog.com/latest/#Language/Primitive%20Functions/Excluding.htm) could be helpful.\n",
    "\n",
    "**Examples**\n",
    "\n",
    "\n",
    "      'DYALOG' (your_function) 'APL'\n",
    "DYOGP\n",
    "\n",
    "      'DYALOG'  (your_function) ⊂'APL'\n",
    "```\n",
    "┌─┬─┬─┬─┬─┬─┬───┐\n",
    "│D│Y│A│L│O│G│APL│\n",
    "└─┴─┴─┴─┴─┴─┴───┘\n",
    "```\n",
    "\n",
    "      (2 2⍴'Hello'(⊂'World')(2 2⍴⍳4)42) (your_function) 42 'Have a nice day'\n",
    "```\n",
    "┌─────┬───────┬───┬───────────────┐\n",
    "│Hello│┌─────┐│1 2│Have a nice day│\n",
    "│     ││World││3 4│               │\n",
    "│     │└─────┘│   │               │\n",
    "└─────┴───────┴───┴───────────────┘\n",
    "```\n",
    "      1 1 1 (your_function) 2 2\n",
    "1 1 1 2 2\n",
    "\n"
   ]
  },
  {
   "cell_type": "code",
   "execution_count": 231,
   "id": "08b119d0",
   "metadata": {},
   "outputs": [],
   "source": [
    "X←'DYALOG'\n",
    "Y←'APL'"
   ]
  },
  {
   "cell_type": "markdown",
   "id": "0dcda304",
   "metadata": {},
   "source": [
    "#### Solution `{((,⍺)~,⍵),(,⍵)~,⍺}`"
   ]
  },
  {
   "cell_type": "code",
   "execution_count": 232,
   "id": "ee601365",
   "metadata": {},
   "outputs": [
    {
     "data": {
      "text/html": [
       "<span style=\"white-space:pre; font-family: monospace\">┌→────┐\n",
       "│DYOGP│\n",
       "└─────┘\n",
       "</span>"
      ]
     },
     "execution_count": 232,
     "metadata": {},
     "output_type": "execute_result"
    },
    {
     "data": {
      "text/html": [
       "<span style=\"white-space:pre; font-family: monospace\">┌→──────────────────┐\n",
       "│             ┌→──┐ │\n",
       "│ D Y A L O G │APL│ │\n",
       "│ - - - - - - └───┘ │\n",
       "└∊──────────────────┘\n",
       "</span>"
      ]
     },
     "execution_count": 232,
     "metadata": {},
     "output_type": "execute_result"
    },
    {
     "data": {
      "text/html": [
       "<span style=\"white-space:pre; font-family: monospace\">┌→────────────────────────────────────────────┐\n",
       "│ ┌→────┐ ┌─────────┐ ┌→──┐ ┌→──────────────┐ │\n",
       "│ │Hello│ │ ┌→────┐ │ ↓1 2│ │Have a nice day│ │\n",
       "│ └─────┘ │ │World│ │ │3 4│ └───────────────┘ │\n",
       "│         │ └─────┘ │ └~──┘                   │\n",
       "│         └∊────────┘                         │\n",
       "└∊────────────────────────────────────────────┘\n",
       "</span>"
      ]
     },
     "execution_count": 232,
     "metadata": {},
     "output_type": "execute_result"
    },
    {
     "data": {
      "text/html": [
       "<span style=\"white-space:pre; font-family: monospace\">┌→────────┐\n",
       "│1 1 1 2 2│\n",
       "└~────────┘\n",
       "</span>"
      ]
     },
     "execution_count": 232,
     "metadata": {},
     "output_type": "execute_result"
    }
   ],
   "source": [
    "X {((,⍺)~,⍵),(,⍵)~,⍺} Y ⍝ not catenate not\n",
    "'DYALOG' {((,⍺)~,⍵),(,⍵)~,⍺} ⊂'APL'\n",
    "(2 2⍴'Hello'(⊂'World')(2 2⍴⍳4)42) {((,⍺)~,⍵),(,⍵)~,⍺} 42 'Have a nice day'\n",
    "1 1 1 {((,⍺)~,⍵),(,⍵)~,⍺} 2 2"
   ]
  },
  {
   "cell_type": "markdown",
   "id": "15fd93d2",
   "metadata": {},
   "source": [
    "#### Solution `{((,⍺)∪,⍵)~(,⍺)∩,⍵}`"
   ]
  },
  {
   "cell_type": "code",
   "execution_count": 233,
   "id": "d5d03e9b",
   "metadata": {},
   "outputs": [
    {
     "data": {
      "text/html": [
       "<span style=\"white-space:pre; font-family: monospace\">┌→────┐\n",
       "│DYOGP│\n",
       "└─────┘\n",
       "</span>"
      ]
     },
     "execution_count": 233,
     "metadata": {},
     "output_type": "execute_result"
    }
   ],
   "source": [
    "X {((,⍺)∪,⍵)~(,⍺)∩,⍵} Y ⍝ union not intersection"
   ]
  },
  {
   "cell_type": "markdown",
   "id": "6d830858",
   "metadata": {},
   "source": [
    "#### Solution `(∪~∩)⍥,`"
   ]
  },
  {
   "cell_type": "code",
   "execution_count": 234,
   "id": "1f85e047",
   "metadata": {},
   "outputs": [
    {
     "data": {
      "text/html": [
       "<span style=\"white-space:pre; font-family: monospace\">┌→────┐\n",
       "│DYOGP│\n",
       "└─────┘\n",
       "</span>"
      ]
     },
     "execution_count": 234,
     "metadata": {},
     "output_type": "execute_result"
    }
   ],
   "source": [
    " X (∪~∩) Y "
   ]
  },
  {
   "cell_type": "code",
   "execution_count": 235,
   "id": "d977f7d0",
   "metadata": {},
   "outputs": [
    {
     "name": "stderr",
     "output_type": "stream",
     "text": [
      "RANK ERROR\n",
      "      (2 2⍴'Hello'(⊂'World')(2 2⍴⍳4)42)(∪~∩)42\n",
      "                                       ∧\n"
     ]
    }
   ],
   "source": [
    "(2 2⍴'Hello'(⊂'World')(2 2⍴⍳4)42) (∪~∩) 42"
   ]
  },
  {
   "cell_type": "code",
   "execution_count": 236,
   "id": "e324800c",
   "metadata": {},
   "outputs": [
    {
     "data": {
      "text/html": [
       "<span style=\"white-space:pre; font-family: monospace\">┌→────────────────────┐\n",
       "↓ ┌→────┐ ┌─────────┐ │\n",
       "│ │Hello│ │ ┌→────┐ │ │\n",
       "│ └─────┘ │ │World│ │ │\n",
       "│         │ └─────┘ │ │\n",
       "│         └∊────────┘ │\n",
       "│ ┌→──┐               │\n",
       "│ ↓1 2│   42          │\n",
       "│ │3 4│               │\n",
       "│ └~──┘               │\n",
       "└∊────────────────────┘\n",
       "</span>"
      ]
     },
     "execution_count": 236,
     "metadata": {},
     "output_type": "execute_result"
    }
   ],
   "source": [
    "(2 2⍴'Hello'(⊂'World')(2 2⍴⍳4)42)"
   ]
  },
  {
   "cell_type": "code",
   "execution_count": 237,
   "id": "97610a0b",
   "metadata": {},
   "outputs": [
    {
     "data": {
      "text/html": [
       "<span style=\"white-space:pre; font-family: monospace\">┌→──┐\n",
       "│2 2│\n",
       "└~──┘\n",
       "</span>"
      ]
     },
     "execution_count": 237,
     "metadata": {},
     "output_type": "execute_result"
    }
   ],
   "source": [
    "⍴(2 2⍴'Hello'(⊂'World')(2 2⍴⍳4)42)"
   ]
  },
  {
   "cell_type": "code",
   "execution_count": 238,
   "id": "6ddd97eb",
   "metadata": {},
   "outputs": [
    {
     "data": {
      "text/html": [
       "<span style=\"white-space:pre; font-family: monospace\">┌→─────────────────────────────┐\n",
       "│ ┌→────┐ ┌─────────┐ ┌→──┐    │\n",
       "│ │Hello│ │ ┌→────┐ │ ↓1 2│ 42 │\n",
       "│ └─────┘ │ │World│ │ │3 4│    │\n",
       "│         │ └─────┘ │ └~──┘    │\n",
       "│         └∊────────┘          │\n",
       "└∊─────────────────────────────┘\n",
       "</span>"
      ]
     },
     "execution_count": 238,
     "metadata": {},
     "output_type": "execute_result"
    }
   ],
   "source": [
    ",(2 2⍴'Hello'(⊂'World')(2 2⍴⍳4)42)"
   ]
  },
  {
   "cell_type": "code",
   "execution_count": 239,
   "id": "c3bdb768",
   "metadata": {},
   "outputs": [
    {
     "data": {
      "text/html": [
       "<span style=\"white-space:pre; font-family: monospace\">┌→┐\n",
       "│4│\n",
       "└~┘\n",
       "</span>"
      ]
     },
     "execution_count": 239,
     "metadata": {},
     "output_type": "execute_result"
    }
   ],
   "source": [
    "⍴,(2 2⍴'Hello'(⊂'World')(2 2⍴⍳4)42)"
   ]
  },
  {
   "cell_type": "markdown",
   "id": "6009c003",
   "metadata": {},
   "source": [
    "The Over operator allows functions to be glued together to build up more complex functions. "
   ]
  },
  {
   "cell_type": "code",
   "execution_count": 240,
   "id": "2dce9dc7",
   "metadata": {},
   "outputs": [
    {
     "data": {
      "text/html": [
       "<span style=\"white-space:pre; font-family: monospace\"> ⍥\n",
       "┌┴┐\n",
       ", ⊂\n",
       "</span>"
      ]
     },
     "execution_count": 240,
     "metadata": {},
     "output_type": "execute_result"
    }
   ],
   "source": [
    ",⍥⊂"
   ]
  },
  {
   "cell_type": "code",
   "execution_count": 241,
   "id": "1c965ac6",
   "metadata": {},
   "outputs": [
    {
     "data": {
      "text/html": [
       "<span style=\"white-space:pre; font-family: monospace\">┌→─────────────┐\n",
       "│ ┌→──┐ ┌→───┐ │\n",
       "│ │2 3│ │text│ │\n",
       "│ └~──┘ └────┘ │\n",
       "└∊─────────────┘\n",
       "</span>"
      ]
     },
     "execution_count": 241,
     "metadata": {},
     "output_type": "execute_result"
    }
   ],
   "source": [
    " 2 3 ,⍥⊂ 'text'   ⍝ ,⍥⊂  ←→  {⍺⍵}"
   ]
  },
  {
   "cell_type": "code",
   "execution_count": 242,
   "id": "78fc328b",
   "metadata": {},
   "outputs": [
    {
     "data": {
      "text/html": [
       "<span style=\"white-space:pre; font-family: monospace\">    ⍥\n",
       "  ┌─┴─┐\n",
       "┌─┼─┐ ,\n",
       "∪ ~ ∩\n",
       "</span>"
      ]
     },
     "execution_count": 242,
     "metadata": {},
     "output_type": "execute_result"
    }
   ],
   "source": [
    "(∪~∩)⍥, ⍝ union not intersection over ravel"
   ]
  },
  {
   "cell_type": "code",
   "execution_count": 243,
   "id": "838480e6",
   "metadata": {},
   "outputs": [
    {
     "data": {
      "text/html": [
       "<span style=\"white-space:pre; font-family: monospace\">┌→────────────────────────────────────────────┐\n",
       "│ ┌→────┐ ┌─────────┐ ┌→──┐ ┌→──────────────┐ │\n",
       "│ │Hello│ │ ┌→────┐ │ ↓1 2│ │Have a nice day│ │\n",
       "│ └─────┘ │ │World│ │ │3 4│ └───────────────┘ │\n",
       "│         │ └─────┘ │ └~──┘                   │\n",
       "│         └∊────────┘                         │\n",
       "└∊────────────────────────────────────────────┘\n",
       "</span>"
      ]
     },
     "execution_count": 243,
     "metadata": {},
     "output_type": "execute_result"
    }
   ],
   "source": [
    "(2 2⍴'Hello'(⊂'World')(2 2⍴⍳4)42) (∪~∩)⍥, 42 'Have a nice day'"
   ]
  },
  {
   "cell_type": "markdown",
   "id": "9a89b4ed",
   "metadata": {},
   "source": [
    "#### Solution `(~,~⍨)⍥,`"
   ]
  },
  {
   "cell_type": "code",
   "execution_count": 244,
   "id": "9bc440ef",
   "metadata": {},
   "outputs": [
    {
     "data": {
      "text/html": [
       "<span style=\"white-space:pre; font-family: monospace\">    ⍥\n",
       "  ┌─┴─┐\n",
       "┌─┼─┐ ,\n",
       "~ , ⍨\n",
       "  ┌─┘\n",
       "  ~\n",
       "</span>"
      ]
     },
     "execution_count": 244,
     "metadata": {},
     "output_type": "execute_result"
    }
   ],
   "source": [
    "(~,~⍨)⍥, ⍝ not catenate not commute over ravel"
   ]
  },
  {
   "cell_type": "code",
   "execution_count": 245,
   "id": "fc977c10",
   "metadata": {},
   "outputs": [
    {
     "data": {
      "text/html": [
       "<span style=\"white-space:pre; font-family: monospace\">┌→────┐\n",
       "│DYOGP│\n",
       "└─────┘\n",
       "</span>"
      ]
     },
     "execution_count": 245,
     "metadata": {},
     "output_type": "execute_result"
    }
   ],
   "source": [
    "X (~,~⍨)⍥, Y"
   ]
  },
  {
   "cell_type": "markdown",
   "id": "76ceee44",
   "metadata": {},
   "source": [
    "#### Solution `(,~∩)⍥,`"
   ]
  },
  {
   "cell_type": "code",
   "execution_count": 93,
   "id": "e968e7ac",
   "metadata": {},
   "outputs": [
    {
     "data": {
      "text/html": [
       "<span style=\"white-space:pre; font-family: monospace\">    ⍥\n",
       "  ┌─┴─┐\n",
       "┌─┼─┐ ,\n",
       ", ~ ∩\n",
       "</span>"
      ]
     },
     "execution_count": 93,
     "metadata": {},
     "output_type": "execute_result"
    }
   ],
   "source": [
    "(,~∩)⍥, ⍝ catenate not intersection over ravel"
   ]
  },
  {
   "cell_type": "code",
   "execution_count": 94,
   "id": "080fac72",
   "metadata": {},
   "outputs": [
    {
     "data": {
      "text/html": [
       "<span style=\"white-space:pre; font-family: monospace\">┌→────┐\n",
       "│DYOGP│\n",
       "└─────┘\n",
       "</span>"
      ]
     },
     "execution_count": 94,
     "metadata": {},
     "output_type": "execute_result"
    }
   ],
   "source": [
    "X (,~∩)⍥, Y"
   ]
  },
  {
   "cell_type": "code",
   "execution_count": 246,
   "id": "d6096c05",
   "metadata": {},
   "outputs": [
    {
     "data": {
      "text/html": [
       "<span style=\"white-space:pre; font-family: monospace\">┌→───────────────────────────────────────────────────────────────┐\n",
       "↓  Y e X → 1.0E¯6 |   0% ⎕⎕⎕⎕⎕⎕⎕⎕⎕⎕⎕⎕⎕⎕⎕⎕⎕⎕⎕⎕                    │\n",
       "│  Y f X → 1.1E¯6 |  +3% ⎕⎕⎕⎕⎕⎕⎕⎕⎕⎕⎕⎕⎕⎕⎕⎕⎕⎕⎕⎕⎕                   │\n",
       "│  Y g X → 1.3E¯6 | +23% ⎕⎕⎕⎕⎕⎕⎕⎕⎕⎕⎕⎕⎕⎕⎕⎕⎕⎕⎕⎕⎕⎕⎕⎕⎕               │\n",
       "│  Y h X → 1.5E¯6 | +46% ⎕⎕⎕⎕⎕⎕⎕⎕⎕⎕⎕⎕⎕⎕⎕⎕⎕⎕⎕⎕⎕⎕⎕⎕⎕⎕⎕⎕⎕⎕          │\n",
       "│  Y i X → 1.6E¯6 | +55% ⎕⎕⎕⎕⎕⎕⎕⎕⎕⎕⎕⎕⎕⎕⎕⎕⎕⎕⎕⎕⎕⎕⎕⎕⎕⎕⎕⎕⎕⎕⎕⎕        │\n",
       "│  Y j X → 2.0E¯6 | +96% ⎕⎕⎕⎕⎕⎕⎕⎕⎕⎕⎕⎕⎕⎕⎕⎕⎕⎕⎕⎕⎕⎕⎕⎕⎕⎕⎕⎕⎕⎕⎕⎕⎕⎕⎕⎕⎕⎕⎕⎕│\n",
       "└────────────────────────────────────────────────────────────────┘\n",
       "</span>"
      ]
     },
     "execution_count": 246,
     "metadata": {},
     "output_type": "execute_result"
    }
   ],
   "source": [
    "Y ← (2 2⍴'Hello'(⊂'World')(2 2⍴⍳4)42)\n",
    "X ← 42 'Have a nice day'\n",
    "\n",
    "e←(~,~⍨)⍥,\n",
    "f←(,~∩)⍥,\n",
    "g←(∪~∩)⍥,\n",
    "h←{((,⍺)~,⍵),(,⍵)~,⍺}\n",
    "i←{((,⍺),,⍵)~(,⍺)∩,⍵}\n",
    "j←{((,⍺)∪,⍵)~(,⍺)∩,⍵}\n",
    "        \n",
    "cmpx 'Y e X' 'Y f X' 'Y g X' 'Y h X' 'Y i X' 'Y j X'"
   ]
  },
  {
   "cell_type": "markdown",
   "id": "8dc7c4df",
   "metadata": {},
   "source": [
    "## 4: [In the Long One...](https://contest.dyalog.com/?goto=P14)\n",
    "\n",
    "Write a function that:\n",
    "- takes a right argument that is a Boolean scalar or vector.\n",
    "- returns the length of the longest sequence of consecutive 1s.\n",
    "\n",
    "**Hint:** The _partition_ function [X⊆fY](https://help.dyalog.com/latest/#Language/Primitive%20Functions/Partition.htm) could be helpful.\n",
    "\n",
    "**Examples**\n",
    "\n",
    "      (your_function) 1 1 1 0 1 1 0 0 1 1 1 1 0\n",
    "4\n",
    "\n",
    "      (your_function) ⍬\n",
    "0\n",
    "\n",
    "      (your_function) 1\n",
    "1\n",
    "\n",
    "      (your_function) 0\n",
    "0\n",
    "\n",
    "      (your_function) 12/0 1 0 1\n",
    "12\n",
    "\n",
    "      (your_function) 10⍴0\n",
    "0\n"
   ]
  },
  {
   "cell_type": "code",
   "execution_count": 250,
   "id": "84374ff9",
   "metadata": {},
   "outputs": [
    {
     "data": {
      "text/html": [
       "<span style=\"white-space:pre; font-family: monospace\">┌→──────────────────────────────────────────────────────────────────────────────────────────────┐\n",
       "│0 0 0 0 0 0 0 0 0 0 0 0 1 1 1 1 1 1 1 1 1 1 1 1 0 0 0 0 0 0 0 0 0 0 0 0 1 1 1 1 1 1 1 1 1 1 1 1│\n",
       "└~──────────────────────────────────────────────────────────────────────────────────────────────┘\n",
       "</span>"
      ]
     },
     "execution_count": 250,
     "metadata": {},
     "output_type": "execute_result"
    }
   ],
   "source": [
    "X←1 1 1 0 1 1 0 0 1 1 1 1 0\n",
    "⊢Y←12/0 1 0 1 ⍝ identity"
   ]
  },
  {
   "cell_type": "markdown",
   "id": "1ba23344",
   "metadata": {},
   "source": [
    "#### Solution `{⌈/0,≢¨⍵⊆,⍵}`"
   ]
  },
  {
   "cell_type": "code",
   "execution_count": 251,
   "id": "6701cc69",
   "metadata": {},
   "outputs": [
    {
     "data": {
      "text/html": [
       "<span style=\"white-space:pre; font-family: monospace\">┌→────────────────────────┐\n",
       "│ ┌→────┐ ┌→──┐ ┌→──────┐ │\n",
       "│ │1 1 1│ │1 1│ │1 1 1 1│ │\n",
       "│ └~────┘ └~──┘ └~──────┘ │\n",
       "└∊────────────────────────┘\n",
       "</span>"
      ]
     },
     "execution_count": 251,
     "metadata": {},
     "output_type": "execute_result"
    }
   ],
   "source": [
    "X⊆X ⍝ partition "
   ]
  },
  {
   "cell_type": "code",
   "execution_count": 112,
   "id": "3db62cfe",
   "metadata": {},
   "outputs": [
    {
     "data": {
      "text/html": [
       "<span style=\"white-space:pre; font-family: monospace\">┌→────┐\n",
       "│3 2 4│\n",
       "└~────┘\n",
       "</span>"
      ]
     },
     "execution_count": 112,
     "metadata": {},
     "output_type": "execute_result"
    }
   ],
   "source": [
    "≢¨X⊆X ⍝ tally each partition"
   ]
  },
  {
   "cell_type": "code",
   "execution_count": 111,
   "id": "a7d6f773",
   "metadata": {},
   "outputs": [
    {
     "data": {
      "text/html": [
       "<span style=\"white-space:pre; font-family: monospace\"> \n",
       "4\n",
       " \n",
       "</span>"
      ]
     },
     "execution_count": 111,
     "metadata": {},
     "output_type": "execute_result"
    }
   ],
   "source": [
    "⌈/≢¨X⊆X ⍝ ceiling reduce tally each partition"
   ]
  },
  {
   "cell_type": "code",
   "execution_count": 116,
   "id": "ce1ffc25",
   "metadata": {},
   "outputs": [
    {
     "data": {
      "text/html": [
       "<span style=\"white-space:pre; font-family: monospace\"> \n",
       "1\n",
       " \n",
       "</span>"
      ]
     },
     "execution_count": 116,
     "metadata": {},
     "output_type": "execute_result"
    }
   ],
   "source": [
    "V←1 ⍝ edge case: scalar\n",
    "⌈/≢¨V⊆,V"
   ]
  },
  {
   "cell_type": "code",
   "execution_count": 202,
   "id": "b79b4666",
   "metadata": {},
   "outputs": [
    {
     "data": {
      "text/html": [
       "<span style=\"white-space:pre; font-family: monospace\">┌→──────────────────┐\n",
       "│0 0 0 0 0 0 0 0 0 0│\n",
       "└~──────────────────┘\n",
       "</span>"
      ]
     },
     "execution_count": 202,
     "metadata": {},
     "output_type": "execute_result"
    },
    {
     "data": {
      "text/html": [
       "<span style=\"white-space:pre; font-family: monospace\">┌⊖┐\n",
       "│0│\n",
       "└~┘\n",
       "</span>"
      ]
     },
     "execution_count": 202,
     "metadata": {},
     "output_type": "execute_result"
    },
    {
     "data": {
      "text/html": [
       "<span style=\"white-space:pre; font-family: monospace\">            \n",
       "¯1.79769E308\n",
       "            \n",
       "</span>"
      ]
     },
     "execution_count": 202,
     "metadata": {},
     "output_type": "execute_result"
    }
   ],
   "source": [
    "⊢V←10⍴0 ⍝ edge case: no 1s\n",
    "≢¨V⊆,V\n",
    "⌈/≢¨V⊆,V"
   ]
  },
  {
   "cell_type": "code",
   "execution_count": 203,
   "id": "d14a17ac",
   "metadata": {},
   "outputs": [
    {
     "data": {
      "text/html": [
       "<span style=\"white-space:pre; font-family: monospace\"> \n",
       "0\n",
       " \n",
       "</span>"
      ]
     },
     "execution_count": 203,
     "metadata": {},
     "output_type": "execute_result"
    }
   ],
   "source": [
    "⌈/0,≢¨V⊆,V"
   ]
  },
  {
   "cell_type": "code",
   "execution_count": 124,
   "id": "86a87604",
   "metadata": {},
   "outputs": [
    {
     "data": {
      "text/html": [
       "<span style=\"white-space:pre; font-family: monospace\"> \n",
       "4\n",
       " \n",
       "</span>"
      ]
     },
     "execution_count": 124,
     "metadata": {},
     "output_type": "execute_result"
    },
    {
     "data": {
      "text/html": [
       "<span style=\"white-space:pre; font-family: monospace\"> \n",
       "0\n",
       " \n",
       "</span>"
      ]
     },
     "execution_count": 124,
     "metadata": {},
     "output_type": "execute_result"
    },
    {
     "data": {
      "text/html": [
       "<span style=\"white-space:pre; font-family: monospace\"> \n",
       "1\n",
       " \n",
       "</span>"
      ]
     },
     "execution_count": 124,
     "metadata": {},
     "output_type": "execute_result"
    },
    {
     "data": {
      "text/html": [
       "<span style=\"white-space:pre; font-family: monospace\"> \n",
       "0\n",
       " \n",
       "</span>"
      ]
     },
     "execution_count": 124,
     "metadata": {},
     "output_type": "execute_result"
    },
    {
     "data": {
      "text/html": [
       "<span style=\"white-space:pre; font-family: monospace\">  \n",
       "12\n",
       "  \n",
       "</span>"
      ]
     },
     "execution_count": 124,
     "metadata": {},
     "output_type": "execute_result"
    }
   ],
   "source": [
    "{⌈/0,≢¨⍵⊆,⍵}X  ⍝ ceiling reduce 0 catenate tally each partition ravel\n",
    "{⌈/0,≢¨⍵⊆,⍵}⍬\n",
    "{⌈/0,≢¨⍵⊆,⍵}1\n",
    "{⌈/0,≢¨⍵⊆,⍵}0\n",
    "{⌈/0,≢¨⍵⊆,⍵}Y"
   ]
  },
  {
   "cell_type": "markdown",
   "id": "36609f8f",
   "metadata": {},
   "source": [
    "#### Solution `⌈/0,≢¨⍤⊆⍨∘,`"
   ]
  },
  {
   "cell_type": "code",
   "execution_count": 248,
   "id": "d9872548",
   "metadata": {},
   "outputs": [
    {
     "data": {
      "text/html": [
       "<span style=\"white-space:pre; font-family: monospace\">  ┌─┴─┐\n",
       "  / ┌─┼─┐\n",
       "┌─┘ 0 , ∘\n",
       "⌈      ┌┴┐\n",
       "       ⍨ ,\n",
       "     ┌─┘\n",
       "     ⍤\n",
       "    ┌┴┐\n",
       "    ¨ ⊆\n",
       "  ┌─┘\n",
       "  ≢\n",
       "</span>"
      ]
     },
     "execution_count": 248,
     "metadata": {},
     "output_type": "execute_result"
    }
   ],
   "source": [
    "⌈/0,≢¨⍤⊆⍨∘, ⍝ tacit: ceiling reduce 0 catenate tally each partition commute ravel"
   ]
  },
  {
   "cell_type": "code",
   "execution_count": 252,
   "id": "080739f5",
   "metadata": {},
   "outputs": [
    {
     "data": {
      "text/html": [
       "<span style=\"white-space:pre; font-family: monospace\"> \n",
       "4\n",
       " \n",
       "</span>"
      ]
     },
     "execution_count": 252,
     "metadata": {},
     "output_type": "execute_result"
    },
    {
     "data": {
      "text/html": [
       "<span style=\"white-space:pre; font-family: monospace\"> \n",
       "0\n",
       " \n",
       "</span>"
      ]
     },
     "execution_count": 252,
     "metadata": {},
     "output_type": "execute_result"
    },
    {
     "data": {
      "text/html": [
       "<span style=\"white-space:pre; font-family: monospace\"> \n",
       "1\n",
       " \n",
       "</span>"
      ]
     },
     "execution_count": 252,
     "metadata": {},
     "output_type": "execute_result"
    },
    {
     "data": {
      "text/html": [
       "<span style=\"white-space:pre; font-family: monospace\"> \n",
       "0\n",
       " \n",
       "</span>"
      ]
     },
     "execution_count": 252,
     "metadata": {},
     "output_type": "execute_result"
    },
    {
     "data": {
      "text/html": [
       "<span style=\"white-space:pre; font-family: monospace\">  \n",
       "12\n",
       "  \n",
       "</span>"
      ]
     },
     "execution_count": 252,
     "metadata": {},
     "output_type": "execute_result"
    }
   ],
   "source": [
    "⌈/0,≢¨⍤⊆⍨∘, X\n",
    "⌈/0,≢¨⍤⊆⍨∘, ⍬\n",
    "⌈/0,≢¨⍤⊆⍨∘, 1\n",
    "⌈/0,≢¨⍤⊆⍨∘, 0\n",
    "⌈/0,≢¨⍤⊆⍨∘, Y"
   ]
  },
  {
   "cell_type": "markdown",
   "id": "38714bb3",
   "metadata": {},
   "source": [
    "#### Solution `≢∘⍉∘↑⊆⍨∘,`"
   ]
  },
  {
   "cell_type": "code",
   "execution_count": 253,
   "id": "34ae465e",
   "metadata": {},
   "outputs": [
    {
     "data": {
      "text/html": [
       "<span style=\"white-space:pre; font-family: monospace\">┌→────────────────────────┐\n",
       "│ ┌→────┐ ┌→──┐ ┌→──────┐ │\n",
       "│ │1 1 1│ │1 1│ │1 1 1 1│ │\n",
       "│ └~────┘ └~──┘ └~──────┘ │\n",
       "└∊────────────────────────┘\n",
       "</span>"
      ]
     },
     "execution_count": 253,
     "metadata": {},
     "output_type": "execute_result"
    }
   ],
   "source": [
    "⊆⍨,X"
   ]
  },
  {
   "cell_type": "code",
   "execution_count": 254,
   "id": "1a8e770e",
   "metadata": {},
   "outputs": [
    {
     "data": {
      "text/html": [
       "<span style=\"white-space:pre; font-family: monospace\">┌→──────┐\n",
       "↓1 1 1 0│\n",
       "│1 1 0 0│\n",
       "│1 1 1 1│\n",
       "└~──────┘\n",
       "</span>"
      ]
     },
     "execution_count": 254,
     "metadata": {},
     "output_type": "execute_result"
    }
   ],
   "source": [
    "↑⊆⍨,X ⍝ mix. If the items of X are unequal in shape, the shorter ones are extended with  with 0, \n",
    "      ⍝ the prototype for a simple numeric array."
   ]
  },
  {
   "cell_type": "code",
   "execution_count": 255,
   "id": "68003609",
   "metadata": {},
   "outputs": [
    {
     "data": {
      "text/html": [
       "<span style=\"white-space:pre; font-family: monospace\">┌→────┐\n",
       "↓1 1 1│\n",
       "│1 1 1│\n",
       "│1 0 1│\n",
       "│0 0 1│\n",
       "└~────┘\n",
       "</span>"
      ]
     },
     "execution_count": 255,
     "metadata": {},
     "output_type": "execute_result"
    }
   ],
   "source": [
    "⍉↑⊆⍨,X ⍝ transpose"
   ]
  },
  {
   "cell_type": "code",
   "execution_count": 256,
   "id": "a095884c",
   "metadata": {},
   "outputs": [
    {
     "data": {
      "text/html": [
       "<span style=\"white-space:pre; font-family: monospace\"> \n",
       "4\n",
       " \n",
       "</span>"
      ]
     },
     "execution_count": 256,
     "metadata": {},
     "output_type": "execute_result"
    }
   ],
   "source": [
    "≢⍉↑⊆⍨,X ⍝ tally (number of columns)"
   ]
  },
  {
   "cell_type": "code",
   "execution_count": 257,
   "id": "7ed9e633",
   "metadata": {},
   "outputs": [
    {
     "data": {
      "text/html": [
       "<span style=\"white-space:pre; font-family: monospace\">┌─┼───┐\n",
       "≢ ⍉ ┌─┼─┐\n",
       "    ↑ ⍨ ,\n",
       "    ┌─┘\n",
       "    ⊆\n",
       "</span>"
      ]
     },
     "execution_count": 257,
     "metadata": {},
     "output_type": "execute_result"
    }
   ],
   "source": [
    "≢⍉↑⊆⍨,"
   ]
  },
  {
   "cell_type": "code",
   "execution_count": 258,
   "id": "7d566191",
   "metadata": {},
   "outputs": [
    {
     "data": {
      "text/html": [
       "<span style=\"white-space:pre; font-family: monospace\">  ┌─┴──┐\n",
       "  ∘    ∘\n",
       " ┌┴┐  ┌┴┐\n",
       " ∘ ↑  ⍨ ,\n",
       "┌┴┐ ┌─┘\n",
       "≢ ⍉ ⊆\n",
       "</span>"
      ]
     },
     "execution_count": 258,
     "metadata": {},
     "output_type": "execute_result"
    }
   ],
   "source": [
    "≢∘⍉∘↑⊆⍨∘,"
   ]
  },
  {
   "cell_type": "markdown",
   "id": "77dc8e47",
   "metadata": {},
   "source": [
    "#### Solution `{≢⍉↑(,⍵)⊆,⍵}`"
   ]
  },
  {
   "cell_type": "code",
   "execution_count": 270,
   "id": "169c105d",
   "metadata": {},
   "outputs": [
    {
     "data": {
      "text/html": [
       "<span style=\"white-space:pre; font-family: monospace\">┌→────────────────────────┐\n",
       "│ ┌→────┐ ┌→──┐ ┌→──────┐ │\n",
       "│ │1 1 1│ │1 1│ │1 1 1 1│ │\n",
       "│ └~────┘ └~──┘ └~──────┘ │\n",
       "└∊────────────────────────┘\n",
       "</span>"
      ]
     },
     "execution_count": 270,
     "metadata": {},
     "output_type": "execute_result"
    }
   ],
   "source": [
    "(,⊆,) X"
   ]
  },
  {
   "cell_type": "code",
   "execution_count": 271,
   "id": "0724d158",
   "metadata": {},
   "outputs": [
    {
     "data": {
      "text/html": [
       "<span style=\"white-space:pre; font-family: monospace\">┌→────────────────────────┐\n",
       "│ ┌→────┐ ┌→──┐ ┌→──────┐ │\n",
       "│ │1 1 1│ │1 1│ │1 1 1 1│ │\n",
       "│ └~────┘ └~──┘ └~──────┘ │\n",
       "└∊────────────────────────┘\n",
       "</span>"
      ]
     },
     "execution_count": 271,
     "metadata": {},
     "output_type": "execute_result"
    }
   ],
   "source": [
    "{(,⍵)⊆,⍵} X"
   ]
  },
  {
   "cell_type": "code",
   "execution_count": 272,
   "id": "f94df61a",
   "metadata": {},
   "outputs": [
    {
     "data": {
      "text/html": [
       "<span style=\"white-space:pre; font-family: monospace\"> \n",
       "4\n",
       " \n",
       "</span>"
      ]
     },
     "execution_count": 272,
     "metadata": {},
     "output_type": "execute_result"
    }
   ],
   "source": [
    "{≢⍉↑(,⍵)⊆,⍵} X"
   ]
  },
  {
   "cell_type": "code",
   "execution_count": 273,
   "id": "8e33b422",
   "metadata": {},
   "outputs": [
    {
     "data": {
      "text/html": [
       "<span style=\"white-space:pre; font-family: monospace\">  ┌─┴──┐\n",
       "  / ┌──┼───┐\n",
       "┌─┘ ¯1 - ┌─┼────┐\n",
       "⌈        2 ∘  ┌─┼───┐\n",
       "          ┌┴┐ 1 , ┌─┼─┐\n",
       "          / ⍸     1 ⍨ ~\n",
       "        ┌─┘       ┌─┘\n",
       "        -         ,\n",
       "</span>"
      ]
     },
     "execution_count": 273,
     "metadata": {},
     "output_type": "execute_result"
    }
   ],
   "source": [
    "⌈/¯1-2-/∘⍸1,1,⍨~"
   ]
  },
  {
   "cell_type": "markdown",
   "id": "04093dd4",
   "metadata": {},
   "source": [
    "#### Solution `⌈/¯1-2-/∘⍸1,1,⍨~ `"
   ]
  },
  {
   "cell_type": "code",
   "execution_count": 274,
   "id": "af3e5075",
   "metadata": {},
   "outputs": [
    {
     "data": {
      "text/html": [
       "<span style=\"white-space:pre; font-family: monospace\">┌→────────────────────────────┐\n",
       "│1 0 0 0 1 0 0 1 1 0 0 0 0 1 1│\n",
       "└~────────────────────────────┘\n",
       "</span>"
      ]
     },
     "execution_count": 274,
     "metadata": {},
     "output_type": "execute_result"
    }
   ],
   "source": [
    "1,(~X),1 ⍝ not Boolean mask with 1 to start and finish"
   ]
  },
  {
   "cell_type": "code",
   "execution_count": 275,
   "id": "769ec74a",
   "metadata": {},
   "outputs": [
    {
     "data": {
      "text/html": [
       "<span style=\"white-space:pre; font-family: monospace\">┌→────────────┐\n",
       "│1 5 8 9 14 15│\n",
       "└~────────────┘\n",
       "</span>"
      ]
     },
     "execution_count": 275,
     "metadata": {},
     "output_type": "execute_result"
    }
   ],
   "source": [
    "⍸1,(~X),1 ⍝ where 1"
   ]
  },
  {
   "cell_type": "code",
   "execution_count": 276,
   "id": "3805f1e7",
   "metadata": {},
   "outputs": [
    {
     "data": {
      "text/html": [
       "<span style=\"white-space:pre; font-family: monospace\">┌→─────────────┐\n",
       "│¯4 ¯3 ¯1 ¯5 ¯1│\n",
       "└~─────────────┘\n",
       "</span>"
      ]
     },
     "execution_count": 276,
     "metadata": {},
     "output_type": "execute_result"
    }
   ],
   "source": [
    "2-/⍸1,(~X),1 ⍝ pairwise subtraction"
   ]
  },
  {
   "cell_type": "code",
   "execution_count": 277,
   "id": "1f57df1f",
   "metadata": {},
   "outputs": [
    {
     "data": {
      "text/html": [
       "<span style=\"white-space:pre; font-family: monospace\">┌→────────┐\n",
       "│3 2 0 4 0│\n",
       "└~────────┘\n",
       "</span>"
      ]
     },
     "execution_count": 277,
     "metadata": {},
     "output_type": "execute_result"
    }
   ],
   "source": [
    "¯1-2-/⍸1,(~X),1 ⍝ length of each run"
   ]
  },
  {
   "cell_type": "code",
   "execution_count": 278,
   "id": "f7a725de",
   "metadata": {},
   "outputs": [
    {
     "data": {
      "text/html": [
       "<span style=\"white-space:pre; font-family: monospace\"> \n",
       "4\n",
       " \n",
       "</span>"
      ]
     },
     "execution_count": 278,
     "metadata": {},
     "output_type": "execute_result"
    }
   ],
   "source": [
    "⌈/¯1-2-/∘⍸1,1,⍨~ X ⍝ ceiling reduce"
   ]
  },
  {
   "cell_type": "code",
   "execution_count": 279,
   "id": "82702ef6",
   "metadata": {},
   "outputs": [
    {
     "data": {
      "text/html": [
       "<span style=\"white-space:pre; font-family: monospace\">  ┌─┴──┐\n",
       "  / ┌──┼───┐\n",
       "┌─┘ ¯1 - ┌─┼────┐\n",
       "⌈        2 ∘  ┌─┼───┐\n",
       "          ┌┴┐ 1 , ┌─┼─┐\n",
       "          / ⍸     1 ⍨ ~\n",
       "        ┌─┘       ┌─┘\n",
       "        -         ,\n",
       "</span>"
      ]
     },
     "execution_count": 279,
     "metadata": {},
     "output_type": "execute_result"
    }
   ],
   "source": [
    "⌈/¯1-2-/∘⍸1,1,⍨~"
   ]
  },
  {
   "cell_type": "code",
   "execution_count": 269,
   "id": "dceb87aa",
   "metadata": {},
   "outputs": [
    {
     "data": {
      "text/html": [
       "<span style=\"white-space:pre; font-family: monospace\">┌→─────────────────────────────────────────────────────────────┐\n",
       "↓  e X → 7.4E¯7 |   0% ⎕⎕⎕⎕⎕⎕⎕⎕⎕⎕⎕⎕⎕⎕⎕⎕⎕⎕⎕⎕⎕⎕⎕⎕⎕⎕⎕⎕            │\n",
       "│  f X → 7.5E¯7 |  +2% ⎕⎕⎕⎕⎕⎕⎕⎕⎕⎕⎕⎕⎕⎕⎕⎕⎕⎕⎕⎕⎕⎕⎕⎕⎕⎕⎕⎕⎕           │\n",
       "│  g X → 8.1E¯7 | +10% ⎕⎕⎕⎕⎕⎕⎕⎕⎕⎕⎕⎕⎕⎕⎕⎕⎕⎕⎕⎕⎕⎕⎕⎕⎕⎕⎕⎕⎕⎕⎕         │\n",
       "│  h X → 8.4E¯7 | +14% ⎕⎕⎕⎕⎕⎕⎕⎕⎕⎕⎕⎕⎕⎕⎕⎕⎕⎕⎕⎕⎕⎕⎕⎕⎕⎕⎕⎕⎕⎕⎕⎕⎕       │\n",
       "│  i X → 8.4E¯7 | +13% ⎕⎕⎕⎕⎕⎕⎕⎕⎕⎕⎕⎕⎕⎕⎕⎕⎕⎕⎕⎕⎕⎕⎕⎕⎕⎕⎕⎕⎕⎕⎕⎕        │\n",
       "│  j X → 9.6E¯7 | +30% ⎕⎕⎕⎕⎕⎕⎕⎕⎕⎕⎕⎕⎕⎕⎕⎕⎕⎕⎕⎕⎕⎕⎕⎕⎕⎕⎕⎕⎕⎕⎕⎕⎕⎕⎕⎕⎕   │\n",
       "│  k X → 1.0E¯6 | +40% ⎕⎕⎕⎕⎕⎕⎕⎕⎕⎕⎕⎕⎕⎕⎕⎕⎕⎕⎕⎕⎕⎕⎕⎕⎕⎕⎕⎕⎕⎕⎕⎕⎕⎕⎕⎕⎕⎕⎕⎕│\n",
       "└──────────────────────────────────────────────────────────────┘\n",
       "</span>"
      ]
     },
     "execution_count": 269,
     "metadata": {},
     "output_type": "execute_result"
    },
    {
     "data": {
      "text/html": [
       "<span style=\"white-space:pre; font-family: monospace\">┌→──────────────────────────────────────────────────────────────┐\n",
       "↓  e Y → 9.5E¯7 |    0% ⎕⎕⎕⎕⎕⎕⎕⎕⎕⎕⎕⎕⎕⎕⎕⎕⎕⎕⎕⎕                    │\n",
       "│  f Y → 1.1E¯6 |  +19% ⎕⎕⎕⎕⎕⎕⎕⎕⎕⎕⎕⎕⎕⎕⎕⎕⎕⎕⎕⎕⎕⎕⎕⎕                │\n",
       "│  g Y → 1.2E¯6 |  +28% ⎕⎕⎕⎕⎕⎕⎕⎕⎕⎕⎕⎕⎕⎕⎕⎕⎕⎕⎕⎕⎕⎕⎕⎕⎕               │\n",
       "│  h Y → 1.5E¯6 |  +59% ⎕⎕⎕⎕⎕⎕⎕⎕⎕⎕⎕⎕⎕⎕⎕⎕⎕⎕⎕⎕⎕⎕⎕⎕⎕⎕⎕⎕⎕⎕⎕         │\n",
       "│  i Y → 1.9E¯6 | +103% ⎕⎕⎕⎕⎕⎕⎕⎕⎕⎕⎕⎕⎕⎕⎕⎕⎕⎕⎕⎕⎕⎕⎕⎕⎕⎕⎕⎕⎕⎕⎕⎕⎕⎕⎕⎕⎕⎕⎕⎕│\n",
       "│  j Y → 1.5E¯6 |  +60% ⎕⎕⎕⎕⎕⎕⎕⎕⎕⎕⎕⎕⎕⎕⎕⎕⎕⎕⎕⎕⎕⎕⎕⎕⎕⎕⎕⎕⎕⎕⎕⎕        │\n",
       "│  k Y → 1.4E¯6 |  +43% ⎕⎕⎕⎕⎕⎕⎕⎕⎕⎕⎕⎕⎕⎕⎕⎕⎕⎕⎕⎕⎕⎕⎕⎕⎕⎕⎕⎕            │\n",
       "└───────────────────────────────────────────────────────────────┘\n",
       "</span>"
      ]
     },
     "execution_count": 269,
     "metadata": {},
     "output_type": "execute_result"
    },
    {
     "data": {
      "text/html": [
       "<span style=\"white-space:pre; font-family: monospace\">┌→─────────────────────────────────────────────────────────────┐\n",
       "↓  e Z → 2.2E¯5 |   0% ⎕⎕⎕⎕⎕⎕⎕⎕⎕⎕⎕⎕⎕⎕⎕⎕⎕⎕⎕⎕⎕⎕⎕⎕⎕⎕⎕⎕⎕⎕⎕⎕⎕⎕⎕⎕⎕⎕⎕ │\n",
       "│  f Z → 2.0E¯5 |  -9% ⎕⎕⎕⎕⎕⎕⎕⎕⎕⎕⎕⎕⎕⎕⎕⎕⎕⎕⎕⎕⎕⎕⎕⎕⎕⎕⎕⎕⎕⎕⎕⎕⎕⎕⎕⎕    │\n",
       "│  g Z → 2.0E¯5 | -11% ⎕⎕⎕⎕⎕⎕⎕⎕⎕⎕⎕⎕⎕⎕⎕⎕⎕⎕⎕⎕⎕⎕⎕⎕⎕⎕⎕⎕⎕⎕⎕⎕⎕⎕⎕     │\n",
       "│  h Z → 2.3E¯5 |  +1% ⎕⎕⎕⎕⎕⎕⎕⎕⎕⎕⎕⎕⎕⎕⎕⎕⎕⎕⎕⎕⎕⎕⎕⎕⎕⎕⎕⎕⎕⎕⎕⎕⎕⎕⎕⎕⎕⎕⎕⎕│\n",
       "│  i Z → 2.0E¯5 |  -9% ⎕⎕⎕⎕⎕⎕⎕⎕⎕⎕⎕⎕⎕⎕⎕⎕⎕⎕⎕⎕⎕⎕⎕⎕⎕⎕⎕⎕⎕⎕⎕⎕⎕⎕⎕⎕    │\n",
       "│  j Z → 1.8E¯5 | -20% ⎕⎕⎕⎕⎕⎕⎕⎕⎕⎕⎕⎕⎕⎕⎕⎕⎕⎕⎕⎕⎕⎕⎕⎕⎕⎕⎕⎕⎕⎕⎕⎕        │\n",
       "│  k Z → 1.7E¯6 | -93% ⎕⎕⎕                                     │\n",
       "└──────────────────────────────────────────────────────────────┘\n",
       "</span>"
      ]
     },
     "execution_count": 269,
     "metadata": {},
     "output_type": "execute_result"
    }
   ],
   "source": [
    "X←1 1 1 0 1 1 0 0 1 1 1 1 0\n",
    "Y←12/0 1 0 1\n",
    "Z←1000⍴X\n",
    "\n",
    "e←≢∘⍉∘↑,⊆,\n",
    "f←≢∘⍉∘↑⊆⍨∘,\n",
    "g←⌈/0,≢¨⍤⊆⍨∘,\n",
    "h←{≢⍉↑(,⍵)⊆,⍵}\n",
    "i←{≢⍉↑⊆⍨,⍵}\n",
    "j←{⌈/0,≢¨⍵⊆,⍵}\n",
    "k←⌈/¯1-2-/∘⍸1,1,⍨~ ⍝ no partition, faster for big arrays\n",
    "\n",
    "cmpx 'e X' 'f X' 'g X' 'h X' 'i X' 'j X' 'k X'\n",
    "cmpx 'e Y' 'f Y' 'g Y' 'h Y' 'i Y' 'j Y' 'k Y'\n",
    "cmpx 'e Z' 'f Z' 'g Z' 'h Z' 'i Z' 'j Z' 'k Z'"
   ]
  },
  {
   "cell_type": "markdown",
   "id": "490ab4b0",
   "metadata": {},
   "source": [
    "## 5: [Stairway to Heaven](https://contest.dyalog.com/?goto=P15) (with apologies to [Led Zeppelin](https://en.wikipedia.org/wiki/Stairway_to_Heaven))\n",
    "\n",
    "Write an APL function that:\n",
    "- Given a scalar integer argument, n, in the range 0-100.\n",
    "- Returns a character matrix comprised of spaces and ⎕ that resembles an n-level left-to-right ascending stairway.\n",
    "\n",
    "**Hint:** The _index generator_ function [⍳Y](http://help.dyalog.com/latest/#Language/Primitive%20Functions/Index%20Generator.htm) could help with solving this problem.\n",
    "Examples\n",
    "\n",
    "      \n",
    "      (your_function) 10\n",
    "```      \n",
    "         ⎕\n",
    "        ⎕⎕\n",
    "       ⎕⎕⎕\n",
    "      ⎕⎕⎕⎕\n",
    "     ⎕⎕⎕⎕⎕\n",
    "    ⎕⎕⎕⎕⎕⎕\n",
    "   ⎕⎕⎕⎕⎕⎕⎕\n",
    "  ⎕⎕⎕⎕⎕⎕⎕⎕\n",
    " ⎕⎕⎕⎕⎕⎕⎕⎕⎕\n",
    "⎕⎕⎕⎕⎕⎕⎕⎕⎕⎕\n",
    "```\n",
    "\n",
    "      (your_function) 0 ⍝ returns a 0×0 matrix\n",
    "\n"
   ]
  },
  {
   "cell_type": "code",
   "execution_count": 217,
   "id": "3a4af575",
   "metadata": {},
   "outputs": [
    {
     "data": {
      "text/html": [
       "<span style=\"white-space:pre; font-family: monospace\">┌→──────────────────────┐\n",
       "│ ┌→┐ ┌→─┐ ┌→──┐ ┌→───┐ │\n",
       "│ │⎕│ │⎕⎕│ │⎕⎕⎕│ │⎕⎕⎕⎕│ │\n",
       "│ └─┘ └──┘ └───┘ └────┘ │\n",
       "└∊──────────────────────┘\n",
       "</span>"
      ]
     },
     "execution_count": 217,
     "metadata": {},
     "output_type": "execute_result"
    }
   ],
   "source": [
    "(⍳4)⍴¨'⎕' ⍝ index generator 4 shape each '⎕'"
   ]
  },
  {
   "cell_type": "code",
   "execution_count": 215,
   "id": "c769828f",
   "metadata": {},
   "outputs": [
    {
     "data": {
      "text/html": [
       "<span style=\"white-space:pre; font-family: monospace\">┌→──────────────────────┐\n",
       "│ ┌→┐ ┌→─┐ ┌→──┐ ┌→───┐ │\n",
       "│ │⎕│ │⎕⎕│ │⎕⎕⎕│ │⎕⎕⎕⎕│ │\n",
       "│ └─┘ └──┘ └───┘ └────┘ │\n",
       "└∊──────────────────────┘\n",
       "</span>"
      ]
     },
     "execution_count": 215,
     "metadata": {},
     "output_type": "execute_result"
    }
   ],
   "source": [
    "'⎕'⍴¨⍨⍳4 ⍝ commute to avoid parentheses"
   ]
  },
  {
   "cell_type": "code",
   "execution_count": 119,
   "id": "ae453dc1",
   "metadata": {},
   "outputs": [
    {
     "data": {
      "text/html": [
       "<span style=\"white-space:pre; font-family: monospace\">┌→───┐\n",
       "↓⎕   │\n",
       "│⎕⎕  │\n",
       "│⎕⎕⎕ │\n",
       "│⎕⎕⎕⎕│\n",
       "└────┘\n",
       "</span>"
      ]
     },
     "execution_count": 119,
     "metadata": {},
     "output_type": "execute_result"
    }
   ],
   "source": [
    "↑'⎕'⍴¨⍨⍳4 ⍝ mix. If the items of X are unequal in shape, the shorter ones are extended with ' ', \n",
    "        ⍝ the prototype for a character array."
   ]
  },
  {
   "cell_type": "code",
   "execution_count": 120,
   "id": "4e179759",
   "metadata": {},
   "outputs": [
    {
     "data": {
      "text/html": [
       "<span style=\"white-space:pre; font-family: monospace\">┌→───┐\n",
       "↓   ⎕│\n",
       "│  ⎕⎕│\n",
       "│ ⎕⎕⎕│\n",
       "│⎕⎕⎕⎕│\n",
       "└────┘\n",
       "</span>"
      ]
     },
     "execution_count": 120,
     "metadata": {},
     "output_type": "execute_result"
    }
   ],
   "source": [
    "⌽↑'⎕'⍴¨⍨⍳4 ⍝ reverse axes mix '⎕' shape each commute index generator 4"
   ]
  },
  {
   "cell_type": "code",
   "execution_count": 304,
   "id": "99e04167",
   "metadata": {},
   "outputs": [
    {
     "data": {
      "text/html": [
       "<span style=\"white-space:pre; font-family: monospace\"> ┌──┴───┐\n",
       " ∘  ┌───┼─┐\n",
       "┌┴┐ '⎕' ⍨ ⍳\n",
       "⌽ ↑   ┌─┘\n",
       "      ¨\n",
       "    ┌─┘\n",
       "    ⍴\n",
       "</span>"
      ]
     },
     "execution_count": 304,
     "metadata": {},
     "output_type": "execute_result"
    }
   ],
   "source": [
    "⌽∘↑'⎕'⍴¨⍨⍳"
   ]
  },
  {
   "cell_type": "code",
   "execution_count": 278,
   "id": "1cf4c6e9",
   "metadata": {},
   "outputs": [
    {
     "data": {
      "text/html": [
       "<span style=\"white-space:pre; font-family: monospace\">  ┌─┴──┐\n",
       "  ⍤    ∘\n",
       " ┌┴┐  ┌┴┐\n",
       " ⍤ ↑  ¨ ⍳\n",
       "┌┴┐ ┌─┘\n",
       "⊖ 1 ∘\n",
       "   ┌┴┐\n",
       "   ⍴ '⎕'\n",
       "</span>"
      ]
     },
     "execution_count": 278,
     "metadata": {},
     "output_type": "execute_result"
    }
   ],
   "source": [
    "⊖⍤1⍤↑⍴∘'⎕'¨∘⍳ ⍝ reverse first rank 1 atop"
   ]
  },
  {
   "cell_type": "code",
   "execution_count": 307,
   "id": "d7487fff",
   "metadata": {},
   "outputs": [
    {
     "data": {
      "text/html": [
       "<span style=\"white-space:pre; font-family: monospace\">┌→──────────────────────────────┐\n",
       "│ ┌→┐ ┌→─┐ ┌→──┐ ┌→───┐ ┌→────┐ │\n",
       "│ │⎕│ │⎕⎕│ │⎕⎕⎕│ │⎕⎕⎕⎕│ │⎕⎕⎕⎕⎕│ │\n",
       "│ └─┘ └──┘ └───┘ └────┘ └─────┘ │\n",
       "└∊──────────────────────────────┘\n",
       "</span>"
      ]
     },
     "execution_count": 307,
     "metadata": {},
     "output_type": "execute_result"
    },
    {
     "data": {
      "text/html": [
       "<span style=\"white-space:pre; font-family: monospace\">┌→──────────────────────────────┐\n",
       "│ ┌→┐ ┌→─┐ ┌→──┐ ┌→───┐ ┌→────┐ │\n",
       "│ │⎕│ │⎕⎕│ │⎕⎕⎕│ │⎕⎕⎕⎕│ │⎕⎕⎕⎕⎕│ │\n",
       "│ └─┘ └──┘ └───┘ └────┘ └─────┘ │\n",
       "└∊──────────────────────────────┘\n",
       "</span>"
      ]
     },
     "execution_count": 307,
     "metadata": {},
     "output_type": "execute_result"
    }
   ],
   "source": [
    "(⌽↑'⎕'⍴¨⍨⍳) 5\n",
    "(⌽↑⍳⍴¨'⎕'⍨) 5"
   ]
  },
  {
   "cell_type": "code",
   "execution_count": 305,
   "id": "f32e4395",
   "metadata": {},
   "outputs": [
    {
     "data": {
      "text/html": [
       "<span style=\"white-space:pre; font-family: monospace\"> ┌─┴──┐\n",
       " ∘  ┌─┼───┐\n",
       "┌┴┐ ⍳ ¨   ⍨\n",
       "⌽ ↑ ┌─┘ ┌─┘\n",
       "    ⍴   '⎕'\n",
       "</span>"
      ]
     },
     "execution_count": 305,
     "metadata": {},
     "output_type": "execute_result"
    }
   ],
   "source": [
    "⌽∘↑⍳⍴¨'⎕'⍨ "
   ]
  },
  {
   "cell_type": "code",
   "execution_count": 306,
   "id": "fb8890ba",
   "metadata": {},
   "outputs": [
    {
     "data": {
      "text/html": [
       "<span style=\"white-space:pre; font-family: monospace\"> ┌─┴─┐\n",
       " ∘   ∘\n",
       "┌┴┐ ┌┴┐\n",
       "⌽ ↑ ¨ ⍳\n",
       "  ┌─┘\n",
       "  ∘\n",
       " ┌┴┐\n",
       " ⍴ '⎕'\n",
       "</span>"
      ]
     },
     "execution_count": 306,
     "metadata": {},
     "output_type": "execute_result"
    }
   ],
   "source": [
    "⌽∘↑⍴∘'⎕'¨∘⍳"
   ]
  },
  {
   "cell_type": "code",
   "execution_count": 299,
   "id": "02f2be14",
   "metadata": {},
   "outputs": [
    {
     "data": {
      "text/html": [
       "<span style=\"white-space:pre; font-family: monospace\">┌→───┐\n",
       "│⎕⎕⎕⎕│\n",
       "└────┘\n",
       "</span>"
      ]
     },
     "execution_count": 299,
     "metadata": {},
     "output_type": "execute_result"
    },
    {
     "data": {
      "text/html": [
       "<span style=\"white-space:pre; font-family: monospace\">┌→──────────────────────┐\n",
       "│ ┌→┐ ┌→─┐ ┌→──┐ ┌→───┐ │\n",
       "│ │⎕│ │⎕⎕│ │⎕⎕⎕│ │⎕⎕⎕⎕│ │\n",
       "│ └─┘ └──┘ └───┘ └────┘ │\n",
       "└∊──────────────────────┘\n",
       "</span>"
      ]
     },
     "execution_count": 299,
     "metadata": {},
     "output_type": "execute_result"
    },
    {
     "data": {
      "text/html": [
       "<span style=\"white-space:pre; font-family: monospace\">┌→───┐\n",
       "↓⎕   │\n",
       "│⎕⎕  │\n",
       "│⎕⎕⎕ │\n",
       "│⎕⎕⎕⎕│\n",
       "└────┘\n",
       "</span>"
      ]
     },
     "execution_count": 299,
     "metadata": {},
     "output_type": "execute_result"
    },
    {
     "data": {
      "text/html": [
       "<span style=\"white-space:pre; font-family: monospace\">┌→───┐\n",
       "↓   ⎕│\n",
       "│  ⎕⎕│\n",
       "│ ⎕⎕⎕│\n",
       "│⎕⎕⎕⎕│\n",
       "└────┘\n",
       "</span>"
      ]
     },
     "execution_count": 299,
     "metadata": {},
     "output_type": "execute_result"
    }
   ],
   "source": [
    "{⍵⍴'⎕'} 4\n",
    "{{⍵⍴'⎕'}¨⍳⍵} 4\n",
    "{↑{⍵⍴'⎕'}¨⍳⍵} 4\n",
    "{⌽↑{⍵⍴'⎕'}¨⍳⍵} 4"
   ]
  },
  {
   "cell_type": "code",
   "execution_count": 303,
   "id": "8aa72b75",
   "metadata": {},
   "outputs": [
    {
     "data": {
      "text/html": [
       "<span style=\"white-space:pre; font-family: monospace\">┌→─────────────────────────────────────────────────────────────┐\n",
       "↓  c X → 8.5E¯6 |   0% ⎕⎕⎕⎕⎕⎕⎕⎕⎕⎕⎕⎕⎕⎕⎕⎕⎕⎕⎕⎕⎕⎕⎕⎕⎕⎕⎕⎕⎕⎕          │\n",
       "│  d X → 8.6E¯6 |  +1% ⎕⎕⎕⎕⎕⎕⎕⎕⎕⎕⎕⎕⎕⎕⎕⎕⎕⎕⎕⎕⎕⎕⎕⎕⎕⎕⎕⎕⎕⎕⎕         │\n",
       "│  e X → 8.6E¯6 |  +1% ⎕⎕⎕⎕⎕⎕⎕⎕⎕⎕⎕⎕⎕⎕⎕⎕⎕⎕⎕⎕⎕⎕⎕⎕⎕⎕⎕⎕⎕⎕⎕         │\n",
       "│  f X → 8.8E¯6 |  +3% ⎕⎕⎕⎕⎕⎕⎕⎕⎕⎕⎕⎕⎕⎕⎕⎕⎕⎕⎕⎕⎕⎕⎕⎕⎕⎕⎕⎕⎕⎕⎕         │\n",
       "│  g X → 9.8E¯6 | +15% ⎕⎕⎕⎕⎕⎕⎕⎕⎕⎕⎕⎕⎕⎕⎕⎕⎕⎕⎕⎕⎕⎕⎕⎕⎕⎕⎕⎕⎕⎕⎕⎕⎕⎕⎕     │\n",
       "│  h X → 1.0E¯5 | +18% ⎕⎕⎕⎕⎕⎕⎕⎕⎕⎕⎕⎕⎕⎕⎕⎕⎕⎕⎕⎕⎕⎕⎕⎕⎕⎕⎕⎕⎕⎕⎕⎕⎕⎕⎕⎕    │\n",
       "│  i X → 1.1E¯5 | +31% ⎕⎕⎕⎕⎕⎕⎕⎕⎕⎕⎕⎕⎕⎕⎕⎕⎕⎕⎕⎕⎕⎕⎕⎕⎕⎕⎕⎕⎕⎕⎕⎕⎕⎕⎕⎕⎕⎕⎕⎕│\n",
       "└──────────────────────────────────────────────────────────────┘\n",
       "</span>"
      ]
     },
     "execution_count": 303,
     "metadata": {},
     "output_type": "execute_result"
    }
   ],
   "source": [
    "X ← 50\n",
    "\n",
    "c←⌽∘↑'⎕'⍴¨⍨⍳\n",
    "d←⊖⍤1⍤↑'⎕'⍴¨⍨⍳ \n",
    "e←⌽∘↑⍳⍴¨'⎕'⍨ \n",
    "f←{⌽↑'⎕'⍴¨⍨⍳⍵}\n",
    "g←⌽∘↑⍴∘'⎕'¨∘⍳\n",
    "h←{⊖⍤1↑⍴∘'⎕'¨⍳⍵}\n",
    "i←{⌽↑{⍵⍴'⎕'}¨⍳⍵}              \n",
    "\n",
    "cmpx 'c X' 'd X' 'e X' 'f X' 'g X' 'h X' 'i X'"
   ]
  },
  {
   "cell_type": "markdown",
   "id": "1fe56bbb",
   "metadata": {},
   "source": [
    "## 6: [Pyramid Scheme](https://contest.dyalog.com/?goto=P16)\n",
    "\n",
    "Write a monadic function that:\n",
    "- takes an argument n that is an integer scalar in the range 0-100.\n",
    "- returns a square matrix \"pyramid\" with 0⌈¯1+2×n rows and columns of n increasing concentric levels.\n",
    "- By this we mean that the center element of the matrix will be n, surrounded on all sides by n-1.\n",
    "\n",
    "**Hint:** The functions _minimum_ [X⌊Y](https://help.dyalog.com/latest/#Language/Primitive%20Functions/Minimum.htm) and _reverse_ [⌽Y](https://help.dyalog.com/latest/#Language/Primitive%20Functions/Reverse.htm), and the _outer product_ operator [X∘.gY](http://help.dyalog.com/latest/#Language/Primitive%20Operators/Outer%20Product.htm) could be helpful.\n",
    "\n",
    "**Examples**\n",
    "\n",
    "      (your_function) 3\n",
    "1 1 1 1 1\n",
    "1 2 2 2 1\n",
    "1 2 3 2 1\n",
    "1 2 2 2 1\n",
    "1 1 1 1 1\n",
    "\n",
    "      (your_function) 5\n",
    "1 1 1 1 1 1 1 1 1\n",
    "1 2 2 2 2 2 2 2 1\n",
    "1 2 3 3 3 3 3 2 1\n",
    "1 2 3 4 4 4 3 2 1\n",
    "1 2 3 4 5 4 3 2 1\n",
    "1 2 3 4 4 4 3 2 1\n",
    "1 2 3 3 3 3 3 2 1\n",
    "1 2 2 2 2 2 2 2 1\n",
    "1 1 1 1 1 1 1 1 1\n",
    "      \n",
    "      (your_function) 1 ⍝ should return 1 1⍴1\n",
    "1      \n",
    "\n",
    "      (your_function) 0 ⍝ should return 0 0⍴0\n",
    "\n"
   ]
  },
  {
   "cell_type": "code",
   "execution_count": 311,
   "id": "8645fec2",
   "metadata": {},
   "outputs": [
    {
     "data": {
      "text/html": [
       "<span style=\"white-space:pre; font-family: monospace\">┌→──────┐\n",
       "│1 2 3 4│\n",
       "└~──────┘\n",
       "</span>"
      ]
     },
     "execution_count": 311,
     "metadata": {},
     "output_type": "execute_result"
    }
   ],
   "source": [
    "⍳4 ⍝ index generator"
   ]
  },
  {
   "cell_type": "code",
   "execution_count": 313,
   "id": "1feb2d50",
   "metadata": {},
   "outputs": [
    {
     "data": {
      "text/html": [
       "<span style=\"white-space:pre; font-family: monospace\">┌→──────┐\n",
       "│4 3 2 1│\n",
       "└~──────┘\n",
       "</span>"
      ]
     },
     "execution_count": 313,
     "metadata": {},
     "output_type": "execute_result"
    }
   ],
   "source": [
    "⌽⍳4 ⍝ reverse index generator"
   ]
  },
  {
   "cell_type": "code",
   "execution_count": 314,
   "id": "b52e2097",
   "metadata": {},
   "outputs": [
    {
     "data": {
      "text/html": [
       "<span style=\"white-space:pre; font-family: monospace\">┌→────┐\n",
       "│3 2 1│\n",
       "└~────┘\n",
       "</span>"
      ]
     },
     "execution_count": 314,
     "metadata": {},
     "output_type": "execute_result"
    }
   ],
   "source": [
    "1↓⌽⍳ ⍝ drop 1 reverse index generator"
   ]
  },
  {
   "cell_type": "code",
   "execution_count": 374,
   "id": "69fb10b5",
   "metadata": {},
   "outputs": [
    {
     "data": {
      "text/html": [
       "<span style=\"white-space:pre; font-family: monospace\">┌→────────────┐\n",
       "│1 2 3 4 3 2 1│\n",
       "└~────────────┘\n",
       "</span>"
      ]
     },
     "execution_count": 374,
     "metadata": {},
     "output_type": "execute_result"
    }
   ],
   "source": [
    "(⍳4),1↓⌽⍳4 ⍝ index generator catenate drop 1 reverse index generator"
   ]
  },
  {
   "cell_type": "code",
   "execution_count": 375,
   "id": "c9e9b161",
   "metadata": {},
   "outputs": [
    {
     "data": {
      "text/html": [
       "<span style=\"white-space:pre; font-family: monospace\">┌→────────────┐\n",
       "↓1 1 1 1 1 1 1│\n",
       "│1 2 2 2 2 2 1│\n",
       "│1 2 3 3 3 2 1│\n",
       "│1 2 3 4 3 2 1│\n",
       "│1 2 3 3 3 2 1│\n",
       "│1 2 2 2 2 2 1│\n",
       "│1 1 1 1 1 1 1│\n",
       "└~────────────┘\n",
       "</span>"
      ]
     },
     "execution_count": 375,
     "metadata": {},
     "output_type": "execute_result"
    }
   ],
   "source": [
    "((⍳4),1↓⌽⍳4) ∘.⌊ (⍳4),1↓⌽⍳4 ⍝ outer product floor (genius move)"
   ]
  },
  {
   "cell_type": "code",
   "execution_count": 377,
   "id": "68bfb3c7",
   "metadata": {},
   "outputs": [
    {
     "data": {
      "text/html": [
       "<span style=\"white-space:pre; font-family: monospace\">┌→────────────┐\n",
       "↓1 1 1 1 1 1 1│\n",
       "│1 2 2 2 2 2 1│\n",
       "│1 2 3 3 3 2 1│\n",
       "│1 2 3 4 3 2 1│\n",
       "│1 2 3 3 3 2 1│\n",
       "│1 2 2 2 2 2 1│\n",
       "│1 1 1 1 1 1 1│\n",
       "└~────────────┘\n",
       "</span>"
      ]
     },
     "execution_count": 377,
     "metadata": {},
     "output_type": "execute_result"
    }
   ],
   "source": [
    "∘.⌊⍨(⍳4),1↓⌽⍳4 ⍝ constant (both sides)"
   ]
  },
  {
   "cell_type": "code",
   "execution_count": 379,
   "id": "60f8564d",
   "metadata": {},
   "outputs": [
    {
     "data": {
      "text/html": [
       "<span style=\"white-space:pre; font-family: monospace\">┌→────────────┐\n",
       "↓1 1 1 1 1 1 1│\n",
       "│1 2 2 2 2 2 1│\n",
       "│1 2 3 3 3 2 1│\n",
       "│1 2 3 4 3 2 1│\n",
       "│1 2 3 3 3 2 1│\n",
       "│1 2 2 2 2 2 1│\n",
       "│1 1 1 1 1 1 1│\n",
       "└~────────────┘\n",
       "</span>"
      ]
     },
     "execution_count": 379,
     "metadata": {},
     "output_type": "execute_result"
    }
   ],
   "source": [
    "∘.⌊⍨(⍳4),1↓⌽⍳4 ⍝ constant (both sides)"
   ]
  },
  {
   "cell_type": "code",
   "execution_count": 390,
   "id": "89293c53",
   "metadata": {},
   "outputs": [
    {
     "data": {
      "text/html": [
       "<span style=\"white-space:pre; font-family: monospace\">┌→────────────┐\n",
       "↓1 1 1 1 1 1 1│\n",
       "│1 2 2 2 2 2 1│\n",
       "│1 2 3 3 3 2 1│\n",
       "│1 2 3 4 3 2 1│\n",
       "│1 2 3 3 3 2 1│\n",
       "│1 2 2 2 2 2 1│\n",
       "│1 1 1 1 1 1 1│\n",
       "└~────────────┘\n",
       "</span>"
      ]
     },
     "execution_count": 390,
     "metadata": {},
     "output_type": "execute_result"
    }
   ],
   "source": [
    "{∘.⌊⍨(⍳⍵),1↓⌽⍳⍵}4"
   ]
  },
  {
   "cell_type": "code",
   "execution_count": 391,
   "id": "8db7a16b",
   "metadata": {},
   "outputs": [
    {
     "data": {
      "text/html": [
       "<span style=\"white-space:pre; font-family: monospace\">   ┌─┴─┐       \n",
       "   ⍨ ┌─┼───┐   \n",
       " ┌─┘ ⍳ , ┌─┼─┐ \n",
       " .       1 ↓ ∘ \n",
       "┌┴┐         ┌┴┐\n",
       "∘ ⌊         ⌽ ⍳\n",
       "</span>"
      ]
     },
     "execution_count": 391,
     "metadata": {},
     "output_type": "execute_result"
    }
   ],
   "source": [
    "∘.⌊⍨⍳,1↓⌽∘⍳ "
   ]
  },
  {
   "cell_type": "code",
   "execution_count": 394,
   "id": "0dc463b9",
   "metadata": {},
   "outputs": [
    {
     "data": {
      "text/html": [
       "<span style=\"white-space:pre; font-family: monospace\">┌→──────┐\n",
       "↓1 1 1 1│\n",
       "│1 2 2 2│\n",
       "│1 2 3 3│\n",
       "│1 2 3 4│\n",
       "└~──────┘\n",
       "</span>"
      ]
     },
     "execution_count": 394,
     "metadata": {},
     "output_type": "execute_result"
    }
   ],
   "source": [
    "⊣a←(⍳4)∘.⌊⍳4 ⍝ quarter of matrix (top left)"
   ]
  },
  {
   "cell_type": "code",
   "execution_count": 409,
   "id": "04c15d95",
   "metadata": {},
   "outputs": [
    {
     "data": {
      "text/html": [
       "<span style=\"white-space:pre; font-family: monospace\">┌→──────┐\n",
       "↓4 3 2 1│\n",
       "│3 3 2 1│\n",
       "│2 2 2 1│\n",
       "│1 1 1 1│\n",
       "└~──────┘\n",
       "</span>"
      ]
     },
     "execution_count": 409,
     "metadata": {},
     "output_type": "execute_result"
    }
   ],
   "source": [
    "⌽⊖a ⍝ bottom right reverse reverse first"
   ]
  },
  {
   "cell_type": "code",
   "execution_count": 401,
   "id": "71c6066d",
   "metadata": {},
   "outputs": [
    {
     "data": {
      "text/html": [
       "<span style=\"white-space:pre; font-family: monospace\">┌→──────┐\n",
       "↓1 2 3 4│\n",
       "│1 2 3 3│\n",
       "│1 2 2 2│\n",
       "│1 1 1 1│\n",
       "└~──────┘\n",
       "</span>"
      ]
     },
     "execution_count": 401,
     "metadata": {},
     "output_type": "execute_result"
    }
   ],
   "source": [
    "⊖a ⍝ bottom left reverse first"
   ]
  },
  {
   "cell_type": "code",
   "execution_count": 402,
   "id": "3fbd90fb",
   "metadata": {},
   "outputs": [
    {
     "data": {
      "text/html": [
       "<span style=\"white-space:pre; font-family: monospace\">┌→──────┐\n",
       "↓1 1 1 1│\n",
       "│2 2 2 1│\n",
       "│3 3 2 1│\n",
       "│4 3 2 1│\n",
       "└~──────┘\n",
       "</span>"
      ]
     },
     "execution_count": 402,
     "metadata": {},
     "output_type": "execute_result"
    }
   ],
   "source": [
    "⌽a ⍝ top right reverse"
   ]
  },
  {
   "cell_type": "code",
   "execution_count": 413,
   "id": "289b6013",
   "metadata": {},
   "outputs": [
    {
     "data": {
      "text/html": [
       "<span style=\"white-space:pre; font-family: monospace\">┌→────────────┐\n",
       "↓1 2 3 4 3 2 1│\n",
       "│1 2 3 3 3 2 1│\n",
       "│1 2 2 2 2 2 1│\n",
       "│1 1 1 1 1 1 1│\n",
       "└~────────────┘\n",
       "</span>"
      ]
     },
     "execution_count": 413,
     "metadata": {},
     "output_type": "execute_result"
    }
   ],
   "source": [
    "(⊖a),1↓⍤1⌽⊖a ⍝ bottom section dropping first column of bottom right then first row of combined matrices"
   ]
  },
  {
   "cell_type": "code",
   "execution_count": 414,
   "id": "b603b034",
   "metadata": {},
   "outputs": [
    {
     "data": {
      "text/html": [
       "<span style=\"white-space:pre; font-family: monospace\">┌→────────────┐\n",
       "↓1 1 1 1 1 1 1│\n",
       "│1 2 2 2 2 2 1│\n",
       "│1 2 3 3 3 2 1│\n",
       "│1 2 3 4 3 2 1│\n",
       "└~────────────┘\n",
       "</span>"
      ]
     },
     "execution_count": 414,
     "metadata": {},
     "output_type": "execute_result"
    }
   ],
   "source": [
    "a,1↓⍤1⌽a ⍝ top section dropping first column of top right"
   ]
  },
  {
   "cell_type": "code",
   "execution_count": 371,
   "id": "969f1c5c",
   "metadata": {},
   "outputs": [
    {
     "data": {
      "text/html": [
       "<span style=\"white-space:pre; font-family: monospace\">┌→────────────────┐\n",
       "↓1 1 1 1 1 1 1 1 1│\n",
       "│1 2 2 2 2 2 2 2 1│\n",
       "│1 2 3 3 3 3 3 2 1│\n",
       "│1 2 3 4 4 4 3 2 1│\n",
       "│1 2 3 4 5 4 3 2 1│\n",
       "│1 2 3 4 4 4 3 2 1│\n",
       "│1 2 3 3 3 3 3 2 1│\n",
       "│1 2 2 2 2 2 2 2 1│\n",
       "│1 1 1 1 1 1 1 1 1│\n",
       "└~────────────────┘\n",
       "</span>"
      ]
     },
     "execution_count": 371,
     "metadata": {},
     "output_type": "execute_result"
    }
   ],
   "source": [
    "{(a,1↓⍤1⌽a)⍪1↓(⊖a),1↓⍤1⌽⊖a←(⍳⍵)∘.⌊⍳⍵}5 ⍝ catenate first top section and bottom section"
   ]
  },
  {
   "cell_type": "code",
   "execution_count": 434,
   "id": "8531ef2a",
   "metadata": {},
   "outputs": [
    {
     "data": {
      "text/html": [
       "<span style=\"white-space:pre; font-family: monospace\">┌→────────────┐\n",
       "│1 2 3 4 5 6 7│\n",
       "└~────────────┘\n",
       "</span>"
      ]
     },
     "execution_count": 434,
     "metadata": {},
     "output_type": "execute_result"
    }
   ],
   "source": [
    "(⍳0⌈¯1+×∘2) 4"
   ]
  },
  {
   "cell_type": "code",
   "execution_count": 436,
   "id": "718fd2e4",
   "metadata": {},
   "outputs": [
    {
     "data": {
      "text/html": [
       "<span style=\"white-space:pre; font-family: monospace\">┌→────────────┐\n",
       "↓1 1 1 1 1 1 1│\n",
       "│1 2 2 2 2 2 2│\n",
       "│1 2 3 3 3 3 3│\n",
       "│1 2 3 4 4 4 4│\n",
       "│1 2 3 4 5 5 5│\n",
       "│1 2 3 4 5 6 6│\n",
       "│1 2 3 4 5 6 7│\n",
       "└~────────────┘\n",
       "</span>"
      ]
     },
     "execution_count": 436,
     "metadata": {},
     "output_type": "execute_result"
    }
   ],
   "source": [
    "(∘.⌊⍨∘⍳0⌈¯1+×∘2) 4"
   ]
  },
  {
   "cell_type": "code",
   "execution_count": 441,
   "id": "f4e995ec",
   "metadata": {},
   "outputs": [
    {
     "data": {
      "text/html": [
       "<span style=\"white-space:pre; font-family: monospace\">┌→────────────┐\n",
       "↓7 6 5 4 3 2 1│\n",
       "│6 6 5 4 3 2 1│\n",
       "│5 5 5 4 3 2 1│\n",
       "│4 4 4 4 3 2 1│\n",
       "│3 3 3 3 3 2 1│\n",
       "│2 2 2 2 2 2 1│\n",
       "│1 1 1 1 1 1 1│\n",
       "└~────────────┘\n",
       "</span>"
      ]
     },
     "execution_count": 441,
     "metadata": {},
     "output_type": "execute_result"
    }
   ],
   "source": [
    "⌽⊖ (∘.⌊⍨∘⍳0⌈¯1+×∘2) 4"
   ]
  },
  {
   "cell_type": "code",
   "execution_count": 439,
   "id": "71c04336",
   "metadata": {},
   "outputs": [
    {
     "data": {
      "text/html": [
       "<span style=\"white-space:pre; font-family: monospace\">┌→────────────┐\n",
       "↓1 1 1 1 1 1 1│\n",
       "│1 2 2 2 2 2 1│\n",
       "│1 2 3 3 3 2 1│\n",
       "│1 2 3 4 3 2 1│\n",
       "│1 2 3 3 3 2 1│\n",
       "│1 2 2 2 2 2 1│\n",
       "│1 1 1 1 1 1 1│\n",
       "└~────────────┘\n",
       "</span>"
      ]
     },
     "execution_count": 439,
     "metadata": {},
     "output_type": "execute_result"
    }
   ],
   "source": [
    "((∘.⌊⍨∘⍳0⌈¯1+×∘2) 4) ⌊⌽⊖ ((∘.⌊⍨∘⍳0⌈¯1+×∘2) 4)"
   ]
  },
  {
   "cell_type": "code",
   "execution_count": 469,
   "id": "9cec4d00",
   "metadata": {},
   "outputs": [
    {
     "data": {
      "text/html": [
       "<span style=\"white-space:pre; font-family: monospace\">    ┌──┴──┐           \n",
       "    ⍨   ┌─┴──┐        \n",
       "  ┌─┘   ∘  ┌─┼────┐   \n",
       "  ∘    ┌┴┐ 0 ⌈ ┌──┼─┐ \n",
       " ┌┴┐   ⍨ ⍳     ¯1 + ∘ \n",
       " ∘ ⊖ ┌─┘           ┌┴┐\n",
       "┌┴┐  .             × 2\n",
       "⌊ ⌽ ┌┴┐               \n",
       "    ∘ ⌊               \n",
       "</span>"
      ]
     },
     "execution_count": 469,
     "metadata": {},
     "output_type": "execute_result"
    }
   ],
   "source": [
    "⌊∘⌽∘⊖⍨(∘.⌊⍨∘⍳0⌈¯1+×∘2)"
   ]
  },
  {
   "cell_type": "code",
   "execution_count": 456,
   "id": "461c9635",
   "metadata": {},
   "outputs": [
    {
     "data": {
      "text/html": [
       "<span style=\"white-space:pre; font-family: monospace\">┌→────────┐\n",
       "↓1 1 1 1 1│\n",
       "│1 2 2 2 1│\n",
       "│1 2 3 2 1│\n",
       "│1 2 2 2 1│\n",
       "│1 1 1 1 1│\n",
       "└~────────┘\n",
       "</span>"
      ]
     },
     "execution_count": 456,
     "metadata": {},
     "output_type": "execute_result"
    }
   ],
   "source": [
    "{⌊∘⌽∘⊖⍨∘.⌊⍨⍳0⌈¯1+2×⍵} 3"
   ]
  },
  {
   "cell_type": "code",
   "execution_count": 476,
   "id": "050f2681",
   "metadata": {},
   "outputs": [
    {
     "data": {
      "text/html": [
       "<span style=\"white-space:pre; font-family: monospace\">┌→──────────────────────────────────────────────────────────────┐\n",
       "↓  e X → 8.2E¯6 |    0% ⎕⎕⎕⎕⎕⎕⎕                                 │\n",
       "│  f X → 1.0E¯5 |  +24% ⎕⎕⎕⎕⎕⎕⎕⎕⎕                               │\n",
       "│  g X → 3.0E¯5 | +265% ⎕⎕⎕⎕⎕⎕⎕⎕⎕⎕⎕⎕⎕⎕⎕⎕⎕⎕⎕⎕⎕⎕⎕⎕⎕⎕⎕             │\n",
       "│  h X → 4.3E¯5 | +419% ⎕⎕⎕⎕⎕⎕⎕⎕⎕⎕⎕⎕⎕⎕⎕⎕⎕⎕⎕⎕⎕⎕⎕⎕⎕⎕⎕⎕⎕⎕⎕⎕⎕⎕⎕⎕⎕⎕  │\n",
       "│  i X → 4.5E¯5 | +444% ⎕⎕⎕⎕⎕⎕⎕⎕⎕⎕⎕⎕⎕⎕⎕⎕⎕⎕⎕⎕⎕⎕⎕⎕⎕⎕⎕⎕⎕⎕⎕⎕⎕⎕⎕⎕⎕⎕⎕⎕│\n",
       "└───────────────────────────────────────────────────────────────┘\n",
       "</span>"
      ]
     },
     "execution_count": 476,
     "metadata": {},
     "output_type": "execute_result"
    }
   ],
   "source": [
    "X ← 100\n",
    "\n",
    "e←{∘.⌊⍨(⍳⍵),1↓⌽⍳⍵}\n",
    "f←∘.⌊⍨⍳,1↓⌽∘⍳\n",
    "g←{(a,1↓⍤1⌽a)⍪1↓(⊖a),1↓⍤1⌽⊖a←(⍳⍵)∘.⌊⍳⍵}\n",
    "h←⌊∘⌽∘⊖⍨(∘.⌊⍨∘⍳0⌈¯1+×∘2)\n",
    "i←{⌊∘⌽∘⊖⍨∘.⌊⍨⍳0⌈¯1+2×⍵}\n",
    "\n",
    "cmpx 'e X' 'f X' 'g X' 'h X' 'i X'"
   ]
  },
  {
   "cell_type": "markdown",
   "id": "dc3db533",
   "metadata": {},
   "source": [
    "## 7: [Just Golfing Around](https://contest.dyalog.com/?goto=P17)\n",
    "\n",
    "Apologies to the code golfers out there, but this problem has nothing to do with [code golf](https://aplwiki.com/wiki/Code_golf)! Instead, it addresses the problem of assigning places in a golf tournament. In regular golf, lower scores place higher – the lowest score places first and the highest score places last.\n",
    "\n",
    "Write a function that:\n",
    "- takes a right argument that is a non-decreasing vector or scalar of strictly positive integers, representing a set of scores.\n",
    "- returns a numeric vector of the place for each score; for duplicate scores, it returns the average of the places they hold.\n",
    "\n",
    "**Hint:** This problem has several viable approaches including using key [f⌸](https://help.dyalog.com/latest/#Language/Primitive%20Operators/Key.htm), or partition [X⊆Y](https://help.dyalog.com/latest/#Language/Primitive%20Functions/Partition.htm), or interval index [X⍸Y](https://help.dyalog.com/latest/#Language/Primitive%20Functions/Interval%20Index.htm).\n",
    "\n",
    "**Examples**\n",
    "\n",
    "      (your_function) 1 2 3 4 5\n",
    "1 2 3 4 5\n",
    "      \n",
    "      (your_function) 68 71 71 73\n",
    "1 2.5 2.5 4\n",
    "\n",
    "      (your_function) 67 68 68 69 70 70 70 71 72\n",
    "1 2.5 2.5 4 6 6 6 8 9\n",
    "\n",
    "      (your_function) 6⍴70\n",
    "3.5 3.5 3.5 3.5 3.5 3.5\n",
    "\n",
    "      (your_function) ⍬ ⍝ this should return an empty vector\n",
    "\n",
    "      (your_function) 67 ⍝ should work with a scalar argument\n",
    "1"
   ]
  },
  {
   "cell_type": "markdown",
   "id": "846f9d7d",
   "metadata": {},
   "source": [
    "### Interval index"
   ]
  },
  {
   "cell_type": "code",
   "execution_count": 247,
   "id": "79635e1f",
   "metadata": {},
   "outputs": [
    {
     "data": {
      "text/html": [
       "<span style=\"white-space:pre; font-family: monospace\">┌→────────────────────┐\n",
       "│1 2.5 2.5 4 6 6 6 8 9│\n",
       "└~────────────────────┘\n",
       "</span>"
      ]
     },
     "execution_count": 247,
     "metadata": {},
     "output_type": "execute_result"
    }
   ],
   "source": [
    "(2÷⍨⍳+⍸)⍨, X"
   ]
  },
  {
   "cell_type": "code",
   "execution_count": 479,
   "id": "ce327c9f",
   "metadata": {},
   "outputs": [
    {
     "data": {
      "text/html": [
       "<span style=\"white-space:pre; font-family: monospace\">┌→────────────────┐\n",
       "│1 2 2 4 5 5 5 8 9│\n",
       "└~────────────────┘\n",
       "</span>"
      ]
     },
     "execution_count": 479,
     "metadata": {},
     "output_type": "execute_result"
    }
   ],
   "source": [
    "X ⍳ X ⍝ index of: first position of each group"
   ]
  },
  {
   "cell_type": "code",
   "execution_count": 480,
   "id": "8db9d166",
   "metadata": {},
   "outputs": [
    {
     "data": {
      "text/html": [
       "<span style=\"white-space:pre; font-family: monospace\">┌→────────────────┐\n",
       "│1 3 3 4 7 7 7 8 9│\n",
       "└~────────────────┘\n",
       "</span>"
      ]
     },
     "execution_count": 480,
     "metadata": {},
     "output_type": "execute_result"
    }
   ],
   "source": [
    "X ⍸ X ⍝ index interval: the input is ordered so gives the index of the final element in the group"
   ]
  },
  {
   "cell_type": "code",
   "execution_count": 482,
   "id": "16d4cf4e",
   "metadata": {},
   "outputs": [
    {
     "data": {
      "text/html": [
       "<span style=\"white-space:pre; font-family: monospace\">┌→────────────────────┐\n",
       "│1 2.5 2.5 4 6 6 6 8 9│\n",
       "└~────────────────────┘\n",
       "</span>"
      ]
     },
     "execution_count": 482,
     "metadata": {},
     "output_type": "execute_result"
    }
   ],
   "source": [
    "(X (⍳+⍸) X) ÷ 2 ⍝ the solution is the average of the two vectors"
   ]
  },
  {
   "cell_type": "code",
   "execution_count": 483,
   "id": "b31167ca",
   "metadata": {},
   "outputs": [
    {
     "data": {
      "text/html": [
       "<span style=\"white-space:pre; font-family: monospace\">┌→────────────────────┐\n",
       "│1 2.5 2.5 4 6 6 6 8 9│\n",
       "└~────────────────────┘\n",
       "</span>"
      ]
     },
     "execution_count": 483,
     "metadata": {},
     "output_type": "execute_result"
    }
   ],
   "source": [
    "2÷⍨(⍳+⍸)⍨,X"
   ]
  },
  {
   "cell_type": "code",
   "execution_count": 484,
   "id": "e8939e26",
   "metadata": {},
   "outputs": [
    {
     "data": {
      "text/html": [
       "<span style=\"white-space:pre; font-family: monospace\">┌→────────────────────┐\n",
       "│1 2.5 2.5 4 6 6 6 8 9│\n",
       "└~────────────────────┘\n",
       "</span>"
      ]
     },
     "execution_count": 484,
     "metadata": {},
     "output_type": "execute_result"
    }
   ],
   "source": [
    "{2÷⍨((,⍵)⍳,⍵)+(,⍵)⍸,⍵} X"
   ]
  },
  {
   "cell_type": "markdown",
   "id": "48497d84",
   "metadata": {},
   "source": [
    "### Partition"
   ]
  },
  {
   "cell_type": "code",
   "execution_count": 601,
   "id": "87b42abb",
   "metadata": {},
   "outputs": [
    {
     "data": {
      "text/html": [
       "<span style=\"white-space:pre; font-family: monospace\">┌→──────────────────────────────┐\n",
       "│ ┌→┐ ┌→──┐ ┌→┐ ┌→────┐ ┌→┐ ┌→┐ │\n",
       "│ │1│ │2 3│ │4│ │5 6 7│ │8│ │9│ │\n",
       "│ └~┘ └~──┘ └~┘ └~────┘ └~┘ └~┘ │\n",
       "└∊──────────────────────────────┘\n",
       "</span>"
      ]
     },
     "execution_count": 601,
     "metadata": {},
     "output_type": "execute_result"
    }
   ],
   "source": [
    "(⍳⍨⍥,⊆⍳∘≢) X"
   ]
  },
  {
   "cell_type": "code",
   "execution_count": 603,
   "id": "fe151ac5",
   "metadata": {},
   "outputs": [
    {
     "data": {
      "text/html": [
       "<span style=\"white-space:pre; font-family: monospace\">┌→────────────┐\n",
       "│1 2.5 4 6 8 9│\n",
       "└~────────────┘\n",
       "</span>"
      ]
     },
     "execution_count": 603,
     "metadata": {},
     "output_type": "execute_result"
    }
   ],
   "source": [
    "(+⌿÷≢)¨(⍳⍨⍥,⊆⍳∘≢) X"
   ]
  },
  {
   "cell_type": "code",
   "execution_count": 606,
   "id": "d175bbba",
   "metadata": {},
   "outputs": [
    {
     "data": {
      "text/html": [
       "<span style=\"white-space:pre; font-family: monospace\">┌→──────────────────────────────────┐\n",
       "│ ┌→┐ ┌→──────┐ ┌→┐ ┌→────┐ ┌→┐ ┌→┐ │\n",
       "│ │1│ │2.5 2.5│ │4│ │6 6 6│ │8│ │9│ │\n",
       "│ └~┘ └~──────┘ └~┘ └~────┘ └~┘ └~┘ │\n",
       "└∊──────────────────────────────────┘\n",
       "</span>"
      ]
     },
     "execution_count": 606,
     "metadata": {},
     "output_type": "execute_result"
    }
   ],
   "source": [
    "((≢⊢⍤/+⌿÷≢)¨⍳⍨⍥,⊆⍳∘≢) X"
   ]
  },
  {
   "cell_type": "code",
   "execution_count": 607,
   "id": "1a415e4a",
   "metadata": {},
   "outputs": [
    {
     "data": {
      "text/html": [
       "<span style=\"white-space:pre; font-family: monospace\">┌→────────────────────┐\n",
       "│1 2.5 2.5 4 6 6 6 8 9│\n",
       "└~────────────────────┘\n",
       "</span>"
      ]
     },
     "execution_count": 607,
     "metadata": {},
     "output_type": "execute_result"
    }
   ],
   "source": [
    "∊((≢⊢⍤/+⌿÷≢)¨⍳⍨⍥,⊆⍳∘≢) X"
   ]
  },
  {
   "cell_type": "code",
   "execution_count": 608,
   "id": "bc8f2a05",
   "metadata": {},
   "outputs": [
    {
     "data": {
      "text/html": [
       "<span style=\"white-space:pre; font-family: monospace\">  ┌───┴────┐          \n",
       "  ∊ ┌──────┴──────┐   \n",
       "    ¨           ┌─┼─┐ \n",
       "  ┌─┘           ⍥ ⊆ ∘ \n",
       "┌─┼──────┐     ┌┴┐ ┌┴┐\n",
       "≢ ⍤    ┌─┼─┐   ⍨ , ⍳ ≢\n",
       " ┌┴┐   ⌿ ÷ ≢ ┌─┘      \n",
       " ⊢ / ┌─┘     ⍳        \n",
       "     +                \n",
       "</span>"
      ]
     },
     "execution_count": 608,
     "metadata": {},
     "output_type": "execute_result"
    }
   ],
   "source": [
    "∊((≢⊢⍤/+⌿÷≢)¨⍳⍨⍥,⊆⍳∘≢) "
   ]
  },
  {
   "cell_type": "code",
   "execution_count": 611,
   "id": "faa76899",
   "metadata": {},
   "outputs": [
    {
     "data": {
      "text/html": [
       "<span style=\"white-space:pre; font-family: monospace\">┌→────────────────┐\n",
       "│1 2 2 4 5 5 5 8 9│\n",
       "└~────────────────┘\n",
       "</span>"
      ]
     },
     "execution_count": 611,
     "metadata": {},
     "output_type": "execute_result"
    }
   ],
   "source": [
    "{(,⍵)⍳⍵} X"
   ]
  },
  {
   "cell_type": "code",
   "execution_count": 612,
   "id": "2954de78",
   "metadata": {},
   "outputs": [
    {
     "data": {
      "text/html": [
       "<span style=\"white-space:pre; font-family: monospace\">┌→────────────────┐\n",
       "│1 2 3 4 5 6 7 8 9│\n",
       "└~────────────────┘\n",
       "</span>"
      ]
     },
     "execution_count": 612,
     "metadata": {},
     "output_type": "execute_result"
    }
   ],
   "source": [
    "{⍳⍴,⍵} X"
   ]
  },
  {
   "cell_type": "code",
   "execution_count": 613,
   "id": "48fb2925",
   "metadata": {},
   "outputs": [
    {
     "data": {
      "text/html": [
       "<span style=\"white-space:pre; font-family: monospace\">┌→────────────────┐\n",
       "│1 1 0 1 1 0 0 1 1│\n",
       "└~────────────────┘\n",
       "</span>"
      ]
     },
     "execution_count": 613,
     "metadata": {},
     "output_type": "execute_result"
    }
   ],
   "source": [
    "{(⍳⍴,⍵)=(,⍵)⍳⍵} X"
   ]
  },
  {
   "cell_type": "code",
   "execution_count": 615,
   "id": "400e9be3",
   "metadata": {},
   "outputs": [
    {
     "data": {
      "text/html": [
       "<span style=\"white-space:pre; font-family: monospace\">┌→──────────────────────────────┐\n",
       "│ ┌→┐ ┌→──┐ ┌→┐ ┌→────┐ ┌→┐ ┌→┐ │\n",
       "│ │1│ │2 3│ │4│ │5 6 7│ │8│ │9│ │\n",
       "│ └~┘ └~──┘ └~┘ └~────┘ └~┘ └~┘ │\n",
       "└∊──────────────────────────────┘\n",
       "</span>"
      ]
     },
     "execution_count": 615,
     "metadata": {},
     "output_type": "execute_result"
    }
   ],
   "source": [
    "((⍳⍴,X)=(,X)⍳X) ⊂ ⍳⍴,X"
   ]
  },
  {
   "cell_type": "code",
   "execution_count": 609,
   "id": "e927bc9a",
   "metadata": {},
   "outputs": [
    {
     "data": {
      "text/html": [
       "<span style=\"white-space:pre; font-family: monospace\">┌→──────────────────────────────┐\n",
       "│ ┌→┐ ┌→──┐ ┌→┐ ┌→────┐ ┌→┐ ┌→┐ │\n",
       "│ │1│ │2 3│ │4│ │5 6 7│ │8│ │9│ │\n",
       "│ └~┘ └~──┘ └~┘ └~────┘ └~┘ └~┘ │\n",
       "└∊──────────────────────────────┘\n",
       "</span>"
      ]
     },
     "execution_count": 609,
     "metadata": {},
     "output_type": "execute_result"
    }
   ],
   "source": [
    "{(⍳⍴,⍵)⊂⍨(⍳⍴,⍵)=(,⍵)⍳⍵} X"
   ]
  },
  {
   "cell_type": "code",
   "execution_count": 543,
   "id": "ce93843d",
   "metadata": {},
   "outputs": [
    {
     "data": {
      "text/html": [
       "<span style=\"white-space:pre; font-family: monospace\">┌→────────────────────┐\n",
       "│1 2.5 2.5 4 6 6 6 8 9│\n",
       "└~────────────────────┘\n",
       "</span>"
      ]
     },
     "execution_count": 543,
     "metadata": {},
     "output_type": "execute_result"
    }
   ],
   "source": [
    "{∊((≢⊢⍤/+⌿)÷≢)¨(⍳⍴,⍵)⊂⍨(⍳⍴,⍵)=(,⍵)⍳⍵} X"
   ]
  },
  {
   "cell_type": "markdown",
   "id": "e0dc3130",
   "metadata": {},
   "source": [
    "### Key"
   ]
  },
  {
   "cell_type": "code",
   "execution_count": 593,
   "id": "3885cbc3",
   "metadata": {},
   "outputs": [
    {
     "data": {
      "text/html": [
       "<span style=\"white-space:pre; font-family: monospace\">┌→────┐\n",
       "↓1 0 0│\n",
       "│2 3 0│\n",
       "│4 0 0│\n",
       "│5 6 7│\n",
       "│8 0 0│\n",
       "│9 0 0│\n",
       "└~────┘\n",
       "</span>"
      ]
     },
     "execution_count": 593,
     "metadata": {},
     "output_type": "execute_result"
    }
   ],
   "source": [
    "{⊢⌸,⍵} X ⍝ f"
   ]
  },
  {
   "cell_type": "code",
   "execution_count": 594,
   "id": "031ef58b",
   "metadata": {},
   "outputs": [
    {
     "data": {
      "text/html": [
       "<span style=\"white-space:pre; font-family: monospace\">┌→────┐\n",
       "↓1 0 0│\n",
       "│1 1 0│\n",
       "│1 0 0│\n",
       "│1 1 1│\n",
       "│1 0 0│\n",
       "│1 0 0│\n",
       "└~────┘\n",
       "</span>"
      ]
     },
     "execution_count": 594,
     "metadata": {},
     "output_type": "execute_result"
    }
   ],
   "source": [
    "⊢m←{0≠f←⊢⌸,⍵} X"
   ]
  },
  {
   "cell_type": "code",
   "execution_count": 595,
   "id": "dd007006",
   "metadata": {},
   "outputs": [
    {
     "data": {
      "text/html": [
       "<span style=\"white-space:pre; font-family: monospace\">┌→──────────┐\n",
       "│1 2 1 3 1 1│\n",
       "└~──────────┘\n",
       "</span>"
      ]
     },
     "execution_count": 595,
     "metadata": {},
     "output_type": "execute_result"
    }
   ],
   "source": [
    "{(+/)m←0≠f←⊢⌸,⍵} X "
   ]
  },
  {
   "cell_type": "code",
   "execution_count": 596,
   "id": "9b27f3f2",
   "metadata": {},
   "outputs": [
    {
     "data": {
      "text/html": [
       "<span style=\"white-space:pre; font-family: monospace\">┌→────────────┐\n",
       "│1 2.5 4 6 8 9│\n",
       "└~────────────┘\n",
       "</span>"
      ]
     },
     "execution_count": 596,
     "metadata": {},
     "output_type": "execute_result"
    }
   ],
   "source": [
    "{f÷⍥(+/)m←0≠f←⊢⌸,⍵} X "
   ]
  },
  {
   "cell_type": "code",
   "execution_count": 597,
   "id": "1dabb765",
   "metadata": {},
   "outputs": [
    {
     "data": {
      "text/html": [
       "<span style=\"white-space:pre; font-family: monospace\">┌→──────────┐\n",
       "│1 2 1 3 1 1│\n",
       "└~──────────┘\n",
       "</span>"
      ]
     },
     "execution_count": 597,
     "metadata": {},
     "output_type": "execute_result"
    }
   ],
   "source": [
    "(+/m)"
   ]
  },
  {
   "cell_type": "code",
   "execution_count": 599,
   "id": "66693d5a",
   "metadata": {},
   "outputs": [
    {
     "data": {
      "text/html": [
       "<span style=\"white-space:pre; font-family: monospace\">┌→────────────────────┐\n",
       "│1 2.5 2.5 4 6 6 6 8 9│\n",
       "└~────────────────────┘\n",
       "</span>"
      ]
     },
     "execution_count": 599,
     "metadata": {},
     "output_type": "execute_result"
    }
   ],
   "source": [
    "{(+/m)/f÷⍥(+/)m←0≠f←⊢⌸,⍵} X"
   ]
  },
  {
   "cell_type": "code",
   "execution_count": 547,
   "id": "4f224cf0",
   "metadata": {},
   "outputs": [
    {
     "data": {
      "text/html": [
       "<span style=\"white-space:pre; font-family: monospace\">┌→──────────────────────────────────────────────────────────────┐\n",
       "↓  e X → 8.6E¯7 |    0% ⎕⎕⎕⎕                                    │\n",
       "│  f X → 1.2E¯6 |  +36% ⎕⎕⎕⎕⎕                                   │\n",
       "│  g X → 4.1E¯6 | +380% ⎕⎕⎕⎕⎕⎕⎕⎕⎕⎕⎕⎕⎕⎕⎕⎕⎕⎕⎕                     │\n",
       "│  h X → 4.9E¯6 | +470% ⎕⎕⎕⎕⎕⎕⎕⎕⎕⎕⎕⎕⎕⎕⎕⎕⎕⎕⎕⎕⎕⎕                  │\n",
       "│  i X → 5.2E¯6 | +508% ⎕⎕⎕⎕⎕⎕⎕⎕⎕⎕⎕⎕⎕⎕⎕⎕⎕⎕⎕⎕⎕⎕⎕⎕                │\n",
       "│  j X → 8.9E¯6 | +931% ⎕⎕⎕⎕⎕⎕⎕⎕⎕⎕⎕⎕⎕⎕⎕⎕⎕⎕⎕⎕⎕⎕⎕⎕⎕⎕⎕⎕⎕⎕⎕⎕⎕⎕⎕⎕⎕⎕⎕⎕│\n",
       "└───────────────────────────────────────────────────────────────┘\n",
       "</span>"
      ]
     },
     "execution_count": 547,
     "metadata": {},
     "output_type": "execute_result"
    }
   ],
   "source": [
    "X ← 67 68 68 69 70 70 70 71 72\n",
    "\n",
    "e←(2÷⍨⍳+⍸)⍨,\n",
    "f←{2÷⍨((,⍵)⍳,⍵)+(,⍵)⍸,⍵}\n",
    "g←∊((≢⊢⍤/+⌿÷≢)¨⍳⍨⍥,⊆⍳∘≢)\n",
    "h←{∊((≢⊢⍤/+⌿)÷≢)¨((,⍵)⍳,⍵)⊆⍳≢⍵}\n",
    "i←{∊((≢⊢⍤/+⌿)÷≢)¨(⍳⍴,⍵)⊂⍨(⍳⍴,⍵)=(,⍵)⍳⍵}\n",
    "j←{(+/m)/f÷⍥(+/)m←0≠f←⊢⌸,⍵}\n",
    "\n",
    "cmpx 'e X' 'f X' 'g X' 'h X' 'i X' 'j X'"
   ]
  },
  {
   "cell_type": "markdown",
   "id": "9d64ee8f",
   "metadata": {},
   "source": [
    "## 8: [Let's Split](https://contest.dyalog.com/?goto=P18)!\n",
    "\n",
    "Write a function that:\n",
    "- takes a right argument that is a non-empty character vector or scalar.\n",
    "- takes a left argument that is a non-empty character vector or scalar.\n",
    "- returns a 2-element vector of character vectors in which the right argument is split immediately before the first occurence of any element in the left argument. If no left-argument element occurs in the right argument, then the split should happen after the last element of the right argument.\n",
    "\n",
    "**Hint:** The _take_ [X↑Y](https://help.dyalog.com/latest/#Language/Primitive%20Functions/Take.htm) and _drop_ [X↓Y](https://help.dyalog.com/latest/#Language/Primitive%20Functions/Drop.htm) functions, or the _partitioned enclose_ function [X⊂Y](https://help.dyalog.com/latest/#Language/Primitive%20Functions/Partitioned%20Enclose.htm), could be helpful.\n",
    "\n",
    "**Examples**\n",
    "\n",
    "      'do' (your_function) 'Hello World'\n",
    "```\n",
    "┌────┬───────┐\n",
    "│Hell│o World│\n",
    "└────┴───────┘\n",
    "```\n",
    "\n",
    "      'KEI' (your_function) ⎕A ⍝ ⎕A is the system constant that contains the characters A-Z \n",
    "```      \n",
    "┌────┬──────────────────────┐\n",
    "│ABCD│EFGHIJKLMNOPQRSTUVWXYZ│\n",
    "└────┴──────────────────────┘\n",
    "```\n",
    "\n",
    "      (⌽⎕A) (your_function) ⎕A\n",
    "```\n",
    "┌┬──────────────────────────┐\n",
    "││ABCDEFGHIJKLMNOPQRSTUVWXYZ│\n",
    "└┴──────────────────────────┘\n",
    "```\n",
    "\n",
    "      ⎕D (your_function) ⎕A ⍝ ⎕D is the system constant that contains the characters 0-9 \n",
    "```      \n",
    "┌──────────────────────────┬┐\n",
    "│ABCDEFGHIJKLMNOPQRSTUVWXYZ││\n",
    "└──────────────────────────┴┘\n",
    "```\n",
    "      ⎕D (your_function) 'Q'\n",
    "```\n",
    "┌─┬┐\n",
    "│Q││\n",
    "└─┴┘\n",
    "```\n",
    "      ⎕A (your_function) 'Q'\n",
    "```\n",
    "┌┬─┐\n",
    "││Q│\n",
    "└┴─┘\n",
    "```"
   ]
  },
  {
   "cell_type": "code",
   "execution_count": 173,
   "id": "69e25700",
   "metadata": {},
   "outputs": [],
   "source": [
    "Y←'KEI'\n",
    "X←⎕A"
   ]
  },
  {
   "cell_type": "markdown",
   "id": "2745257b",
   "metadata": {},
   "source": [
    "#### Solution `{(a↑⍵)((a←¯1+1⍳⍨⍺∊⍨,⍵)↓⍵)}`"
   ]
  },
  {
   "cell_type": "code",
   "execution_count": 174,
   "id": "f45744af",
   "metadata": {},
   "outputs": [
    {
     "data": {
      "text/html": [
       "<span style=\"white-space:pre; font-family: monospace\">┌→──────────────────────────────────────────────────┐\n",
       "│0 0 0 0 1 0 0 0 1 0 1 0 0 0 0 0 0 0 0 0 0 0 0 0 0 0│\n",
       "└~──────────────────────────────────────────────────┘\n",
       "</span>"
      ]
     },
     "execution_count": 174,
     "metadata": {},
     "output_type": "execute_result"
    }
   ],
   "source": [
    "(,X)∊Y ⍝ ravel membership"
   ]
  },
  {
   "cell_type": "code",
   "execution_count": 175,
   "id": "5d577a52",
   "metadata": {},
   "outputs": [
    {
     "data": {
      "text/html": [
       "<span style=\"white-space:pre; font-family: monospace\"> \n",
       "5\n",
       " \n",
       "</span>"
      ]
     },
     "execution_count": 175,
     "metadata": {},
     "output_type": "execute_result"
    }
   ],
   "source": [
    "((,X)∊Y)⍳1 ⍝ ravel membership index of first occurrence"
   ]
  },
  {
   "cell_type": "code",
   "execution_count": 176,
   "id": "e0570210",
   "metadata": {},
   "outputs": [
    {
     "data": {
      "text/html": [
       "<span style=\"white-space:pre; font-family: monospace\"> \n",
       "4\n",
       " \n",
       "</span>"
      ]
     },
     "execution_count": 176,
     "metadata": {},
     "output_type": "execute_result"
    }
   ],
   "source": [
    "⊢a←¯1+((,X)∊Y)⍳1 ⍝ add minus 1"
   ]
  },
  {
   "cell_type": "code",
   "execution_count": 177,
   "id": "556d84ec",
   "metadata": {},
   "outputs": [
    {
     "data": {
      "text/html": [
       "<span style=\"white-space:pre; font-family: monospace\">┌→─────────────────────┐\n",
       "│EFGHIJKLMNOPQRSTUVWXYZ│\n",
       "└──────────────────────┘\n",
       "</span>"
      ]
     },
     "execution_count": 177,
     "metadata": {},
     "output_type": "execute_result"
    }
   ],
   "source": [
    "a↓X ⍝ drop"
   ]
  },
  {
   "cell_type": "code",
   "execution_count": 178,
   "id": "269cf350",
   "metadata": {},
   "outputs": [
    {
     "data": {
      "text/html": [
       "<span style=\"white-space:pre; font-family: monospace\">┌→───┐\n",
       "│ABCD│\n",
       "└────┘\n",
       "</span>"
      ]
     },
     "execution_count": 178,
     "metadata": {},
     "output_type": "execute_result"
    }
   ],
   "source": [
    "a↑X ⍝ take"
   ]
  },
  {
   "cell_type": "code",
   "execution_count": 179,
   "id": "6f8cfcba",
   "metadata": {},
   "outputs": [
    {
     "data": {
      "text/html": [
       "<span style=\"white-space:pre; font-family: monospace\">┌→────────────────────────────────┐\n",
       "│ ┌→───┐ ┌→─────────────────────┐ │\n",
       "│ │ABCD│ │EFGHIJKLMNOPQRSTUVWXYZ│ │\n",
       "│ └────┘ └──────────────────────┘ │\n",
       "└∊────────────────────────────────┘\n",
       "</span>"
      ]
     },
     "execution_count": 179,
     "metadata": {},
     "output_type": "execute_result"
    }
   ],
   "source": [
    "(a↑X)(a↓X) "
   ]
  },
  {
   "cell_type": "code",
   "execution_count": 180,
   "id": "7fe95cd2",
   "metadata": {},
   "outputs": [
    {
     "data": {
      "text/html": [
       "<span style=\"white-space:pre; font-family: monospace\">┌→────────────────────────────────┐\n",
       "│ ┌→───┐ ┌→─────────────────────┐ │\n",
       "│ │ABCD│ │EFGHIJKLMNOPQRSTUVWXYZ│ │\n",
       "│ └────┘ └──────────────────────┘ │\n",
       "└∊────────────────────────────────┘\n",
       "</span>"
      ]
     },
     "execution_count": 180,
     "metadata": {},
     "output_type": "execute_result"
    }
   ],
   "source": [
    "Y {(a↑⍵)((a←¯1+1⍳⍨⍺∊⍨,⍵)↓⍵)} X"
   ]
  },
  {
   "cell_type": "markdown",
   "id": "5fee44e0",
   "metadata": {},
   "source": [
    "#### Solution `{/∘⍵¨0 1=⊂∨\\⍵∊⍺}`"
   ]
  },
  {
   "cell_type": "code",
   "execution_count": 26,
   "id": "4e1ad109",
   "metadata": {},
   "outputs": [
    {
     "data": {
      "text/html": [
       "<span style=\"white-space:pre; font-family: monospace\">┌→──────────────────────────────────────────────────┐\n",
       "│0 0 0 0 1 0 0 0 1 0 1 0 0 0 0 0 0 0 0 0 0 0 0 0 0 0│\n",
       "└~──────────────────────────────────────────────────┘\n",
       "</span>"
      ]
     },
     "execution_count": 26,
     "metadata": {},
     "output_type": "execute_result"
    }
   ],
   "source": [
    "X∊Y ⍝ membership"
   ]
  },
  {
   "cell_type": "code",
   "execution_count": 28,
   "id": "e4a4b015",
   "metadata": {},
   "outputs": [
    {
     "data": {
      "text/html": [
       "<span style=\"white-space:pre; font-family: monospace\">┌→──────────────────────────────────────────────────┐\n",
       "│0 0 0 0 1 1 1 1 1 1 1 1 1 1 1 1 1 1 1 1 1 1 1 1 1 1│\n",
       "└~──────────────────────────────────────────────────┘\n",
       "</span>"
      ]
     },
     "execution_count": 28,
     "metadata": {},
     "output_type": "execute_result"
    }
   ],
   "source": [
    "∨\\X∊Y ⍝ logical OR scan"
   ]
  },
  {
   "cell_type": "code",
   "execution_count": 29,
   "id": "371f157f",
   "metadata": {},
   "outputs": [
    {
     "data": {
      "text/html": [
       "<span style=\"white-space:pre; font-family: monospace\">┌───────────────────────────────────────────────────────┐\n",
       "│ ┌→──────────────────────────────────────────────────┐ │\n",
       "│ │0 0 0 0 1 1 1 1 1 1 1 1 1 1 1 1 1 1 1 1 1 1 1 1 1 1│ │\n",
       "│ └~──────────────────────────────────────────────────┘ │\n",
       "└∊──────────────────────────────────────────────────────┘\n",
       "</span>"
      ]
     },
     "execution_count": 29,
     "metadata": {},
     "output_type": "execute_result"
    }
   ],
   "source": [
    "⊂∨\\X∊Y ⍝ partitioned enclose"
   ]
  },
  {
   "cell_type": "code",
   "execution_count": 30,
   "id": "2fb07f3a",
   "metadata": {},
   "outputs": [
    {
     "data": {
      "text/html": [
       "<span style=\"white-space:pre; font-family: monospace\">┌→────────────────────────────────────────────────────────────────────────────────────────────────────────────┐\n",
       "│ ┌→──────────────────────────────────────────────────┐ ┌→──────────────────────────────────────────────────┐ │\n",
       "│ │1 1 1 1 0 0 0 0 0 0 0 0 0 0 0 0 0 0 0 0 0 0 0 0 0 0│ │0 0 0 0 1 1 1 1 1 1 1 1 1 1 1 1 1 1 1 1 1 1 1 1 1 1│ │\n",
       "│ └~──────────────────────────────────────────────────┘ └~──────────────────────────────────────────────────┘ │\n",
       "└∊────────────────────────────────────────────────────────────────────────────────────────────────────────────┘\n",
       "</span>"
      ]
     },
     "execution_count": 30,
     "metadata": {},
     "output_type": "execute_result"
    }
   ],
   "source": [
    "0 1=⊂∨\\X∊Y ⍝ equal to 0 or 1"
   ]
  },
  {
   "cell_type": "code",
   "execution_count": 659,
   "id": "7c0e4a70",
   "metadata": {},
   "outputs": [
    {
     "data": {
      "text/html": [
       "<span style=\"white-space:pre; font-family: monospace\">┌→────────────────────────────────┐\n",
       "│ ┌→───┐ ┌→─────────────────────┐ │\n",
       "│ │ABCD│ │EFGHIJKLMNOPQRSTUVWXYZ│ │\n",
       "│ └────┘ └──────────────────────┘ │\n",
       "└∊────────────────────────────────┘\n",
       "</span>"
      ]
     },
     "execution_count": 659,
     "metadata": {},
     "output_type": "execute_result"
    }
   ],
   "source": [
    "/∘X¨0 1=⊂∨\\X∊Y ⍝ reduce X"
   ]
  },
  {
   "cell_type": "code",
   "execution_count": 31,
   "id": "9d6526dc",
   "metadata": {},
   "outputs": [
    {
     "data": {
      "text/html": [
       "<span style=\"white-space:pre; font-family: monospace\">┌→────────────────────────────────┐\n",
       "│ ┌→───┐ ┌→─────────────────────┐ │\n",
       "│ │ABCD│ │EFGHIJKLMNOPQRSTUVWXYZ│ │\n",
       "│ └────┘ └──────────────────────┘ │\n",
       "└∊────────────────────────────────┘\n",
       "</span>"
      ]
     },
     "execution_count": 31,
     "metadata": {},
     "output_type": "execute_result"
    }
   ],
   "source": [
    "Y {/∘⍵¨0 1=⊂∨\\⍵∊⍺} X"
   ]
  },
  {
   "cell_type": "markdown",
   "id": "94de706b",
   "metadata": {},
   "source": [
    "#### Solution `{(¯1+⌊/⍺⍳⍨,⍵)(↑,⍥⊂↓)⍵}`"
   ]
  },
  {
   "cell_type": "code",
   "execution_count": 71,
   "id": "9fd74920",
   "metadata": {},
   "outputs": [
    {
     "data": {
      "text/html": [
       "<span style=\"white-space:pre; font-family: monospace\">┌→─────┐\n",
       "│11 5 9│\n",
       "└~─────┘\n",
       "</span>"
      ]
     },
     "execution_count": 71,
     "metadata": {},
     "output_type": "execute_result"
    }
   ],
   "source": [
    "(,X)⍳Y ⍝ ravel index of"
   ]
  },
  {
   "cell_type": "code",
   "execution_count": 72,
   "id": "12a24e1d",
   "metadata": {},
   "outputs": [
    {
     "data": {
      "text/html": [
       "<span style=\"white-space:pre; font-family: monospace\"> \n",
       "5\n",
       " \n",
       "</span>"
      ]
     },
     "execution_count": 72,
     "metadata": {},
     "output_type": "execute_result"
    }
   ],
   "source": [
    "⌊/(,X)⍳Y ⍝ floor replicate ravel index of"
   ]
  },
  {
   "cell_type": "code",
   "execution_count": 73,
   "id": "ad2b8837",
   "metadata": {},
   "outputs": [
    {
     "data": {
      "text/html": [
       "<span style=\"white-space:pre; font-family: monospace\"> \n",
       "4\n",
       " \n",
       "</span>"
      ]
     },
     "execution_count": 73,
     "metadata": {},
     "output_type": "execute_result"
    }
   ],
   "source": [
    "¯1+⌊/(,X)⍳Y ⍝ add minus 1"
   ]
  },
  {
   "cell_type": "code",
   "execution_count": 74,
   "id": "a9ef7c6c",
   "metadata": {},
   "outputs": [
    {
     "data": {
      "text/html": [
       "<span style=\"white-space:pre; font-family: monospace\">┌→────────────────────────────────┐\n",
       "│ ┌→───┐ ┌→─────────────────────┐ │\n",
       "│ │ABCD│ │EFGHIJKLMNOPQRSTUVWXYZ│ │\n",
       "│ └────┘ └──────────────────────┘ │\n",
       "└∊────────────────────────────────┘\n",
       "</span>"
      ]
     },
     "execution_count": 74,
     "metadata": {},
     "output_type": "execute_result"
    }
   ],
   "source": [
    "(¯1+⌊/(,X)⍳Y)(↑,⍥⊂↓)X ⍝ drop catenate over partitioned enclose drop "
   ]
  },
  {
   "cell_type": "code",
   "execution_count": 75,
   "id": "9443f77b",
   "metadata": {
    "scrolled": true
   },
   "outputs": [
    {
     "data": {
      "text/html": [
       "<span style=\"white-space:pre; font-family: monospace\">┌→────────────────────────────────┐\n",
       "│ ┌→───┐ ┌→─────────────────────┐ │\n",
       "│ │ABCD│ │EFGHIJKLMNOPQRSTUVWXYZ│ │\n",
       "│ └────┘ └──────────────────────┘ │\n",
       "└∊────────────────────────────────┘\n",
       "</span>"
      ]
     },
     "execution_count": 75,
     "metadata": {},
     "output_type": "execute_result"
    }
   ],
   "source": [
    "Y {(¯1+⌊/⍺⍳⍨,⍵)(↑,⍥⊂↓)⍵} X ⍝ commute to avoid parentheses"
   ]
  },
  {
   "cell_type": "markdown",
   "id": "6e0884e8",
   "metadata": {},
   "source": [
    "#### Solution `{a←⍺(-∘1(⌊/⊣⍳⍨(⍬∘,⊢)))⍵⋄(a↑⍵)(a↓⍵)}`"
   ]
  },
  {
   "cell_type": "code",
   "execution_count": 201,
   "id": "1fc1e4c3",
   "metadata": {},
   "outputs": [
    {
     "data": {
      "text/html": [
       "<span style=\"white-space:pre; font-family: monospace\">┌→─────────────────────────┐\n",
       "│ABCDEFGHIJKLMNOPQRSTUVWXYZ│\n",
       "└──────────────────────────┘\n",
       "</span>"
      ]
     },
     "execution_count": 201,
     "metadata": {},
     "output_type": "execute_result"
    }
   ],
   "source": [
    "⍬∘,X ⍝ catenate empty set"
   ]
  },
  {
   "cell_type": "code",
   "execution_count": 202,
   "id": "057ca27e",
   "metadata": {},
   "outputs": [
    {
     "data": {
      "text/html": [
       "<span style=\"white-space:pre; font-family: monospace\">┌→─────┐\n",
       "│11 5 9│\n",
       "└~─────┘\n",
       "</span>"
      ]
     },
     "execution_count": 202,
     "metadata": {},
     "output_type": "execute_result"
    }
   ],
   "source": [
    "Y⍳⍨⍬∘,X ⍝ index of"
   ]
  },
  {
   "cell_type": "code",
   "execution_count": 203,
   "id": "6099fa42",
   "metadata": {},
   "outputs": [
    {
     "data": {
      "text/html": [
       "<span style=\"white-space:pre; font-family: monospace\"> \n",
       "5\n",
       " \n",
       "</span>"
      ]
     },
     "execution_count": 203,
     "metadata": {},
     "output_type": "execute_result"
    }
   ],
   "source": [
    "⌊/Y⍳⍨⍬∘,X ⍝ floor reduce"
   ]
  },
  {
   "cell_type": "code",
   "execution_count": 204,
   "id": "ed5173fe",
   "metadata": {},
   "outputs": [
    {
     "data": {
      "text/html": [
       "<span style=\"white-space:pre; font-family: monospace\"> \n",
       "4\n",
       " \n",
       "</span>"
      ]
     },
     "execution_count": 204,
     "metadata": {},
     "output_type": "execute_result"
    }
   ],
   "source": [
    "⊢a←Y(-∘1(⌊/⊣⍳⍨(⍬∘,⊢)))X ⍝ subtract 1"
   ]
  },
  {
   "cell_type": "code",
   "execution_count": 166,
   "id": "466d42b3",
   "metadata": {
    "scrolled": true
   },
   "outputs": [
    {
     "data": {
      "text/html": [
       "<span style=\"white-space:pre; font-family: monospace\">┌→────────────────────────────────┐\n",
       "│ ┌→───┐ ┌→─────────────────────┐ │\n",
       "│ │ABCD│ │EFGHIJKLMNOPQRSTUVWXYZ│ │\n",
       "│ └────┘ └──────────────────────┘ │\n",
       "└∊────────────────────────────────┘\n",
       "</span>"
      ]
     },
     "execution_count": 166,
     "metadata": {},
     "output_type": "execute_result"
    }
   ],
   "source": [
    "(a↑X)(a↓X)"
   ]
  },
  {
   "cell_type": "code",
   "execution_count": 191,
   "id": "ff73d0ed",
   "metadata": {},
   "outputs": [
    {
     "data": {
      "text/html": [
       "<span style=\"white-space:pre; font-family: monospace\"> \n",
       "4\n",
       " \n",
       "</span>"
      ]
     },
     "execution_count": 191,
     "metadata": {},
     "output_type": "execute_result"
    }
   ],
   "source": [
    "(¯1+⌊/Y⍳⍨(⍬∘,X))"
   ]
  },
  {
   "cell_type": "code",
   "execution_count": 197,
   "id": "b69aa452",
   "metadata": {},
   "outputs": [
    {
     "data": {
      "text/html": [
       "<span style=\"white-space:pre; font-family: monospace\">┌→─────────────────┐\n",
       "│ ┌→───┐ ┌→──────┐ │\n",
       "│ │Hell│ │o World│ │\n",
       "│ └────┘ └───────┘ │\n",
       "└∊─────────────────┘\n",
       "</span>"
      ]
     },
     "execution_count": 197,
     "metadata": {},
     "output_type": "execute_result"
    }
   ],
   "source": [
    "Y {a←⍺(-∘1(⌊/⊣⍳⍨(⍬∘,⊢)))⍵⋄(a↑⍵)(a↓⍵)}X"
   ]
  },
  {
   "cell_type": "code",
   "execution_count": 200,
   "id": "b75fcdbf",
   "metadata": {},
   "outputs": [
    {
     "data": {
      "text/html": [
       "<span style=\"white-space:pre; font-family: monospace\">┌→───────────────────────────────────────────────────────────────┐\n",
       "↓  Y e X → 1.3E¯6 |   0% ⎕⎕⎕⎕⎕⎕⎕⎕⎕⎕⎕⎕⎕⎕⎕⎕⎕⎕⎕⎕⎕                   │\n",
       "│  Y f X → 1.5E¯6 | +17% ⎕⎕⎕⎕⎕⎕⎕⎕⎕⎕⎕⎕⎕⎕⎕⎕⎕⎕⎕⎕⎕⎕⎕⎕⎕               │\n",
       "│  Y g X → 1.6E¯6 | +30% ⎕⎕⎕⎕⎕⎕⎕⎕⎕⎕⎕⎕⎕⎕⎕⎕⎕⎕⎕⎕⎕⎕⎕⎕⎕⎕⎕⎕            │\n",
       "│  Y h X → 2.4E¯6 | +88% ⎕⎕⎕⎕⎕⎕⎕⎕⎕⎕⎕⎕⎕⎕⎕⎕⎕⎕⎕⎕⎕⎕⎕⎕⎕⎕⎕⎕⎕⎕⎕⎕⎕⎕⎕⎕⎕⎕⎕⎕│\n",
       "└────────────────────────────────────────────────────────────────┘\n",
       "</span>"
      ]
     },
     "execution_count": 200,
     "metadata": {},
     "output_type": "execute_result"
    }
   ],
   "source": [
    "Y←'KEI'\n",
    "X←⎕A\n",
    "\n",
    "e←{(a↑⍵)((a←¯1+1⍳⍨⍺∊⍨,⍵)↓⍵)}\n",
    "f←{/∘⍵¨0 1=⊂∨\\⍵∊⍺}\n",
    "g←{(¯1+⌊/⍺⍳⍨,⍵)(↑,⍥⊂↓),⍵}\n",
    "h←{a←⍺(-∘1(⌊/⊣⍳⍨(⍬∘,⊢)))⍵⋄(a↑⍵)(a↓⍵)}\n",
    "\n",
    "cmpx 'Y e X' 'Y f X' 'Y g X' 'Y h X'"
   ]
  },
  {
   "cell_type": "markdown",
   "id": "438e3990",
   "metadata": {},
   "source": [
    "## 9: [An Average Window (or a Windowed Average)](https://contest.dyalog.com/?goto=P19)\n",
    "\n",
    "Write a function that:\n",
    "- takes a right argument Y that is a numeric scalar or non-empty vector.\n",
    "- takes a left argument X that represents the number of neighboring elements on either side of each element in Y.\n",
    "- returns a numeric vector or scalar where each element is the average (mean) of the corresponding element in Y and its X neighbors on either side. If an element has fewer than X neighbors on either side, replicate the first and last values as necessary to make X neighbors.\n",
    "\n",
    "**Hint:** The Reduce N-Wise operator Xf/Y could help with solving this problem.\n",
    "\n",
    "**Examples**\n",
    "\n",
    "      0 (your_function) 1 2 3 4 5 6 ⍝ 0 neighbors on each side\n",
    "1 2 3 4 5 6\n",
    "\n",
    "      1 (your_function) 1 2 3 4 5 6 ⍝ 1 neighbors on each side\n",
    "1.333333333 2 3 4 5 5.666666667\n",
    "\n",
    "      2 (your_function) 1 2 3 4 5 6 ⍝ 2 neighbors on each side\n",
    "1.6 2.2 3 4 4.8 5.4\n",
    "\n",
    "      6 (your_function) 1 2 3 4 5 6\n",
    "2.538461538 2.923076923 3.307692308 3.692307692 4.076923077 4.461538462\n",
    "\n",
    "      10 (your_function) 42\n",
    "42    \n",
    "\n"
   ]
  },
  {
   "cell_type": "code",
   "execution_count": 314,
   "id": "e60ee22e",
   "metadata": {},
   "outputs": [],
   "source": [
    "Y←6\n",
    "X←1 2 3 4 5 6"
   ]
  },
  {
   "cell_type": "markdown",
   "id": "4085a124",
   "metadata": {},
   "source": [
    "#### Solution `{(a+/(⍺⍴⊃⍵),⍵,⍺⍴⊃⌽⍵)÷a←1+2×⍺}`"
   ]
  },
  {
   "cell_type": "code",
   "execution_count": 295,
   "id": "532ed19d",
   "metadata": {},
   "outputs": [
    {
     "data": {
      "text/html": [
       "<span style=\"white-space:pre; font-family: monospace\">  \n",
       "13\n",
       "  \n",
       "</span>"
      ]
     },
     "execution_count": 295,
     "metadata": {},
     "output_type": "execute_result"
    }
   ],
   "source": [
    "⊢a←1+2×Y ⍝ window size"
   ]
  },
  {
   "cell_type": "code",
   "execution_count": 285,
   "id": "dd7fcf28",
   "metadata": {},
   "outputs": [
    {
     "data": {
      "text/html": [
       "<span style=\"white-space:pre; font-family: monospace\">┌→──────────┐\n",
       "│6 5 4 3 2 1│\n",
       "└~──────────┘\n",
       "</span>"
      ]
     },
     "execution_count": 285,
     "metadata": {},
     "output_type": "execute_result"
    }
   ],
   "source": [
    "⌽X ⍝ reverse"
   ]
  },
  {
   "cell_type": "code",
   "execution_count": 288,
   "id": "ebe0e369",
   "metadata": {},
   "outputs": [
    {
     "data": {
      "text/html": [
       "<span style=\"white-space:pre; font-family: monospace\"> \n",
       "6\n",
       " \n",
       "</span>"
      ]
     },
     "execution_count": 288,
     "metadata": {},
     "output_type": "execute_result"
    }
   ],
   "source": [
    "⊃⌽X ⍝ first"
   ]
  },
  {
   "cell_type": "code",
   "execution_count": 284,
   "id": "9345bdb7",
   "metadata": {},
   "outputs": [
    {
     "data": {
      "text/html": [
       "<span style=\"white-space:pre; font-family: monospace\">┌→──────────┐\n",
       "│6 6 6 6 6 6│\n",
       "└~──────────┘\n",
       "</span>"
      ]
     },
     "execution_count": 284,
     "metadata": {},
     "output_type": "execute_result"
    }
   ],
   "source": [
    "Y⍴⊃⌽X ⍝ reshape (to put on end of vector)"
   ]
  },
  {
   "cell_type": "code",
   "execution_count": 289,
   "id": "1a1df66e",
   "metadata": {},
   "outputs": [
    {
     "data": {
      "text/html": [
       "<span style=\"white-space:pre; font-family: monospace\">┌→──────────┐\n",
       "│1 1 1 1 1 1│\n",
       "└~──────────┘\n",
       "</span>"
      ]
     },
     "execution_count": 289,
     "metadata": {},
     "output_type": "execute_result"
    }
   ],
   "source": [
    "Y⍴⊃X ⍝ to put at beginning of vector"
   ]
  },
  {
   "cell_type": "code",
   "execution_count": 296,
   "id": "d21849aa",
   "metadata": {},
   "outputs": [
    {
     "data": {
      "text/html": [
       "<span style=\"white-space:pre; font-family: monospace\">┌→──────────────────────────────────┐\n",
       "│1 1 1 1 1 1 1 2 3 4 5 6 6 6 6 6 6 6│\n",
       "└~──────────────────────────────────┘\n",
       "</span>"
      ]
     },
     "execution_count": 296,
     "metadata": {},
     "output_type": "execute_result"
    }
   ],
   "source": [
    "(Y⍴⊃X),X,Y⍴⊃⌽X ⍝ catenate vectors"
   ]
  },
  {
   "cell_type": "code",
   "execution_count": 293,
   "id": "b4960575",
   "metadata": {},
   "outputs": [
    {
     "data": {
      "text/html": [
       "<span style=\"white-space:pre; font-family: monospace\">┌→────────────────┐\n",
       "│33 38 43 48 53 58│\n",
       "└~────────────────┘\n",
       "</span>"
      ]
     },
     "execution_count": 293,
     "metadata": {},
     "output_type": "execute_result"
    }
   ],
   "source": [
    "a+/(Y⍴⊃X),X,Y⍴⊃⌽X ⍝ windowed sum "
   ]
  },
  {
   "cell_type": "code",
   "execution_count": 297,
   "id": "ab98e07e",
   "metadata": {},
   "outputs": [
    {
     "data": {
      "text/html": [
       "<span style=\"white-space:pre; font-family: monospace\">┌→──────────────────────────────────────────────────────────────────────┐\n",
       "│2.538461538 2.923076923 3.307692308 3.692307692 4.076923077 4.461538462│\n",
       "└~──────────────────────────────────────────────────────────────────────┘\n",
       "</span>"
      ]
     },
     "execution_count": 297,
     "metadata": {},
     "output_type": "execute_result"
    }
   ],
   "source": [
    "(a+/(Y⍴⊃X),X,Y⍴⊃⌽X)÷a ⍝ divide by window size"
   ]
  },
  {
   "cell_type": "markdown",
   "id": "0ad0dd65",
   "metadata": {},
   "source": [
    "#### Solution `{(1+2×⍺)(+⌿÷⊣)(⍺⍴⊃⍵),⍵,⍺⍴⊃⊖⍵}`"
   ]
  },
  {
   "cell_type": "code",
   "execution_count": 299,
   "id": "5383331b",
   "metadata": {},
   "outputs": [
    {
     "data": {
      "text/html": [
       "<span style=\"white-space:pre; font-family: monospace\">┌→──────────────────────────────────┐\n",
       "│1 1 1 1 1 1 1 2 3 4 5 6 6 6 6 6 6 6│\n",
       "└~──────────────────────────────────┘\n",
       "</span>"
      ]
     },
     "execution_count": 299,
     "metadata": {},
     "output_type": "execute_result"
    }
   ],
   "source": [
    "(Y⍴⊃X),X,Y⍴⊃⊖X ⍝ catenate vectors (uses reverse first)"
   ]
  },
  {
   "cell_type": "code",
   "execution_count": 304,
   "id": "f918b205",
   "metadata": {},
   "outputs": [
    {
     "data": {
      "text/html": [
       "<span style=\"white-space:pre; font-family: monospace\">  \n",
       "13\n",
       "  \n",
       "</span>"
      ]
     },
     "execution_count": 304,
     "metadata": {},
     "output_type": "execute_result"
    }
   ],
   "source": [
    "(1+2×Y)"
   ]
  },
  {
   "cell_type": "code",
   "execution_count": 306,
   "id": "3d9098e5",
   "metadata": {},
   "outputs": [
    {
     "data": {
      "text/html": [
       "<span style=\"white-space:pre; font-family: monospace\">  ┌─┼─┐\n",
       "  / ÷ ⊣\n",
       "┌─┘\n",
       "+\n",
       "</span>"
      ]
     },
     "execution_count": 306,
     "metadata": {},
     "output_type": "execute_result"
    }
   ],
   "source": [
    "(+/÷⊣)"
   ]
  },
  {
   "cell_type": "code",
   "execution_count": 305,
   "id": "86dc400d",
   "metadata": {},
   "outputs": [
    {
     "data": {
      "text/html": [
       "<span style=\"white-space:pre; font-family: monospace\">┌→──────────────────────────────────────────────────────────────────────┐\n",
       "│2.538461538 2.923076923 3.307692308 3.692307692 4.076923077 4.461538462│\n",
       "└~──────────────────────────────────────────────────────────────────────┘\n",
       "</span>"
      ]
     },
     "execution_count": 305,
     "metadata": {},
     "output_type": "execute_result"
    }
   ],
   "source": [
    "(1+2×Y)(+/÷⊣)(Y⍴⊃X),X,Y⍴⊃⊖X "
   ]
  },
  {
   "cell_type": "markdown",
   "id": "78bc2c14",
   "metadata": {},
   "source": [
    "#### Solution `(1+2×⊣)(+/÷⊣)⍴∘⊃,⊢,⍴∘⊃∘⌽`"
   ]
  },
  {
   "cell_type": "code",
   "execution_count": 320,
   "id": "c1166862",
   "metadata": {},
   "outputs": [
    {
     "data": {
      "text/html": [
       "<span style=\"white-space:pre; font-family: monospace\"> ┌─┼───┐\n",
       " ∘ , ┌─┼─┐\n",
       "┌┴┐  ⊢ , ∘\n",
       "⍴ ⊃     ┌┴┐\n",
       "        ∘ ⌽\n",
       "       ┌┴┐\n",
       "       ⍴ ⊃\n",
       "</span>"
      ]
     },
     "execution_count": 320,
     "metadata": {},
     "output_type": "execute_result"
    }
   ],
   "source": [
    "⍴∘⊃,⊢,⍴∘⊃∘⌽"
   ]
  },
  {
   "cell_type": "code",
   "execution_count": 323,
   "id": "b6eb6769",
   "metadata": {},
   "outputs": [
    {
     "data": {
      "text/html": [
       "<span style=\"white-space:pre; font-family: monospace\">┌→──────────────────────────────────┐\n",
       "│1 1 1 1 1 1 1 2 3 4 5 6 6 6 6 6 6 6│\n",
       "└~──────────────────────────────────┘\n",
       "</span>"
      ]
     },
     "execution_count": 323,
     "metadata": {},
     "output_type": "execute_result"
    }
   ],
   "source": [
    "Y (⍴∘⊃,⊢,⍴∘⊃∘⌽) X"
   ]
  },
  {
   "cell_type": "code",
   "execution_count": 327,
   "id": "18088b8e",
   "metadata": {},
   "outputs": [
    {
     "data": {
      "text/html": [
       "<span style=\"white-space:pre; font-family: monospace\">  \n",
       "13\n",
       "  \n",
       "</span>"
      ]
     },
     "execution_count": 327,
     "metadata": {},
     "output_type": "execute_result"
    }
   ],
   "source": [
    "Y (1+2×⊣) X"
   ]
  },
  {
   "cell_type": "code",
   "execution_count": 330,
   "id": "a6d5093b",
   "metadata": {},
   "outputs": [
    {
     "data": {
      "text/html": [
       "<span style=\"white-space:pre; font-family: monospace\">┌→──────────────────────────────────────────────────────────────────────┐\n",
       "│2.538461538 2.923076923 3.307692308 3.692307692 4.076923077 4.461538462│\n",
       "└~──────────────────────────────────────────────────────────────────────┘\n",
       "</span>"
      ]
     },
     "execution_count": 330,
     "metadata": {},
     "output_type": "execute_result"
    }
   ],
   "source": [
    "Y ((1+2×⊣)(+/÷⊣)⍴∘⊃,⊢,⍴∘⊃∘⌽) X"
   ]
  },
  {
   "cell_type": "markdown",
   "id": "002a3ce1",
   "metadata": {},
   "source": [
    "#### Solution `{n←1+2×⍺⋄n÷⍨n+/(⍺/1↑⍵),⍵,⍺/¯1↑⍵}`"
   ]
  },
  {
   "cell_type": "code",
   "execution_count": 333,
   "id": "a960dfef",
   "metadata": {},
   "outputs": [
    {
     "data": {
      "text/html": [
       "<span style=\"white-space:pre; font-family: monospace\">  \n",
       "13\n",
       "  \n",
       "</span>"
      ]
     },
     "execution_count": 333,
     "metadata": {},
     "output_type": "execute_result"
    }
   ],
   "source": [
    "⊢n←1+2×Y"
   ]
  },
  {
   "cell_type": "code",
   "execution_count": 331,
   "id": "a4dc2153",
   "metadata": {},
   "outputs": [
    {
     "data": {
      "text/html": [
       "<span style=\"white-space:pre; font-family: monospace\">┌→──────────┐\n",
       "│6 6 6 6 6 6│\n",
       "└~──────────┘\n",
       "</span>"
      ]
     },
     "execution_count": 331,
     "metadata": {},
     "output_type": "execute_result"
    }
   ],
   "source": [
    "Y/¯1↑X"
   ]
  },
  {
   "cell_type": "code",
   "execution_count": 332,
   "id": "6dbcc90e",
   "metadata": {},
   "outputs": [
    {
     "data": {
      "text/html": [
       "<span style=\"white-space:pre; font-family: monospace\">┌→──────────┐\n",
       "│1 1 1 1 1 1│\n",
       "└~──────────┘\n",
       "</span>"
      ]
     },
     "execution_count": 332,
     "metadata": {},
     "output_type": "execute_result"
    }
   ],
   "source": [
    "Y/1↑X"
   ]
  },
  {
   "cell_type": "code",
   "execution_count": 334,
   "id": "8e77838b",
   "metadata": {},
   "outputs": [
    {
     "data": {
      "text/html": [
       "<span style=\"white-space:pre; font-family: monospace\">┌→──────────────────────────────────┐\n",
       "│1 1 1 1 1 1 1 2 3 4 5 6 6 6 6 6 6 6│\n",
       "└~──────────────────────────────────┘\n",
       "</span>"
      ]
     },
     "execution_count": 334,
     "metadata": {},
     "output_type": "execute_result"
    }
   ],
   "source": [
    "(Y/1↑X),X,Y/¯1↑X"
   ]
  },
  {
   "cell_type": "code",
   "execution_count": 335,
   "id": "655f4daf",
   "metadata": {},
   "outputs": [
    {
     "data": {
      "text/html": [
       "<span style=\"white-space:pre; font-family: monospace\">┌→────────────────┐\n",
       "│33 38 43 48 53 58│\n",
       "└~────────────────┘\n",
       "</span>"
      ]
     },
     "execution_count": 335,
     "metadata": {},
     "output_type": "execute_result"
    }
   ],
   "source": [
    "n+/(Y/1↑X),X,Y/¯1↑X"
   ]
  },
  {
   "cell_type": "code",
   "execution_count": 337,
   "id": "b5496d23",
   "metadata": {},
   "outputs": [
    {
     "data": {
      "text/html": [
       "<span style=\"white-space:pre; font-family: monospace\">┌→──────────────────────────────────────────────────────────────────────┐\n",
       "│2.538461538 2.923076923 3.307692308 3.692307692 4.076923077 4.461538462│\n",
       "└~──────────────────────────────────────────────────────────────────────┘\n",
       "</span>"
      ]
     },
     "execution_count": 337,
     "metadata": {},
     "output_type": "execute_result"
    }
   ],
   "source": [
    "(n+/(Y/1↑X),X,Y/¯1↑X)÷n"
   ]
  },
  {
   "cell_type": "markdown",
   "id": "ff4ec62c",
   "metadata": {},
   "source": [
    "#### Solution `{(+/¨n/((⍺/⊃⍵),⍵,⍺/⊃⌽⍵))÷n←1+2×⍺}  `"
   ]
  },
  {
   "cell_type": "code",
   "execution_count": 346,
   "id": "6a497cad",
   "metadata": {},
   "outputs": [
    {
     "data": {
      "text/html": [
       "<span style=\"white-space:pre; font-family: monospace\">  \n",
       "13\n",
       "  \n",
       "</span>"
      ]
     },
     "execution_count": 346,
     "metadata": {},
     "output_type": "execute_result"
    }
   ],
   "source": [
    "⊢n←1+2×Y"
   ]
  },
  {
   "cell_type": "code",
   "execution_count": 347,
   "id": "b05d5d6b",
   "metadata": {},
   "outputs": [
    {
     "data": {
      "text/html": [
       "<span style=\"white-space:pre; font-family: monospace\">┌→──────────┐\n",
       "│6 6 6 6 6 6│\n",
       "└~──────────┘\n",
       "</span>"
      ]
     },
     "execution_count": 347,
     "metadata": {},
     "output_type": "execute_result"
    }
   ],
   "source": [
    "Y/⊃⌽X"
   ]
  },
  {
   "cell_type": "code",
   "execution_count": 348,
   "id": "f6f7a1e3",
   "metadata": {},
   "outputs": [
    {
     "data": {
      "text/html": [
       "<span style=\"white-space:pre; font-family: monospace\">┌→──────────┐\n",
       "│1 1 1 1 1 1│\n",
       "└~──────────┘\n",
       "</span>"
      ]
     },
     "execution_count": 348,
     "metadata": {},
     "output_type": "execute_result"
    }
   ],
   "source": [
    "Y/⊃X"
   ]
  },
  {
   "cell_type": "code",
   "execution_count": 349,
   "id": "1e831793",
   "metadata": {},
   "outputs": [
    {
     "data": {
      "text/html": [
       "<span style=\"white-space:pre; font-family: monospace\">┌→──────────────────────────────────┐\n",
       "│1 1 1 1 1 1 1 2 3 4 5 6 6 6 6 6 6 6│\n",
       "└~──────────────────────────────────┘\n",
       "</span>"
      ]
     },
     "execution_count": 349,
     "metadata": {},
     "output_type": "execute_result"
    }
   ],
   "source": [
    "(Y/⊃X),X,Y/⊃⌽X"
   ]
  },
  {
   "cell_type": "code",
   "execution_count": 350,
   "id": "3acadfdf",
   "metadata": {},
   "outputs": [
    {
     "data": {
      "text/html": [
       "<span style=\"white-space:pre; font-family: monospace\">┌→────────────────────────────────────────────────────────────────────────────────────────────────────────────────────────────────────────────────────────────────────────┐\n",
       "│ ┌→────────────────────────┐ ┌→────────────────────────┐ ┌→────────────────────────┐ ┌→────────────────────────┐ ┌→────────────────────────┐ ┌→────────────────────────┐ │\n",
       "│ │1 1 1 1 1 1 1 2 3 4 5 6 6│ │1 1 1 1 1 1 2 3 4 5 6 6 6│ │1 1 1 1 1 2 3 4 5 6 6 6 6│ │1 1 1 1 2 3 4 5 6 6 6 6 6│ │1 1 1 2 3 4 5 6 6 6 6 6 6│ │1 1 2 3 4 5 6 6 6 6 6 6 6│ │\n",
       "│ └~────────────────────────┘ └~────────────────────────┘ └~────────────────────────┘ └~────────────────────────┘ └~────────────────────────┘ └~────────────────────────┘ │\n",
       "└∊────────────────────────────────────────────────────────────────────────────────────────────────────────────────────────────────────────────────────────────────────────┘\n",
       "</span>"
      ]
     },
     "execution_count": 350,
     "metadata": {},
     "output_type": "execute_result"
    }
   ],
   "source": [
    "n,/(Y/⊃X),X,Y/⊃⌽X"
   ]
  },
  {
   "cell_type": "code",
   "execution_count": 351,
   "id": "9af90f3d",
   "metadata": {},
   "outputs": [
    {
     "data": {
      "text/html": [
       "<span style=\"white-space:pre; font-family: monospace\">┌→────────────────┐\n",
       "│33 38 43 48 53 58│\n",
       "└~────────────────┘\n",
       "</span>"
      ]
     },
     "execution_count": 351,
     "metadata": {},
     "output_type": "execute_result"
    }
   ],
   "source": [
    "+/¨n,/(Y/⊃X),X,Y/⊃⌽X"
   ]
  },
  {
   "cell_type": "code",
   "execution_count": 352,
   "id": "66969747",
   "metadata": {},
   "outputs": [
    {
     "data": {
      "text/html": [
       "<span style=\"white-space:pre; font-family: monospace\">┌→──────────────────────────────────────────────────────────────────────┐\n",
       "│2.538461538 2.923076923 3.307692308 3.692307692 4.076923077 4.461538462│\n",
       "└~──────────────────────────────────────────────────────────────────────┘\n",
       "</span>"
      ]
     },
     "execution_count": 352,
     "metadata": {},
     "output_type": "execute_result"
    }
   ],
   "source": [
    "(+/¨n,/(Y/⊃X),X,Y/⊃⌽X)÷n"
   ]
  },
  {
   "cell_type": "markdown",
   "id": "b98f62aa",
   "metadata": {},
   "source": [
    "#### Solution `{(+⌿÷≢)¨(1+2×⍺),/(⍺⍴1↑⍵),⍵,⍺⍴(,⍵)[≢⍵]}`"
   ]
  },
  {
   "cell_type": "code",
   "execution_count": null,
   "id": "22a952d3",
   "metadata": {},
   "outputs": [],
   "source": [
    "{(+⌿÷≢)¨(1+2×⍺),/(⍺⍴1↑⍵),⍵,⍺⍴(,⍵)[≢⍵]}"
   ]
  },
  {
   "cell_type": "code",
   "execution_count": 353,
   "id": "a220332b",
   "metadata": {},
   "outputs": [
    {
     "data": {
      "text/html": [
       "<span style=\"white-space:pre; font-family: monospace\">┌→──────────┐\n",
       "│6 6 6 6 6 6│\n",
       "└~──────────┘\n",
       "</span>"
      ]
     },
     "execution_count": 353,
     "metadata": {},
     "output_type": "execute_result"
    }
   ],
   "source": [
    "Y⍴(,X)[≢X]"
   ]
  },
  {
   "cell_type": "code",
   "execution_count": 356,
   "id": "cef52e79",
   "metadata": {},
   "outputs": [
    {
     "data": {
      "text/html": [
       "<span style=\"white-space:pre; font-family: monospace\">┌→──────────┐\n",
       "│1 1 1 1 1 1│\n",
       "└~──────────┘\n",
       "</span>"
      ]
     },
     "execution_count": 356,
     "metadata": {},
     "output_type": "execute_result"
    }
   ],
   "source": [
    "Y⍴1↑X"
   ]
  },
  {
   "cell_type": "code",
   "execution_count": 357,
   "id": "54d0107b",
   "metadata": {},
   "outputs": [
    {
     "data": {
      "text/html": [
       "<span style=\"white-space:pre; font-family: monospace\">┌→──────────────────────────────────┐\n",
       "│1 1 1 1 1 1 1 2 3 4 5 6 6 6 6 6 6 6│\n",
       "└~──────────────────────────────────┘\n",
       "</span>"
      ]
     },
     "execution_count": 357,
     "metadata": {},
     "output_type": "execute_result"
    }
   ],
   "source": [
    "(Y⍴1↑X),X,Y⍴(,X)[≢X]"
   ]
  },
  {
   "cell_type": "code",
   "execution_count": 358,
   "id": "1cd1ff31",
   "metadata": {},
   "outputs": [
    {
     "data": {
      "text/html": [
       "<span style=\"white-space:pre; font-family: monospace\">  \n",
       "13\n",
       "  \n",
       "</span>"
      ]
     },
     "execution_count": 358,
     "metadata": {},
     "output_type": "execute_result"
    }
   ],
   "source": [
    "1+2×Y"
   ]
  },
  {
   "cell_type": "code",
   "execution_count": 359,
   "id": "c19bdaa6",
   "metadata": {},
   "outputs": [
    {
     "data": {
      "text/html": [
       "<span style=\"white-space:pre; font-family: monospace\">┌→────────────────────────────────────────────────────────────────────────────────────────────────────────────────────────────────────────────────────────────────────────┐\n",
       "│ ┌→────────────────────────┐ ┌→────────────────────────┐ ┌→────────────────────────┐ ┌→────────────────────────┐ ┌→────────────────────────┐ ┌→────────────────────────┐ │\n",
       "│ │1 1 1 1 1 1 1 2 3 4 5 6 6│ │1 1 1 1 1 1 2 3 4 5 6 6 6│ │1 1 1 1 1 2 3 4 5 6 6 6 6│ │1 1 1 1 2 3 4 5 6 6 6 6 6│ │1 1 1 2 3 4 5 6 6 6 6 6 6│ │1 1 2 3 4 5 6 6 6 6 6 6 6│ │\n",
       "│ └~────────────────────────┘ └~────────────────────────┘ └~────────────────────────┘ └~────────────────────────┘ └~────────────────────────┘ └~────────────────────────┘ │\n",
       "└∊────────────────────────────────────────────────────────────────────────────────────────────────────────────────────────────────────────────────────────────────────────┘\n",
       "</span>"
      ]
     },
     "execution_count": 359,
     "metadata": {},
     "output_type": "execute_result"
    }
   ],
   "source": [
    "(1+2×Y),/(Y⍴1↑X),X,Y⍴(,X)[≢X]"
   ]
  },
  {
   "cell_type": "code",
   "execution_count": 360,
   "id": "bdf5d6cf",
   "metadata": {},
   "outputs": [
    {
     "data": {
      "text/html": [
       "<span style=\"white-space:pre; font-family: monospace\">┌→──────────────────────────────────────────────────────────────────────┐\n",
       "│2.538461538 2.923076923 3.307692308 3.692307692 4.076923077 4.461538462│\n",
       "└~──────────────────────────────────────────────────────────────────────┘\n",
       "</span>"
      ]
     },
     "execution_count": 360,
     "metadata": {},
     "output_type": "execute_result"
    }
   ],
   "source": [
    "(+⌿÷≢)¨(1+2×Y),/(Y⍴1↑X),X,Y⍴(,X)[≢X]"
   ]
  },
  {
   "cell_type": "code",
   "execution_count": 363,
   "id": "3a56c048",
   "metadata": {},
   "outputs": [
    {
     "data": {
      "text/html": [
       "<span style=\"white-space:pre; font-family: monospace\">┌→────────────────────────────────────────────────────────────────┐\n",
       "↓  Y e X → 3.0E¯6 |    0% ⎕⎕⎕⎕⎕⎕⎕⎕⎕⎕⎕⎕⎕⎕                          │\n",
       "│  Y f X → 3.2E¯6 |   +7% ⎕⎕⎕⎕⎕⎕⎕⎕⎕⎕⎕⎕⎕⎕⎕                         │\n",
       "│  Y g X → 3.4E¯6 |  +16% ⎕⎕⎕⎕⎕⎕⎕⎕⎕⎕⎕⎕⎕⎕⎕⎕                        │\n",
       "│  Y h X → 3.4E¯6 |  +16% ⎕⎕⎕⎕⎕⎕⎕⎕⎕⎕⎕⎕⎕⎕⎕⎕                        │\n",
       "│  Y i X → 7.0E¯6 | +135% ⎕⎕⎕⎕⎕⎕⎕⎕⎕⎕⎕⎕⎕⎕⎕⎕⎕⎕⎕⎕⎕⎕⎕⎕⎕⎕⎕⎕⎕⎕⎕⎕⎕       │\n",
       "│  Y j X → 8.4E¯6 | +185% ⎕⎕⎕⎕⎕⎕⎕⎕⎕⎕⎕⎕⎕⎕⎕⎕⎕⎕⎕⎕⎕⎕⎕⎕⎕⎕⎕⎕⎕⎕⎕⎕⎕⎕⎕⎕⎕⎕⎕⎕│\n",
       "└─────────────────────────────────────────────────────────────────┘\n",
       "</span>"
      ]
     },
     "execution_count": 363,
     "metadata": {},
     "output_type": "execute_result"
    }
   ],
   "source": [
    "Y←6\n",
    "X←1 2 3 4 5 6\n",
    "\n",
    "e←{(a+/(⍺⍴⊃⍵),⍵,⍺⍴⊃⌽⍵)÷a←1+2×⍺}\n",
    "f←{(1+2×⍺)(+⌿÷⊣)(⍺⍴⊃⍵),⍵,⍺⍴⊃⊖⍵}\n",
    "g←(1+2×⊣)(+/÷⊣)⍴∘⊃,⊢,⍴∘⊃∘⌽\n",
    "h←{n←1+2×⍺⋄n÷⍨n+/(⍺/1↑⍵),⍵,⍺/¯1↑⍵}\n",
    "i←{(+/¨n,/((⍺/⊃⍵),⍵,⍺/⊃⌽⍵))÷n←1+2×⍺}  \n",
    "j←{(+⌿÷≢)¨(1+2×⍺),/(⍺⍴1↑⍵),⍵,⍺⍴(,⍵)[≢⍵]}\n",
    "\n",
    "cmpx 'Y e X' 'Y f X' 'Y g X' 'Y h X' 'Y i X' 'Y j X'"
   ]
  },
  {
   "cell_type": "markdown",
   "id": "658ed72a",
   "metadata": {},
   "source": [
    "## 10: [Separation Anxiety](https://contest.dyalog.com/?goto=P110)\n",
    "\n",
    "Write a function that:\n",
    "\n",
    "- takes a right argument that is a character vector or scalar representing a valid non-negative integer.\n",
    "- takes a left argument that is a character scalar \"separator\" character.\n",
    "- returns a character vector that is a representation of the right argument formatted such that the separator character is found between trailing groups of 3 digits.\n",
    "\n",
    "Note that the number of digits in the character representation might exceed the number of digits that can be represented as a 32-bit integer.\n",
    "\n",
    "**Hint:** The _at_ operator [@](http://help.dyalog.com/latest/#Language/Primitive%20Operators/At.htm) could be helpful.\n",
    "\n",
    "**Examples**\n",
    "\n",
    "      ',' (your_function)¨'1' '10' '100' '1000' '10000' '100000' '1000000' '10000000' '100000000' '1000000000' '10000000000'\n",
    "```\n",
    "┌─┬──┬───┬─────┬──────┬───────┬─────────┬──────────┬───────────┬─────────────┬──────────────┐\n",
    "│1│10│100│1,000│10,000│100,000│1,000,000│10,000,000│100,000,000│1,000,000,000│10,000,000,000│\n",
    "└─┴──┴───┴─────┴──────┴───────┴─────────┴──────────┴───────────┴─────────────┴──────────────┘\n",
    "```    \n",
    "      '.' (your_function) 60⍴⌽⎕D\n",
    "987.654.321.098.765.432.109.876.543.210.987.654.321.098.765.432.109.876.543.210\n",
    "      \n",
    "      '/' (your_function) ,'9' ⍝ scalars and 1-element character vectors are equivalent\n",
    "9"
   ]
  },
  {
   "cell_type": "code",
   "execution_count": 410,
   "id": "8062399c",
   "metadata": {},
   "outputs": [
    {
     "data": {
      "text/html": [
       "<span style=\"white-space:pre; font-family: monospace\">┌→────────────────────────────────────────────────────────────┐\n",
       "│9876543210987654321098765432109876543210987654321098765432109│\n",
       "└─────────────────────────────────────────────────────────────┘\n",
       "</span>"
      ]
     },
     "execution_count": 410,
     "metadata": {},
     "output_type": "execute_result"
    }
   ],
   "source": [
    "Y← '.' \n",
    "⊢X←61⍴⌽⎕D\n",
    "Z←¨'1' '10' '100' '1000' '10000' '100000' '1000000' '10000000' '100000000' '1000000000' '10000000000'"
   ]
  },
  {
   "cell_type": "markdown",
   "id": "f67885b5",
   "metadata": {},
   "source": [
    "#### Solution `{⊖∊⍺(1↓∘,,⍤0)((≢⍵)⍴1 0 0)⊂⊖⍵}`"
   ]
  },
  {
   "cell_type": "code",
   "execution_count": 383,
   "id": "fcf67704",
   "metadata": {},
   "outputs": [
    {
     "data": {
      "text/html": [
       "<span style=\"white-space:pre; font-family: monospace\">┌→────────────────────────────────────────────────────────────────────────────────────────────────────────────────────────┐\n",
       "│1 0 0 1 0 0 1 0 0 1 0 0 1 0 0 1 0 0 1 0 0 1 0 0 1 0 0 1 0 0 1 0 0 1 0 0 1 0 0 1 0 0 1 0 0 1 0 0 1 0 0 1 0 0 1 0 0 1 0 0 1│\n",
       "└~────────────────────────────────────────────────────────────────────────────────────────────────────────────────────────┘\n",
       "</span>"
      ]
     },
     "execution_count": 383,
     "metadata": {},
     "output_type": "execute_result"
    }
   ],
   "source": [
    "(≢X)⍴1 0 0"
   ]
  },
  {
   "cell_type": "code",
   "execution_count": 384,
   "id": "981a9ea0",
   "metadata": {},
   "outputs": [
    {
     "data": {
      "text/html": [
       "<span style=\"white-space:pre; font-family: monospace\">┌→────────────────────────────────────────────────────────────────────────────────────────────────────────────────────────────┐\n",
       "│ ┌→──┐ ┌→──┐ ┌→──┐ ┌→──┐ ┌→──┐ ┌→──┐ ┌→──┐ ┌→──┐ ┌→──┐ ┌→──┐ ┌→──┐ ┌→──┐ ┌→──┐ ┌→──┐ ┌→──┐ ┌→──┐ ┌→──┐ ┌→──┐ ┌→──┐ ┌→──┐ ┌→┐ │\n",
       "│ │901│ │234│ │567│ │890│ │123│ │456│ │789│ │012│ │345│ │678│ │901│ │234│ │567│ │890│ │123│ │456│ │789│ │012│ │345│ │678│ │9│ │\n",
       "│ └───┘ └───┘ └───┘ └───┘ └───┘ └───┘ └───┘ └───┘ └───┘ └───┘ └───┘ └───┘ └───┘ └───┘ └───┘ └───┘ └───┘ └───┘ └───┘ └───┘ └─┘ │\n",
       "└∊────────────────────────────────────────────────────────────────────────────────────────────────────────────────────────────┘\n",
       "</span>"
      ]
     },
     "execution_count": 384,
     "metadata": {},
     "output_type": "execute_result"
    }
   ],
   "source": [
    "((≢X)⍴1 0 0)⊂⊖X"
   ]
  },
  {
   "cell_type": "code",
   "execution_count": 385,
   "id": "22c7ddcb",
   "metadata": {},
   "outputs": [
    {
     "data": {
      "text/html": [
       "<span style=\"white-space:pre; font-family: monospace\">┌─┼───┐\n",
       "1 ∘   ⍤\n",
       " ┌┴┐ ┌┴┐\n",
       " ↓ , , 0\n",
       "</span>"
      ]
     },
     "execution_count": 385,
     "metadata": {},
     "output_type": "execute_result"
    }
   ],
   "source": [
    "1↓∘,,⍤0"
   ]
  },
  {
   "cell_type": "code",
   "execution_count": 386,
   "id": "fe7332ab",
   "metadata": {},
   "outputs": [
    {
     "data": {
      "text/html": [
       "<span style=\"white-space:pre; font-family: monospace\">┌→────────────────────────────────────────────────────────────────────────────────────────────────────────────────────────────────────────────────────────────────────┐\n",
       "│ ┌→──┐   ┌→──┐   ┌→──┐   ┌→──┐   ┌→──┐   ┌→──┐   ┌→──┐   ┌→──┐   ┌→──┐   ┌→──┐   ┌→──┐   ┌→──┐   ┌→──┐   ┌→──┐   ┌→──┐   ┌→──┐   ┌→──┐   ┌→──┐   ┌→──┐   ┌→──┐   ┌→┐ │\n",
       "│ │901│ . │234│ . │567│ . │890│ . │123│ . │456│ . │789│ . │012│ . │345│ . │678│ . │901│ . │234│ . │567│ . │890│ . │123│ . │456│ . │789│ . │012│ . │345│ . │678│ . │9│ │\n",
       "│ └───┘ - └───┘ - └───┘ - └───┘ - └───┘ - └───┘ - └───┘ - └───┘ - └───┘ - └───┘ - └───┘ - └───┘ - └───┘ - └───┘ - └───┘ - └───┘ - └───┘ - └───┘ - └───┘ - └───┘ - └─┘ │\n",
       "└∊────────────────────────────────────────────────────────────────────────────────────────────────────────────────────────────────────────────────────────────────────┘\n",
       "</span>"
      ]
     },
     "execution_count": 386,
     "metadata": {},
     "output_type": "execute_result"
    }
   ],
   "source": [
    "Y(1↓∘,,⍤0)((≢X)⍴1 0 0)⊂⊖X"
   ]
  },
  {
   "cell_type": "code",
   "execution_count": 388,
   "id": "8cd031f1",
   "metadata": {},
   "outputs": [
    {
     "data": {
      "text/html": [
       "<span style=\"white-space:pre; font-family: monospace\">┌→────────────────────────────────────────────────────────────────────────────────┐\n",
       "│901.234.567.890.123.456.789.012.345.678.901.234.567.890.123.456.789.012.345.678.9│\n",
       "└─────────────────────────────────────────────────────────────────────────────────┘\n",
       "</span>"
      ]
     },
     "execution_count": 388,
     "metadata": {},
     "output_type": "execute_result"
    }
   ],
   "source": [
    "∊Y(1↓∘,,⍤0)((≢X)⍴1 0 0)⊂⊖X"
   ]
  },
  {
   "cell_type": "code",
   "execution_count": 389,
   "id": "c689e3dc",
   "metadata": {},
   "outputs": [
    {
     "data": {
      "text/html": [
       "<span style=\"white-space:pre; font-family: monospace\">┌→────────────────────────────────────────────────────────────────────────────────┐\n",
       "│9.876.543.210.987.654.321.098.765.432.109.876.543.210.987.654.321.098.765.432.109│\n",
       "└─────────────────────────────────────────────────────────────────────────────────┘\n",
       "</span>"
      ]
     },
     "execution_count": 389,
     "metadata": {},
     "output_type": "execute_result"
    }
   ],
   "source": [
    "⊖∊Y(1↓∘,,⍤0)((≢X)⍴1 0 0)⊂⊖X"
   ]
  },
  {
   "cell_type": "code",
   "execution_count": 392,
   "id": "c8bcf091",
   "metadata": {},
   "outputs": [
    {
     "data": {
      "text/html": [
       "<span style=\"white-space:pre; font-family: monospace\">┌→────────────────────────────────────────────────────────────────────────────────┐\n",
       "│9.876.543.210.987.654.321.098.765.432.109.876.543.210.987.654.321.098.765.432.109│\n",
       "└─────────────────────────────────────────────────────────────────────────────────┘\n",
       "</span>"
      ]
     },
     "execution_count": 392,
     "metadata": {},
     "output_type": "execute_result"
    }
   ],
   "source": [
    "Y {⊖∊⍺(1↓∘,,⍤0)((≢⍵)⍴1 0 0)⊂⊖⍵} X"
   ]
  },
  {
   "cell_type": "code",
   "execution_count": 394,
   "id": "bcba7065",
   "metadata": {},
   "outputs": [
    {
     "data": {
      "text/html": [
       "<span style=\"white-space:pre; font-family: monospace\">┌→─────────────┐\n",
       "│10.000.000.000│\n",
       "└──────────────┘\n",
       "</span>"
      ]
     },
     "execution_count": 394,
     "metadata": {},
     "output_type": "execute_result"
    }
   ],
   "source": [
    "Y {⊖∊⍺(1↓∘,,⍤0)((≢⍵)⍴1 0 0)⊂⊖⍵} Z"
   ]
  },
  {
   "cell_type": "markdown",
   "id": "3f41be72",
   "metadata": {},
   "source": [
    "#### Solution `{(+/×\\' '=a)↓a←⌽1↓,↑(⊂⍺),¨,((≢⍵)⍴1 0 0)⊂⌽⍵}`"
   ]
  },
  {
   "cell_type": "code",
   "execution_count": 411,
   "id": "34ef9224",
   "metadata": {},
   "outputs": [
    {
     "data": {
      "text/html": [
       "<span style=\"white-space:pre; font-family: monospace\">┌→────────────────────────────────────────────────────────────────────────────────────────────────────────────────────────────┐\n",
       "│ ┌→──┐ ┌→──┐ ┌→──┐ ┌→──┐ ┌→──┐ ┌→──┐ ┌→──┐ ┌→──┐ ┌→──┐ ┌→──┐ ┌→──┐ ┌→──┐ ┌→──┐ ┌→──┐ ┌→──┐ ┌→──┐ ┌→──┐ ┌→──┐ ┌→──┐ ┌→──┐ ┌→┐ │\n",
       "│ │901│ │234│ │567│ │890│ │123│ │456│ │789│ │012│ │345│ │678│ │901│ │234│ │567│ │890│ │123│ │456│ │789│ │012│ │345│ │678│ │9│ │\n",
       "│ └───┘ └───┘ └───┘ └───┘ └───┘ └───┘ └───┘ └───┘ └───┘ └───┘ └───┘ └───┘ └───┘ └───┘ └───┘ └───┘ └───┘ └───┘ └───┘ └───┘ └─┘ │\n",
       "└∊────────────────────────────────────────────────────────────────────────────────────────────────────────────────────────────┘\n",
       "</span>"
      ]
     },
     "execution_count": 411,
     "metadata": {},
     "output_type": "execute_result"
    }
   ],
   "source": [
    "((≢X)⍴1 0 0)⊂⌽X"
   ]
  },
  {
   "cell_type": "code",
   "execution_count": 412,
   "id": "34abe33f",
   "metadata": {},
   "outputs": [
    {
     "data": {
      "text/html": [
       "<span style=\"white-space:pre; font-family: monospace\"> \n",
       ".\n",
       "-\n",
       "</span>"
      ]
     },
     "execution_count": 412,
     "metadata": {},
     "output_type": "execute_result"
    }
   ],
   "source": [
    "(⊂Y)"
   ]
  },
  {
   "cell_type": "code",
   "execution_count": 413,
   "id": "d142cc48",
   "metadata": {},
   "outputs": [
    {
     "data": {
      "text/html": [
       "<span style=\"white-space:pre; font-family: monospace\">┌→─────────────────────────────────────────────────────────────────────────────────────────────────────────────────────────────────────────────────┐\n",
       "│ ┌→───┐ ┌→───┐ ┌→───┐ ┌→───┐ ┌→───┐ ┌→───┐ ┌→───┐ ┌→───┐ ┌→───┐ ┌→───┐ ┌→───┐ ┌→───┐ ┌→───┐ ┌→───┐ ┌→───┐ ┌→───┐ ┌→───┐ ┌→───┐ ┌→───┐ ┌→───┐ ┌→─┐ │\n",
       "│ │.901│ │.234│ │.567│ │.890│ │.123│ │.456│ │.789│ │.012│ │.345│ │.678│ │.901│ │.234│ │.567│ │.890│ │.123│ │.456│ │.789│ │.012│ │.345│ │.678│ │.9│ │\n",
       "│ └────┘ └────┘ └────┘ └────┘ └────┘ └────┘ └────┘ └────┘ └────┘ └────┘ └────┘ └────┘ └────┘ └────┘ └────┘ └────┘ └────┘ └────┘ └────┘ └────┘ └──┘ │\n",
       "└∊─────────────────────────────────────────────────────────────────────────────────────────────────────────────────────────────────────────────────┘\n",
       "</span>"
      ]
     },
     "execution_count": 413,
     "metadata": {},
     "output_type": "execute_result"
    }
   ],
   "source": [
    "(⊂Y),¨,((≢X)⍴1 0 0)⊂⌽X"
   ]
  },
  {
   "cell_type": "code",
   "execution_count": 414,
   "id": "1ea81f14",
   "metadata": {},
   "outputs": [
    {
     "data": {
      "text/html": [
       "<span style=\"white-space:pre; font-family: monospace\">┌────────────────────────────────────────────────────────────────────────────────────────┐\n",
       "│ ┌→───────────────────────────────────────────────────────────────────────────────────┐ │\n",
       "│ │.901.234.567.890.123.456.789.012.345.678.901.234.567.890.123.456.789.012.345.678.9  │ │\n",
       "│ └────────────────────────────────────────────────────────────────────────────────────┘ │\n",
       "└∊───────────────────────────────────────────────────────────────────────────────────────┘\n",
       "</span>"
      ]
     },
     "execution_count": 414,
     "metadata": {},
     "output_type": "execute_result"
    }
   ],
   "source": [
    "↓,↑(⊂Y),¨,((≢X)⍴1 0 0)⊂⌽X"
   ]
  },
  {
   "cell_type": "code",
   "execution_count": 415,
   "id": "3ac60d91",
   "metadata": {},
   "outputs": [
    {
     "data": {
      "text/html": [
       "<span style=\"white-space:pre; font-family: monospace\">┌→──────────────────────────────────────────────────────────────────────────────────┐\n",
       "│  9.876.543.210.987.654.321.098.765.432.109.876.543.210.987.654.321.098.765.432.109│\n",
       "└───────────────────────────────────────────────────────────────────────────────────┘\n",
       "</span>"
      ]
     },
     "execution_count": 415,
     "metadata": {},
     "output_type": "execute_result"
    }
   ],
   "source": [
    "⊢a←⌽1↓,↑(⊂Y),¨,((≢X)⍴1 0 0)⊂⌽X"
   ]
  },
  {
   "cell_type": "code",
   "execution_count": 420,
   "id": "c17bb86f",
   "metadata": {},
   "outputs": [
    {
     "data": {
      "text/html": [
       "<span style=\"white-space:pre; font-family: monospace\"> \n",
       "2\n",
       " \n",
       "</span>"
      ]
     },
     "execution_count": 420,
     "metadata": {},
     "output_type": "execute_result"
    }
   ],
   "source": [
    "+/×\\' '=a ⍝ number of leading spaces"
   ]
  },
  {
   "cell_type": "code",
   "execution_count": 421,
   "id": "35861fe6",
   "metadata": {},
   "outputs": [
    {
     "data": {
      "text/html": [
       "<span style=\"white-space:pre; font-family: monospace\">┌→────────────────────────────────────────────────────────────────────────────────┐\n",
       "│9.876.543.210.987.654.321.098.765.432.109.876.543.210.987.654.321.098.765.432.109│\n",
       "└─────────────────────────────────────────────────────────────────────────────────┘\n",
       "</span>"
      ]
     },
     "execution_count": 421,
     "metadata": {},
     "output_type": "execute_result"
    }
   ],
   "source": [
    "(+/×\\' '=a)↓a ⍝ drop leading spaces"
   ]
  },
  {
   "cell_type": "code",
   "execution_count": 422,
   "id": "5830d69f",
   "metadata": {},
   "outputs": [
    {
     "data": {
      "text/html": [
       "<span style=\"white-space:pre; font-family: monospace\">┌→────────────────────────────────────────────────────────────────┐\n",
       "↓  Y e X → 3.7E¯6 |    0% ⎕⎕⎕⎕⎕⎕⎕⎕⎕⎕                              │\n",
       "│  Y f X → 5.6E¯6 |  +50% ⎕⎕⎕⎕⎕⎕⎕⎕⎕⎕⎕⎕⎕⎕                          │\n",
       "│* Y g X → 1.0E¯5 | +171% ⎕⎕⎕⎕⎕⎕⎕⎕⎕⎕⎕⎕⎕⎕⎕⎕⎕⎕⎕⎕⎕⎕⎕⎕⎕⎕              │\n",
       "│  Y h X → 1.0E¯5 | +169% ⎕⎕⎕⎕⎕⎕⎕⎕⎕⎕⎕⎕⎕⎕⎕⎕⎕⎕⎕⎕⎕⎕⎕⎕⎕⎕              │\n",
       "│  Y i X → 1.1E¯5 | +186% ⎕⎕⎕⎕⎕⎕⎕⎕⎕⎕⎕⎕⎕⎕⎕⎕⎕⎕⎕⎕⎕⎕⎕⎕⎕⎕⎕             │\n",
       "│  Y j X → 1.5E¯5 | +317% ⎕⎕⎕⎕⎕⎕⎕⎕⎕⎕⎕⎕⎕⎕⎕⎕⎕⎕⎕⎕⎕⎕⎕⎕⎕⎕⎕⎕⎕⎕⎕⎕⎕⎕⎕⎕⎕⎕⎕⎕│\n",
       "└─────────────────────────────────────────────────────────────────┘\n",
       "</span>"
      ]
     },
     "execution_count": 422,
     "metadata": {},
     "output_type": "execute_result"
    },
    {
     "data": {
      "text/html": [
       "<span style=\"white-space:pre; font-family: monospace\">┌→────────────────────────────────────────────────────────────────┐\n",
       "↓  Y e Z → 1.9E¯6 |    0% ⎕⎕⎕⎕⎕⎕⎕⎕⎕                               │\n",
       "│  Y f Z → 2.8E¯6 |  +47% ⎕⎕⎕⎕⎕⎕⎕⎕⎕⎕⎕⎕⎕⎕                          │\n",
       "│  Y g Z → 6.0E¯6 | +220% ⎕⎕⎕⎕⎕⎕⎕⎕⎕⎕⎕⎕⎕⎕⎕⎕⎕⎕⎕⎕⎕⎕⎕⎕⎕⎕⎕⎕⎕⎕          │\n",
       "│  Y h Z → 7.9E¯6 | +323% ⎕⎕⎕⎕⎕⎕⎕⎕⎕⎕⎕⎕⎕⎕⎕⎕⎕⎕⎕⎕⎕⎕⎕⎕⎕⎕⎕⎕⎕⎕⎕⎕⎕⎕⎕⎕⎕⎕⎕⎕│\n",
       "│  Y i Z → 7.3E¯6 | +290% ⎕⎕⎕⎕⎕⎕⎕⎕⎕⎕⎕⎕⎕⎕⎕⎕⎕⎕⎕⎕⎕⎕⎕⎕⎕⎕⎕⎕⎕⎕⎕⎕⎕⎕⎕⎕⎕   │\n",
       "│  Y j Z → 7.5E¯6 | +300% ⎕⎕⎕⎕⎕⎕⎕⎕⎕⎕⎕⎕⎕⎕⎕⎕⎕⎕⎕⎕⎕⎕⎕⎕⎕⎕⎕⎕⎕⎕⎕⎕⎕⎕⎕⎕⎕⎕  │\n",
       "└─────────────────────────────────────────────────────────────────┘\n",
       "</span>"
      ]
     },
     "execution_count": 422,
     "metadata": {},
     "output_type": "execute_result"
    }
   ],
   "source": [
    "Y←'.' \n",
    "X←61⍴⌽⎕D\n",
    "Z←¨'1' '10' '100' '1000' '10000' '100000' '1000000' '10000000' '100000000' '1000000000' '10000000000'\n",
    "\n",
    "e←{⊖∊⍺(1↓∘,,⍤0)((≢⍵)⍴1 0 0)⊂⊖⍵}\n",
    "f←{(+/×\\' '=a)↓a←⌽1↓,↑(⊂⍺),¨,((≢⍵)⍴1 0 0)⊂⌽⍵}\n",
    "g←{(999≥(⍎⍵))≡1:,⍵⋄1↓∊⍺∘.,((¯1×(⍴⍵))↑∊⍉(1 1 1∘.×⍳20))⊆⍵} \n",
    "h←∊,¨@{0@1⌽0=3|⍳≢⍵}⍥,\n",
    "i←{↑,/⍺{⍺}@{0=6|⌽⍳≢⍵}1↓2⊂⍵} \n",
    "j←{∊(,⍺){⍺(,¨)⍵}@{0@1⌽0=3|⍳≢⍵},⍵}\n",
    "\n",
    "cmpx 'Y e X' 'Y f X' 'Y g X' 'Y h X' 'Y i X' 'Y j X'\n",
    "cmpx 'Y e Z' 'Y f Z' 'Y g Z' 'Y h Z' 'Y i Z' 'Y j Z'"
   ]
  },
  {
   "cell_type": "code",
   "execution_count": null,
   "id": "9bcd7cc3",
   "metadata": {},
   "outputs": [],
   "source": []
  }
 ],
 "metadata": {
  "kernelspec": {
   "display_name": "Dyalog APL",
   "language": "apl",
   "name": "dyalog-kernel"
  },
  "language_info": {
   "file_extension": ".apl",
   "mimetype": "text/apl",
   "name": "APL"
  }
 },
 "nbformat": 4,
 "nbformat_minor": 5
}
